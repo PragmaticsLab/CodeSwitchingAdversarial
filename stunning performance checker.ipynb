{
 "cells": [
  {
   "cell_type": "markdown",
   "id": "biological-magic",
   "metadata": {},
   "source": [
    "# COLAB SETUP"
   ]
  },
  {
   "cell_type": "code",
   "execution_count": null,
   "id": "limited-shift",
   "metadata": {
    "ExecuteTime": {
     "end_time": "2021-02-17T10:54:04.733521Z",
     "start_time": "2021-02-17T10:54:04.709Z"
    }
   },
   "outputs": [],
   "source": [
    "import sys\n",
    "\n",
    "if 'google.colab' in sys.modules:\n",
    "    %cd /content/\n",
    "    ! rm -rf attack-lang-models/\n",
    "    ! git clone https://github.com/birshert/attack-lang-models\n",
    "\n",
    "    %cd attack-lang-models\n",
    "    \n",
    "    ! pip install -r requirements.txt\n",
    "\n",
    "    ! wandb login cc4d63887a7e7a7881709271d5801cddfc6e853c"
   ]
  },
  {
   "cell_type": "markdown",
   "id": "mathematical-mineral",
   "metadata": {},
   "source": [
    "# MAIN BODY"
   ]
  },
  {
   "cell_type": "code",
   "execution_count": null,
   "metadata": {},
   "outputs": [],
   "source": [
    "! python3 main.py"
   ]
  }
 ],
 "metadata": {
  "kernelspec": {
   "display_name": "diploma",
   "language": "python",
   "name": "diploma"
  },
  "language_info": {
   "codemirror_mode": {
    "name": "ipython",
    "version": 3
   },
   "file_extension": ".py",
   "mimetype": "text/x-python",
   "name": "python",
   "nbconvert_exporter": "python",
   "pygments_lexer": "ipython3",
   "version": "3.8.5"
  }
 },
 "nbformat": 4,
 "nbformat_minor": 5
}