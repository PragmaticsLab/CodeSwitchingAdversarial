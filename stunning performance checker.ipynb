{
 "cells": [
  {
   "cell_type": "markdown",
   "id": "biological-magic",
   "metadata": {},
   "source": [
    "# COLAB SETUP"
   ]
  },
  {
   "cell_type": "code",
   "execution_count": null,
   "id": "twenty-letter",
   "metadata": {
    "ExecuteTime": {
     "end_time": "2021-02-17T10:54:04.732541Z",
     "start_time": "2021-02-17T10:54:04.710067Z"
    }
   },
   "outputs": [],
   "source": [
    "from google.colab import drive\n",
    "drive.mount('/content/drive')"
   ]
  },
  {
   "cell_type": "code",
   "execution_count": null,
   "id": "limited-shift",
   "metadata": {
    "ExecuteTime": {
     "end_time": "2021-02-17T10:54:04.733521Z",
     "start_time": "2021-02-17T10:54:04.709Z"
    }
   },
   "outputs": [],
   "source": [
    "import sys, os\n",
    "\n",
    "if 'google.colab' in sys.modules:\n",
    "    ! git clone https://github.com/birshert/attack-lang-models\n",
    "\n",
    "    %cd attack-lang-models\n",
    "    \n",
    "    ! pip install -r requirements.txt\n",
    "    \n",
    "    import nltk\n",
    "    nltk.download('punkt')\n",
    "    \n",
    "    ! cp /content/drive/MyDrive/*.pth /content/attack-lang-models/models/"
   ]
  },
  {
   "cell_type": "markdown",
   "id": "mathematical-mineral",
   "metadata": {},
   "source": [
    "# MAIN BODY"
   ]
  },
  {
   "cell_type": "code",
   "execution_count": 1,
   "id": "intensive-impossible",
   "metadata": {
    "ExecuteTime": {
     "end_time": "2021-04-06T15:22:25.580693Z",
     "start_time": "2021-04-06T15:22:24.854723Z"
    }
   },
   "outputs": [],
   "source": [
    "import model"
   ]
  },
  {
   "cell_type": "code",
   "execution_count": 2,
   "metadata": {
    "ExecuteTime": {
     "end_time": "2021-04-06T15:22:42.072870Z",
     "start_time": "2021-04-06T15:22:25.581521Z"
    }
   },
   "outputs": [],
   "source": [
    "model_ = model.Model()"
   ]
  },
  {
   "cell_type": "code",
   "execution_count": 3,
   "id": "adult-child",
   "metadata": {
    "ExecuteTime": {
     "end_time": "2021-04-06T15:22:42.132890Z",
     "start_time": "2021-04-06T15:22:42.073764Z"
    }
   },
   "outputs": [],
   "source": [
    "model_.russian_forward()"
   ]
  },
  {
   "cell_type": "code",
   "execution_count": 4,
   "id": "impaired-mystery",
   "metadata": {
    "ExecuteTime": {
     "end_time": "2021-04-06T15:22:47.194922Z",
     "start_time": "2021-04-06T15:22:45.319028Z"
    }
   },
   "outputs": [],
   "source": [
    "from transformers import AutoTokenizer\n",
    "\n",
    "tokenizer = AutoTokenizer.from_pretrained('xlm-roberta-base')"
   ]
  },
  {
   "cell_type": "code",
   "execution_count": 5,
   "id": "certified-substitute",
   "metadata": {
    "ExecuteTime": {
     "end_time": "2021-04-06T15:22:47.805449Z",
     "start_time": "2021-04-06T15:22:47.802879Z"
    }
   },
   "outputs": [],
   "source": [
    "import torch\n",
    "\n",
    "a = tokenizer.encode(\"My cat is big.\", return_tensors='pt')\n",
    "b = tokenizer.encode(\"My <mask> is big.\", return_tensors='pt')"
   ]
  },
  {
   "cell_type": "code",
   "execution_count": 6,
   "id": "associate-cooperation",
   "metadata": {
    "ExecuteTime": {
     "end_time": "2021-04-06T15:22:48.691729Z",
     "start_time": "2021-04-06T15:22:48.688899Z"
    }
   },
   "outputs": [],
   "source": [
    "optimizer = torch.optim.Adam(model_.mlm_model.parameters())"
   ]
  },
  {
   "cell_type": "code",
   "execution_count": 7,
   "id": "dutch-thursday",
   "metadata": {
    "ExecuteTime": {
     "end_time": "2021-04-06T15:23:39.941405Z",
     "start_time": "2021-04-06T15:22:49.552462Z"
    }
   },
   "outputs": [
    {
     "name": "stdout",
     "output_type": "stream",
     "text": [
      "token словом, loss -0.65785\n",
      "token сам, loss -0.67669\n",
      "token перспектива, loss -0.66267\n",
      "token перспектива, loss -0.65391\n",
      "token перспектива, loss -0.65921\n",
      "token перспектива, loss -0.65391\n",
      "token перспектива, loss -0.65391\n",
      "token брата, loss -0.54360\n",
      "token брата, loss -0.54360\n",
      "token брата, loss -0.65921\n",
      "token брата, loss -0.65921\n",
      "token брата, loss -0.54360\n",
      "token брата, loss -0.54360\n",
      "token брата, loss -0.65391\n",
      "token брата, loss -0.54360\n",
      "token брата, loss -0.54360\n",
      "token брата, loss -0.54360\n",
      "token брата, loss -0.54360\n",
      "token брата, loss -0.54360\n",
      "token брата, loss -0.68976\n",
      "token брата, loss -0.54360\n"
     ]
    },
    {
     "ename": "KeyboardInterrupt",
     "evalue": "",
     "output_type": "error",
     "traceback": [
      "\u001b[0;31m---------------------------------------------------------------------------\u001b[0m",
      "\u001b[0;31mKeyboardInterrupt\u001b[0m                         Traceback (most recent call last)",
      "\u001b[0;32m<ipython-input-7-49b48a2b2356>\u001b[0m in \u001b[0;36m<module>\u001b[0;34m\u001b[0m\n\u001b[1;32m      3\u001b[0m     \u001b[0mloss\u001b[0m \u001b[0;34m=\u001b[0m \u001b[0mmodel_\u001b[0m\u001b[0;34m(\u001b[0m\u001b[0ma\u001b[0m\u001b[0;34m,\u001b[0m \u001b[0mb\u001b[0m\u001b[0;34m)\u001b[0m\u001b[0;34m\u001b[0m\u001b[0;34m\u001b[0m\u001b[0m\n\u001b[1;32m      4\u001b[0m     \u001b[0mloss\u001b[0m\u001b[0;34m.\u001b[0m\u001b[0mbackward\u001b[0m\u001b[0;34m(\u001b[0m\u001b[0;34m)\u001b[0m\u001b[0;34m\u001b[0m\u001b[0;34m\u001b[0m\u001b[0m\n\u001b[0;32m----> 5\u001b[0;31m     \u001b[0moptimizer\u001b[0m\u001b[0;34m.\u001b[0m\u001b[0mstep\u001b[0m\u001b[0;34m(\u001b[0m\u001b[0;34m)\u001b[0m\u001b[0;34m\u001b[0m\u001b[0;34m\u001b[0m\u001b[0m\n\u001b[0m\u001b[1;32m      6\u001b[0m \u001b[0;34m\u001b[0m\u001b[0m\n\u001b[1;32m      7\u001b[0m     \u001b[0;32mwith\u001b[0m \u001b[0mtorch\u001b[0m\u001b[0;34m.\u001b[0m\u001b[0mno_grad\u001b[0m\u001b[0;34m(\u001b[0m\u001b[0;34m)\u001b[0m\u001b[0;34m:\u001b[0m\u001b[0;34m\u001b[0m\u001b[0;34m\u001b[0m\u001b[0m\n",
      "\u001b[0;32m~/.local/lib/python3.8/site-packages/torch/autograd/grad_mode.py\u001b[0m in \u001b[0;36mdecorate_context\u001b[0;34m(*args, **kwargs)\u001b[0m\n\u001b[1;32m     24\u001b[0m         \u001b[0;32mdef\u001b[0m \u001b[0mdecorate_context\u001b[0m\u001b[0;34m(\u001b[0m\u001b[0;34m*\u001b[0m\u001b[0margs\u001b[0m\u001b[0;34m,\u001b[0m \u001b[0;34m**\u001b[0m\u001b[0mkwargs\u001b[0m\u001b[0;34m)\u001b[0m\u001b[0;34m:\u001b[0m\u001b[0;34m\u001b[0m\u001b[0;34m\u001b[0m\u001b[0m\n\u001b[1;32m     25\u001b[0m             \u001b[0;32mwith\u001b[0m \u001b[0mself\u001b[0m\u001b[0;34m.\u001b[0m\u001b[0m__class__\u001b[0m\u001b[0;34m(\u001b[0m\u001b[0;34m)\u001b[0m\u001b[0;34m:\u001b[0m\u001b[0;34m\u001b[0m\u001b[0;34m\u001b[0m\u001b[0m\n\u001b[0;32m---> 26\u001b[0;31m                 \u001b[0;32mreturn\u001b[0m \u001b[0mfunc\u001b[0m\u001b[0;34m(\u001b[0m\u001b[0;34m*\u001b[0m\u001b[0margs\u001b[0m\u001b[0;34m,\u001b[0m \u001b[0;34m**\u001b[0m\u001b[0mkwargs\u001b[0m\u001b[0;34m)\u001b[0m\u001b[0;34m\u001b[0m\u001b[0;34m\u001b[0m\u001b[0m\n\u001b[0m\u001b[1;32m     27\u001b[0m         \u001b[0;32mreturn\u001b[0m \u001b[0mcast\u001b[0m\u001b[0;34m(\u001b[0m\u001b[0mF\u001b[0m\u001b[0;34m,\u001b[0m \u001b[0mdecorate_context\u001b[0m\u001b[0;34m)\u001b[0m\u001b[0;34m\u001b[0m\u001b[0;34m\u001b[0m\u001b[0m\n\u001b[1;32m     28\u001b[0m \u001b[0;34m\u001b[0m\u001b[0m\n",
      "\u001b[0;32m~/.local/lib/python3.8/site-packages/torch/optim/adam.py\u001b[0m in \u001b[0;36mstep\u001b[0;34m(self, closure)\u001b[0m\n\u001b[1;32m    106\u001b[0m \u001b[0;34m\u001b[0m\u001b[0m\n\u001b[1;32m    107\u001b[0m             \u001b[0mbeta1\u001b[0m\u001b[0;34m,\u001b[0m \u001b[0mbeta2\u001b[0m \u001b[0;34m=\u001b[0m \u001b[0mgroup\u001b[0m\u001b[0;34m[\u001b[0m\u001b[0;34m'betas'\u001b[0m\u001b[0;34m]\u001b[0m\u001b[0;34m\u001b[0m\u001b[0;34m\u001b[0m\u001b[0m\n\u001b[0;32m--> 108\u001b[0;31m             F.adam(params_with_grad,\n\u001b[0m\u001b[1;32m    109\u001b[0m                    \u001b[0mgrads\u001b[0m\u001b[0;34m,\u001b[0m\u001b[0;34m\u001b[0m\u001b[0;34m\u001b[0m\u001b[0m\n\u001b[1;32m    110\u001b[0m                    \u001b[0mexp_avgs\u001b[0m\u001b[0;34m,\u001b[0m\u001b[0;34m\u001b[0m\u001b[0;34m\u001b[0m\u001b[0m\n",
      "\u001b[0;32m~/.local/lib/python3.8/site-packages/torch/optim/functional.py\u001b[0m in \u001b[0;36madam\u001b[0;34m(params, grads, exp_avgs, exp_avg_sqs, max_exp_avg_sqs, state_steps, amsgrad, beta1, beta2, lr, weight_decay, eps)\u001b[0m\n\u001b[1;32m     92\u001b[0m             \u001b[0mdenom\u001b[0m \u001b[0;34m=\u001b[0m \u001b[0;34m(\u001b[0m\u001b[0mmax_exp_avg_sq\u001b[0m\u001b[0;34m.\u001b[0m\u001b[0msqrt\u001b[0m\u001b[0;34m(\u001b[0m\u001b[0;34m)\u001b[0m \u001b[0;34m/\u001b[0m \u001b[0mmath\u001b[0m\u001b[0;34m.\u001b[0m\u001b[0msqrt\u001b[0m\u001b[0;34m(\u001b[0m\u001b[0mbias_correction2\u001b[0m\u001b[0;34m)\u001b[0m\u001b[0;34m)\u001b[0m\u001b[0;34m.\u001b[0m\u001b[0madd_\u001b[0m\u001b[0;34m(\u001b[0m\u001b[0meps\u001b[0m\u001b[0;34m)\u001b[0m\u001b[0;34m\u001b[0m\u001b[0;34m\u001b[0m\u001b[0m\n\u001b[1;32m     93\u001b[0m         \u001b[0;32melse\u001b[0m\u001b[0;34m:\u001b[0m\u001b[0;34m\u001b[0m\u001b[0;34m\u001b[0m\u001b[0m\n\u001b[0;32m---> 94\u001b[0;31m             \u001b[0mdenom\u001b[0m \u001b[0;34m=\u001b[0m \u001b[0;34m(\u001b[0m\u001b[0mexp_avg_sq\u001b[0m\u001b[0;34m.\u001b[0m\u001b[0msqrt\u001b[0m\u001b[0;34m(\u001b[0m\u001b[0;34m)\u001b[0m \u001b[0;34m/\u001b[0m \u001b[0mmath\u001b[0m\u001b[0;34m.\u001b[0m\u001b[0msqrt\u001b[0m\u001b[0;34m(\u001b[0m\u001b[0mbias_correction2\u001b[0m\u001b[0;34m)\u001b[0m\u001b[0;34m)\u001b[0m\u001b[0;34m.\u001b[0m\u001b[0madd_\u001b[0m\u001b[0;34m(\u001b[0m\u001b[0meps\u001b[0m\u001b[0;34m)\u001b[0m\u001b[0;34m\u001b[0m\u001b[0;34m\u001b[0m\u001b[0m\n\u001b[0m\u001b[1;32m     95\u001b[0m \u001b[0;34m\u001b[0m\u001b[0m\n\u001b[1;32m     96\u001b[0m         \u001b[0mstep_size\u001b[0m \u001b[0;34m=\u001b[0m \u001b[0mlr\u001b[0m \u001b[0;34m/\u001b[0m \u001b[0mbias_correction1\u001b[0m\u001b[0;34m\u001b[0m\u001b[0;34m\u001b[0m\u001b[0m\n",
      "\u001b[0;31mKeyboardInterrupt\u001b[0m: "
     ]
    }
   ],
   "source": [
    "for i in range(30):\n",
    "    optimizer.zero_grad()\n",
    "    loss = model_(a, b)\n",
    "    loss.backward()\n",
    "    optimizer.step()\n",
    "\n",
    "    with torch.no_grad():\n",
    "        logits = model_.mlm_model(b).logits\n",
    "        token = torch.argmax(logits[:, torch.where(b == tokenizer.mask_token_id)[1], :]).item()\n",
    "\n",
    "        print(f'token {tokenizer.decode([token])}, loss {loss.item():.5f}')"
   ]
  },
  {
   "cell_type": "code",
   "execution_count": 11,
   "id": "square-karma",
   "metadata": {
    "ExecuteTime": {
     "end_time": "2021-04-06T15:24:07.115363Z",
     "start_time": "2021-04-06T15:24:06.810757Z"
    }
   },
   "outputs": [],
   "source": [
    "import matplotlib.pyplot as plt\n",
    "import seaborn as sns\n",
    "\n",
    "sns.set(style='darkgrid')"
   ]
  },
  {
   "cell_type": "code",
   "execution_count": 23,
   "id": "mental-irish",
   "metadata": {
    "ExecuteTime": {
     "end_time": "2021-04-06T15:25:27.181321Z",
     "start_time": "2021-04-06T15:25:27.120241Z"
    }
   },
   "outputs": [
    {
     "data": {
      "text/plain": [
       "tensor(0.6534)"
      ]
     },
     "execution_count": 23,
     "metadata": {},
     "output_type": "execute_result"
    }
   ],
   "source": [
    "a = tokenizer.encode(\"My cat is big.\", return_tensors='pt')\n",
    "b = tokenizer.encode(\"My животное is big.\", return_tensors='pt')\n",
    "\n",
    "t1 = model_.emb_model(a).pooler_output\n",
    "t2 = model_.emb_model(b).pooler_output\n",
    "\n",
    "normalized_embeddings_1 = torch.nn.functional.normalize(t1, p=2)\n",
    "normalized_embeddings_2 = torch.nn.functional.normalize(t2, p=2)\n",
    "\n",
    "torch.sum(normalized_embeddings_1 * normalized_embeddings_2, dim=1).mean()"
   ]
  }
 ],
 "metadata": {
  "kernelspec": {
   "display_name": "diploma",
   "language": "python",
   "name": "diploma"
  },
  "language_info": {
   "codemirror_mode": {
    "name": "ipython",
    "version": 3
   },
   "file_extension": ".py",
   "mimetype": "text/x-python",
   "name": "python",
   "nbconvert_exporter": "python",
   "pygments_lexer": "ipython3",
   "version": "3.8.5"
  }
 },
 "nbformat": 4,
 "nbformat_minor": 5
}
