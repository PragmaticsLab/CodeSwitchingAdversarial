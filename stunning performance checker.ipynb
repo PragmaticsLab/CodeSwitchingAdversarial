{
 "cells": [
  {
   "cell_type": "code",
   "execution_count": 1,
   "id": "intensive-impossible",
   "metadata": {
    "ExecuteTime": {
     "end_time": "2021-02-13T15:37:09.345736Z",
     "start_time": "2021-02-13T15:37:08.718801Z"
    }
   },
   "outputs": [],
   "source": [
    "import model"
   ]
  },
  {
   "cell_type": "code",
   "execution_count": 2,
   "id": "miniature-deputy",
   "metadata": {
    "ExecuteTime": {
     "end_time": "2021-02-13T15:37:25.072316Z",
     "start_time": "2021-02-13T15:37:09.346630Z"
    }
   },
   "outputs": [],
   "source": [
    "model_ = model.Model()\n",
    "model_.load_models()\n",
    "model_.to('cuda:0')"
   ]
  },
  {
   "cell_type": "code",
   "execution_count": 3,
   "id": "impaired-mystery",
   "metadata": {
    "ExecuteTime": {
     "end_time": "2021-02-13T15:37:26.909514Z",
     "start_time": "2021-02-13T15:37:25.073159Z"
    }
   },
   "outputs": [],
   "source": [
    "from transformers import AutoTokenizer\n",
    "\n",
    "tokenizer = AutoTokenizer.from_pretrained('xlm-roberta-base')"
   ]
  },
  {
   "cell_type": "code",
   "execution_count": 15,
   "id": "certified-substitute",
   "metadata": {
    "ExecuteTime": {
     "end_time": "2021-02-13T15:38:46.445474Z",
     "start_time": "2021-02-13T15:38:46.442338Z"
    }
   },
   "outputs": [],
   "source": [
    "import torch\n",
    "\n",
    "a = tokenizer.encode(\"I went fishing and I caught several big fish\", return_tensors='pt', max_length=100, padding='max_length').flatten()\n",
    "b = tokenizer.encode(\"I went fishing and I <mask> several big fish\", return_tensors='pt', max_length=100, padding='max_length').flatten()\n",
    "\n",
    "c = torch.stack((a, a)).to('cuda:0')\n",
    "d = torch.stack((b, b)).to('cuda:0')"
   ]
  },
  {
   "cell_type": "code",
   "execution_count": 9,
   "id": "finished-chest",
   "metadata": {
    "ExecuteTime": {
     "end_time": "2021-02-13T15:38:30.296161Z",
     "start_time": "2021-02-13T15:38:30.041976Z"
    }
   },
   "outputs": [],
   "source": [
    "model_.set_nonrussian_grad_zero()"
   ]
  },
  {
   "cell_type": "code",
   "execution_count": 16,
   "id": "dutch-thursday",
   "metadata": {
    "ExecuteTime": {
     "end_time": "2021-02-13T15:38:48.722034Z",
     "start_time": "2021-02-13T15:38:48.672891Z"
    }
   },
   "outputs": [],
   "source": [
    "a = model_(c, d)"
   ]
  },
  {
   "cell_type": "code",
   "execution_count": 17,
   "id": "northern-aircraft",
   "metadata": {
    "ExecuteTime": {
     "end_time": "2021-02-13T15:38:49.041874Z",
     "start_time": "2021-02-13T15:38:49.016078Z"
    }
   },
   "outputs": [
    {
     "name": "stdout",
     "output_type": "stream",
     "text": [
      "[torch.Size([2, 100, 250002]), torch.Size([250002])]\n",
      "[torch.Size([2, 100, 250002])]\n",
      "Linear(in_features=768, out_features=250002, bias=True)\n",
      "[torch.Size([2, 100, 250002]), torch.Size([250002])]\n",
      "[torch.Size([2, 100, 250002])]\n",
      "Linear(in_features=768, out_features=250002, bias=True)\n"
     ]
    }
   ],
   "source": [
    "a.backward()"
   ]
  },
  {
   "cell_type": "code",
   "execution_count": null,
   "id": "selective-incentive",
   "metadata": {},
   "outputs": [],
   "source": []
  }
 ],
 "metadata": {
  "kernelspec": {
   "display_name": "diploma",
   "language": "python",
   "name": "diploma"
  },
  "language_info": {
   "codemirror_mode": {
    "name": "ipython",
    "version": 3
   },
   "file_extension": ".py",
   "mimetype": "text/x-python",
   "name": "python",
   "nbconvert_exporter": "python",
   "pygments_lexer": "ipython3",
   "version": "3.8.5"
  }
 },
 "nbformat": 4,
 "nbformat_minor": 5
}
