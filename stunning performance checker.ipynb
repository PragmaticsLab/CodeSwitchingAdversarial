{
 "cells": [
  {
   "cell_type": "markdown",
   "id": "biological-magic",
   "metadata": {},
   "source": [
    "# COLAB SETUP"
   ]
  },
  {
   "cell_type": "code",
   "execution_count": null,
   "id": "twenty-letter",
   "metadata": {
    "ExecuteTime": {
     "end_time": "2021-02-17T10:54:04.732541Z",
     "start_time": "2021-02-17T10:54:04.710067Z"
    }
   },
   "outputs": [],
   "source": [
    "from google.colab import drive\n",
    "drive.mount('/content/drive')"
   ]
  },
  {
   "cell_type": "code",
   "execution_count": null,
   "id": "limited-shift",
   "metadata": {
    "ExecuteTime": {
     "end_time": "2021-02-17T10:54:04.733521Z",
     "start_time": "2021-02-17T10:54:04.709Z"
    }
   },
   "outputs": [],
   "source": [
    "import sys, os\n",
    "\n",
    "if 'google.colab' in sys.modules:\n",
    "    ! git clone https://github.com/birshert/attack-lang-models\n",
    "\n",
    "    %cd attack-lang-models\n",
    "    \n",
    "    ! pip install -r requirements.txt\n",
    "    \n",
    "    import nltk\n",
    "    nltk.download('punkt')\n",
    "    \n",
    "    ! cp /content/drive/MyDrive/*.pth /content/attack-lang-models/models/"
   ]
  },
  {
   "cell_type": "markdown",
   "id": "mathematical-mineral",
   "metadata": {},
   "source": [
    "# MAIN BODY"
   ]
  },
  {
   "cell_type": "code",
   "execution_count": 1,
   "id": "intensive-impossible",
   "metadata": {
    "ExecuteTime": {
     "end_time": "2021-02-17T11:17:37.719010Z",
     "start_time": "2021-02-17T11:17:37.038509Z"
    }
   },
   "outputs": [],
   "source": [
    "import model"
   ]
  },
  {
   "cell_type": "code",
   "execution_count": 2,
   "id": "miniature-deputy",
   "metadata": {
    "ExecuteTime": {
     "end_time": "2021-02-17T11:17:52.705375Z",
     "start_time": "2021-02-17T11:17:38.138102Z"
    }
   },
   "outputs": [],
   "source": [
    "model_ = model.Model()\n",
    "model_.load_models()"
   ]
  },
  {
   "cell_type": "code",
   "execution_count": 3,
   "id": "adult-child",
   "metadata": {
    "ExecuteTime": {
     "end_time": "2021-02-17T11:17:52.827159Z",
     "start_time": "2021-02-17T11:17:52.706307Z"
    }
   },
   "outputs": [],
   "source": [
    "model_.russian_forward()\n",
    "model_.russian_hook()"
   ]
  },
  {
   "cell_type": "code",
   "execution_count": 4,
   "id": "impaired-mystery",
   "metadata": {
    "ExecuteTime": {
     "end_time": "2021-02-17T11:17:55.431809Z",
     "start_time": "2021-02-17T11:17:52.828239Z"
    }
   },
   "outputs": [],
   "source": [
    "from transformers import AutoTokenizer\n",
    "\n",
    "tokenizer = AutoTokenizer.from_pretrained('xlm-roberta-base')"
   ]
  },
  {
   "cell_type": "code",
   "execution_count": 8,
   "id": "certified-substitute",
   "metadata": {
    "ExecuteTime": {
     "end_time": "2021-02-17T11:33:53.088194Z",
     "start_time": "2021-02-17T11:33:53.085962Z"
    }
   },
   "outputs": [],
   "source": [
    "import torch\n",
    "\n",
    "a = tokenizer.encode(\"My cat is big.\", return_tensors='pt', max_length=10, padding='max_length')\n",
    "b = tokenizer.encode(\"My <mask> is big.\", return_tensors='pt', max_length=10, padding='max_length')"
   ]
  },
  {
   "cell_type": "code",
   "execution_count": 9,
   "id": "associate-cooperation",
   "metadata": {
    "ExecuteTime": {
     "end_time": "2021-02-17T11:33:53.944030Z",
     "start_time": "2021-02-17T11:33:53.897890Z"
    }
   },
   "outputs": [],
   "source": [
    "optimizer = torch.optim.Adam(model_.mlm_model.parameters())"
   ]
  },
  {
   "cell_type": "code",
   "execution_count": 10,
   "id": "dutch-thursday",
   "metadata": {
    "ExecuteTime": {
     "end_time": "2021-02-17T11:34:59.391325Z",
     "start_time": "2021-02-17T11:33:54.319408Z"
    }
   },
   "outputs": [
    {
     "name": "stdout",
     "output_type": "stream",
     "text": [
      "token справедливо, loss 0.24038\n",
      "token ал, loss 0.24038\n",
      "token справедливо, loss 0.20827\n",
      "token явно, loss 0.22216\n",
      "token статистика, loss 0.21980\n",
      "token сына, loss 0.23495\n",
      "token статистика, loss 0.20693\n",
      "token брата, loss 0.30854\n",
      "token брата, loss 0.21616\n",
      "token брата, loss 0.30854\n",
      "token брата, loss 0.25204\n",
      "token сына, loss 0.30854\n",
      "token сына, loss 0.21616\n",
      "token сына, loss 0.21917\n",
      "token тура, loss 0.25204\n",
      "token сына, loss 0.25204\n",
      "token сына, loss 0.22359\n",
      "token тура, loss 0.26160\n",
      "token неба, loss 0.22657\n",
      "token неба, loss 0.25204\n",
      "token сына, loss 0.21818\n",
      "token сына, loss 0.25204\n",
      "token сына, loss 0.21818\n",
      "token сына, loss 0.25204\n",
      "token неба, loss 0.25204\n",
      "token неба, loss 0.21257\n",
      "token сына, loss 0.22657\n",
      "token сына, loss 0.21367\n",
      "token <s>, loss 0.21201\n",
      "token школу, loss 0.21153\n"
     ]
    }
   ],
   "source": [
    "for i in range(30):\n",
    "    optimizer.zero_grad()\n",
    "    loss = model_(a, b)\n",
    "    loss.backward()\n",
    "    optimizer.step()\n",
    "    \n",
    "    with torch.no_grad():\n",
    "        logits = model_.mlm_model(b).logits\n",
    "        token = torch.argmax(logits[:, torch.where(b == tokenizer.mask_token_id)[1], :]).item()\n",
    "        \n",
    "        print(f'token {tokenizer.decode([token])}, loss {loss.item():.5f}')"
   ]
  },
  {
   "cell_type": "code",
   "execution_count": 8,
   "id": "square-karma",
   "metadata": {
    "ExecuteTime": {
     "end_time": "2021-02-17T10:57:14.118490Z",
     "start_time": "2021-02-17T10:57:13.861105Z"
    }
   },
   "outputs": [],
   "source": [
    "import matplotlib.pyplot as plt\n",
    "import seaborn as sns\n",
    "\n",
    "sns.set(style='darkgrid')"
   ]
  },
  {
   "cell_type": "code",
   "execution_count": 19,
   "id": "mental-irish",
   "metadata": {
    "ExecuteTime": {
     "end_time": "2021-02-17T11:10:23.693206Z",
     "start_time": "2021-02-17T11:10:23.503974Z"
    }
   },
   "outputs": [
    {
     "data": {
      "text/plain": [
       "tensor([[0.8283]])"
      ]
     },
     "execution_count": 19,
     "metadata": {},
     "output_type": "execute_result"
    }
   ],
   "source": [
    "a = tokenizer.encode(\"My cat is big.\", return_tensors='pt', max_length=30, padding='max_length')\n",
    "b = tokenizer.encode(\"My попугай is big.\", return_tensors='pt', max_length=30, padding='max_length')\n",
    "\n",
    "t1 = model_.emb_model(a).pooler_output\n",
    "t2 = model_.emb_model(b).pooler_output\n",
    "\n",
    "normalized_embeddings_1 = torch.nn.functional.normalize(t1, p=2)\n",
    "normalized_embeddings_2 = torch.nn.functional.normalize(t2, p=2)\n",
    "\n",
    "normalized_embeddings_1 @ normalized_embeddings_2.transpose(1, 0)"
   ]
  },
  {
   "cell_type": "code",
   "execution_count": 9,
   "id": "covered-stability",
   "metadata": {
    "ExecuteTime": {
     "end_time": "2021-02-17T10:57:14.387652Z",
     "start_time": "2021-02-17T10:57:14.119376Z"
    }
   },
   "outputs": [
    {
     "data": {
      "image/png": "[encoded data removed]",
      "text/plain": [
       "<Figure size 360x360 with 1 Axes>"
      ]
     },
     "metadata": {},
     "output_type": "display_data"
    }
   ],
   "source": [
    "sns.displot(logits[:, torch.where(b == tokenizer.mask_token_id)[1], :].flatten()[model_.russian_tokens_mask])\n",
    "plt.show()"
   ]
  },
  {
   "cell_type": "code",
   "execution_count": 13,
   "id": "selective-incentive",
   "metadata": {
    "ExecuteTime": {
     "end_time": "2021-02-17T11:16:47.766804Z",
     "start_time": "2021-02-17T11:16:47.750970Z"
    }
   },
   "outputs": [
    {
     "data": {
      "text/plain": [
       "tensor([[ 0.1505,  0.0263, -0.1766,  ..., -0.1548, -0.0403,  0.0768],\n",
       "        [ 0.2227,  0.0364, -0.0573,  ...,  0.3838,  0.0684,  0.1920],\n",
       "        [ 0.1024,  0.2529, -0.1238,  ...,  0.1652, -0.0390,  0.2206],\n",
       "        ...,\n",
       "        [ 0.1360,  0.0983,  0.0132,  ..., -0.0748,  0.0534, -0.0573],\n",
       "        [-0.1146,  0.0423,  0.0690,  ..., -0.0237,  0.0953,  0.0247],\n",
       "        [-0.1553, -0.1293,  0.0994,  ...,  0.2360,  0.0583,  0.2085]],\n",
       "       grad_fn=<IndexBackward>)"
      ]
     },
     "execution_count": 13,
     "metadata": {},
     "output_type": "execute_result"
    }
   ],
   "source": [
    "model_.mlm_model.lm_head.decoder.weight[model_.russian_tokens_mask]"
   ]
  }
 ],
 "metadata": {
  "kernelspec": {
   "display_name": "diploma",
   "language": "python",
   "name": "diploma"
  },
  "language_info": {
   "codemirror_mode": {
    "name": "ipython",
    "version": 3
   },
   "file_extension": ".py",
   "mimetype": "text/x-python",
   "name": "python",
   "nbconvert_exporter": "python",
   "pygments_lexer": "ipython3",
   "version": "3.8.5"
  }
 },
 "nbformat": 4,
 "nbformat_minor": 5
}
