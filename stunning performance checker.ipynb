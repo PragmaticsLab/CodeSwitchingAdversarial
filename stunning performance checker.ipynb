{
 "cells": [
  {
   "cell_type": "markdown",
   "id": "biological-magic",
   "metadata": {},
   "source": [
    "# COLAB SETUP"
   ]
  },
  {
   "cell_type": "code",
   "execution_count": null,
   "id": "twenty-letter",
   "metadata": {},
   "outputs": [],
   "source": [
    "from google.colab import drive\n",
    "drive.mount('/content/drive')"
   ]
  },
  {
   "cell_type": "code",
   "execution_count": null,
   "id": "corporate-alberta",
   "metadata": {},
   "outputs": [],
   "source": [
    "! git clone https://github.com/birshert/attack-lang-models"
   ]
  },
  {
   "cell_type": "code",
   "execution_count": null,
   "id": "ecological-toner",
   "metadata": {},
   "outputs": [],
   "source": [
    "%%bash\n",
    "\n",
    "pip install -r requirements.txt\n",
    "\n",
    "cp /content/drive/MyDrive/*.pth /content/attack-lang-models/models/"
   ]
  },
  {
   "cell_type": "markdown",
   "id": "mathematical-mineral",
   "metadata": {},
   "source": [
    "# MAIN BODY"
   ]
  },
  {
   "cell_type": "code",
   "execution_count": null,
   "id": "intensive-impossible",
   "metadata": {
    "ExecuteTime": {
     "end_time": "2021-02-14T07:55:10.509734Z",
     "start_time": "2021-02-14T07:55:07.130544Z"
    }
   },
   "outputs": [],
   "source": [
    "import model"
   ]
  },
  {
   "cell_type": "code",
   "execution_count": null,
   "id": "miniature-deputy",
   "metadata": {
    "ExecuteTime": {
     "end_time": "2021-02-14T07:55:40.086373Z",
     "start_time": "2021-02-14T07:55:12.152736Z"
    }
   },
   "outputs": [],
   "source": [
    "model_ = model.Model()\n",
    "model_.load_models()\n",
    "model_.to('cuda:0')"
   ]
  },
  {
   "cell_type": "code",
   "execution_count": null,
   "id": "impaired-mystery",
   "metadata": {
    "ExecuteTime": {
     "end_time": "2021-02-14T07:55:45.264876Z",
     "start_time": "2021-02-14T07:55:42.002621Z"
    }
   },
   "outputs": [],
   "source": [
    "from transformers import AutoTokenizer\n",
    "\n",
    "tokenizer = AutoTokenizer.from_pretrained('xlm-roberta-base')"
   ]
  },
  {
   "cell_type": "code",
   "execution_count": null,
   "id": "certified-substitute",
   "metadata": {
    "ExecuteTime": {
     "end_time": "2021-02-14T07:55:49.052236Z",
     "start_time": "2021-02-14T07:55:49.046902Z"
    }
   },
   "outputs": [],
   "source": [
    "import torch\n",
    "\n",
    "a = tokenizer.encode(\"I went fishing and I caught several big fish\", return_tensors='pt', max_length=100, padding='max_length').flatten()\n",
    "b = tokenizer.encode(\"I went fishing and I <mask> several big fish\", return_tensors='pt', max_length=100, padding='max_length').flatten()\n",
    "\n",
    "c = torch.stack((a, a)).to('cuda:0')\n",
    "d = torch.stack((b, b)).to('cuda:0')"
   ]
  },
  {
   "cell_type": "code",
   "execution_count": null,
   "id": "finished-chest",
   "metadata": {
    "ExecuteTime": {
     "end_time": "2021-02-14T07:55:57.742698Z",
     "start_time": "2021-02-14T07:55:57.729593Z"
    }
   },
   "outputs": [],
   "source": [
    "model_.russian_forward()\n",
    "model_.set_nonrussian_grad_zero()"
   ]
  },
  {
   "cell_type": "code",
   "execution_count": null,
   "id": "associate-cooperation",
   "metadata": {
    "ExecuteTime": {
     "end_time": "2021-02-14T08:00:44.436160Z",
     "start_time": "2021-02-14T08:00:44.433400Z"
    }
   },
   "outputs": [],
   "source": [
    "optimizer = torch.optim.Adam(model_.parameters())"
   ]
  },
  {
   "cell_type": "code",
   "execution_count": null,
   "id": "dutch-thursday",
   "metadata": {
    "ExecuteTime": {
     "end_time": "2021-02-14T08:00:47.532851Z",
     "start_time": "2021-02-14T08:00:47.445104Z"
    }
   },
   "outputs": [],
   "source": [
    "a = model_(c, d)"
   ]
  },
  {
   "cell_type": "code",
   "execution_count": null,
   "id": "northern-aircraft",
   "metadata": {
    "ExecuteTime": {
     "end_time": "2021-02-14T08:00:48.057508Z",
     "start_time": "2021-02-14T08:00:47.974162Z"
    }
   },
   "outputs": [],
   "source": [
    "a.backward()"
   ]
  },
  {
   "cell_type": "code",
   "execution_count": null,
   "id": "american-morris",
   "metadata": {
    "ExecuteTime": {
     "end_time": "2021-02-14T08:00:52.566902Z",
     "start_time": "2021-02-14T08:00:52.383042Z"
    }
   },
   "outputs": [],
   "source": [
    "optimizer.step()"
   ]
  },
  {
   "cell_type": "code",
   "execution_count": null,
   "id": "selective-incentive",
   "metadata": {
    "ExecuteTime": {
     "end_time": "2021-02-14T07:56:25.450003Z",
     "start_time": "2021-02-14T07:56:25.434015Z"
    }
   },
   "outputs": [],
   "source": [
    "model_.mlm_model.lm_head.decoder.weight"
   ]
  },
  {
   "cell_type": "code",
   "execution_count": null,
   "id": "running-facing",
   "metadata": {
    "ExecuteTime": {
     "end_time": "2021-02-14T07:58:37.506661Z",
     "start_time": "2021-02-14T07:58:37.483255Z"
    }
   },
   "outputs": [],
   "source": [
    "logits = model_.mlm_model(tokenizer.encode(\"I went fishing and I <mask> several big fish\", return_tensors='pt').to('cuda:0')).logits"
   ]
  },
  {
   "cell_type": "code",
   "execution_count": null,
   "id": "separated-round",
   "metadata": {
    "ExecuteTime": {
     "end_time": "2021-02-14T07:59:16.969580Z",
     "start_time": "2021-02-14T07:59:16.952140Z"
    }
   },
   "outputs": [],
   "source": [
    "tokenizer.decode([torch.argmax(logits[:, torch.where(tokenizer.encode(\"I went fishing and I <mask> several big fish\", return_tensors='pt') == tokenizer.mask_token_id)[1], :]).item()])"
   ]
  }
 ],
 "metadata": {
  "kernelspec": {
   "display_name": "diploma",
   "language": "python",
   "name": "diploma"
  },
  "language_info": {
   "codemirror_mode": {
    "name": "ipython",
    "version": 3
   },
   "file_extension": ".py",
   "mimetype": "text/x-python",
   "name": "python",
   "nbconvert_exporter": "python",
   "pygments_lexer": "ipython3",
   "version": "3.8.5"
  }
 },
 "nbformat": 4,
 "nbformat_minor": 5
}
