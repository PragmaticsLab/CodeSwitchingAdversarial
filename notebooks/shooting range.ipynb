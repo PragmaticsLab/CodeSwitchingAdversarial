{
 "cells": [
  {
   "cell_type": "markdown",
   "id": "entire-discrimination",
   "metadata": {},
   "source": [
    "# PLAN\n",
    "\n",
    " - Диалоговый датасет\n",
    "     - BANKING77\n",
    "     - CLINC150\n",
    "     - HWU64\n",
    "     - https://github.com/google-research-datasets/dstc8-schema-guided-dialogue\n",
    " - Генератор (XLM-R)\n",
    "     - придумать как генерировать токен на другом языке\n",
    "     - применить к задачке\n",
    " - LABSE для полученных и исходных предложений\n",
    "     - сделать кастомный класс лосса"
   ]
  },
  {
   "cell_type": "markdown",
   "id": "eight-immune",
   "metadata": {},
   "source": [
    "Для XLM-R:\n",
    "\n",
    "Занулить веса на выходе для всех языков кроме русского (пройтись по всем токенам и регулярочкой выявить те токены, которые относятся к русскому). Перед backward занулять градиенты по всем токенам не из русского, ибо торч не даст ставить requires_grad на отдельную часть тензора.\n",
    "\n",
    "Как вариант - написать обертку над моделью, которая будет иметь меньший размер выходной головы, потом делать новый тензор с нулями на месте других языков и выходом модели для русского."
   ]
  },
  {
   "cell_type": "code",
   "execution_count": 15,
   "id": "demographic-lotus",
   "metadata": {
    "ExecuteTime": {
     "end_time": "2021-02-11T14:21:31.278260Z",
     "start_time": "2021-02-11T14:21:31.081959Z"
    }
   },
   "outputs": [],
   "source": [
    "import json\n",
    "import numpy as np\n",
    "\n",
    "import matplotlib.pyplot as plt\n",
    "import seaborn as sns\n",
    "\n",
    "import torch\n",
    "\n",
    "import sys\n",
    "\n",
    "sns.set(style='darkgrid', rc={'figure.figsize': (16, 9)})\n",
    "sys.path.append('..')\n",
    "\n",
    "with open('../data/dstc_utterances.json') as f:\n",
    "    data = json.load(f)\n",
    "\n",
    "texts, intents = zip(*((elem['text'], elem['intent']) for elem in data))"
   ]
  },
  {
   "cell_type": "code",
   "execution_count": 2,
   "id": "thick-dance",
   "metadata": {
    "ExecuteTime": {
     "end_time": "2021-02-11T14:19:36.851476Z",
     "start_time": "2021-02-11T14:19:36.829316Z"
    }
   },
   "outputs": [
    {
     "data": {
      "text/plain": [
       "(61767, 46)"
      ]
     },
     "execution_count": 2,
     "metadata": {},
     "output_type": "execute_result"
    }
   ],
   "source": [
    "len(texts), len(np.unique(intents))"
   ]
  },
  {
   "cell_type": "code",
   "execution_count": 3,
   "id": "rough-harvest",
   "metadata": {
    "ExecuteTime": {
     "end_time": "2021-02-11T14:19:38.154285Z",
     "start_time": "2021-02-11T14:19:37.533619Z"
    }
   },
   "outputs": [
    {
     "data": {
      "image/png": "[encoded data removed]",
      "text/plain": [
       "<Figure size 360x360 with 1 Axes>"
      ]
     },
     "metadata": {},
     "output_type": "display_data"
    }
   ],
   "source": [
    "sns.displot(intents)\n",
    "plt.xticks([])\n",
    "plt.show()"
   ]
  },
  {
   "cell_type": "code",
   "execution_count": 4,
   "id": "unable-restaurant",
   "metadata": {
    "ExecuteTime": {
     "end_time": "2021-02-11T14:19:57.446374Z",
     "start_time": "2021-02-11T14:19:39.654135Z"
    }
   },
   "outputs": [],
   "source": [
    "from transformers import AutoTokenizer, AutoModelForMaskedLM\n",
    "\n",
    "model_name = 'xlm-roberta-base'\n",
    "\n",
    "tokenizer = AutoTokenizer.from_pretrained(model_name)\n",
    "\n",
    "model = AutoModelForMaskedLM.from_pretrained(model_name)"
   ]
  },
  {
   "cell_type": "code",
   "execution_count": 8,
   "id": "lucky-receptor",
   "metadata": {
    "ExecuteTime": {
     "end_time": "2021-02-11T14:20:38.422488Z",
     "start_time": "2021-02-11T14:20:36.994684Z"
    }
   },
   "outputs": [],
   "source": [
    "import regex\n",
    "\n",
    "def is_cyrillic(s: str):\n",
    "    return bool(regex.search(r'\\p{IsCyrillic}', s))\n",
    "\n",
    "\n",
    "russian_tokens_mask = np.zeros(model.lm_head.decoder.weight.shape[0])\n",
    "\n",
    "for token in range(model.lm_head.decoder.weight.shape[0]):\n",
    "    if is_cyrillic(tokenizer.decode([token])):\n",
    "        russian_tokens_mask[token] = 1"
   ]
  },
  {
   "cell_type": "code",
   "execution_count": 9,
   "id": "communist-arcade",
   "metadata": {
    "ExecuteTime": {
     "end_time": "2021-02-11T14:20:40.520014Z",
     "start_time": "2021-02-11T14:20:40.518306Z"
    }
   },
   "outputs": [],
   "source": [
    "russian_tokens_mask = russian_tokens_mask.astype(bool)"
   ]
  },
  {
   "cell_type": "code",
   "execution_count": 10,
   "id": "graphic-sellers",
   "metadata": {
    "ExecuteTime": {
     "end_time": "2021-02-11T14:20:41.328104Z",
     "start_time": "2021-02-11T14:20:41.167906Z"
    }
   },
   "outputs": [
    {
     "data": {
      "text/plain": [
       "31671"
      ]
     },
     "execution_count": 10,
     "metadata": {},
     "output_type": "execute_result"
    }
   ],
   "source": [
    "russian_tokens_mask.sum()"
   ]
  },
  {
   "cell_type": "code",
   "execution_count": 11,
   "id": "conceptual-conflict",
   "metadata": {
    "ExecuteTime": {
     "end_time": "2021-02-11T14:20:43.154212Z",
     "start_time": "2021-02-11T14:20:43.100238Z"
    }
   },
   "outputs": [],
   "source": [
    "with torch.no_grad():\n",
    "    model.lm_head.decoder.weight[~russian_tokens_mask] = 0"
   ]
  },
  {
   "cell_type": "code",
   "execution_count": 170,
   "id": "protecting-updating",
   "metadata": {
    "ExecuteTime": {
     "end_time": "2021-02-11T16:32:43.723234Z",
     "start_time": "2021-02-11T16:32:43.593955Z"
    }
   },
   "outputs": [
    {
     "data": {
      "text/plain": [
       "tensor(59., grad_fn=<SumBackward0>)"
      ]
     },
     "execution_count": 170,
     "metadata": {},
     "output_type": "execute_result"
    }
   ],
   "source": [
    "sequence = f'I have a {tokenizer.mask_token}.'\n",
    "\n",
    "inputs = tokenizer.encode(sequence, return_tensors='pt')\n",
    "mask_token_index = torch.where(inputs == tokenizer.mask_token_id)[1]\n",
    "\n",
    "token_logits = model(inputs).logits\n",
    "mask_token_logits = token_logits[0, mask_token_index, :]\n",
    "\n",
    "torch.sum(torch.nn.functional.gumbel_softmax(mask_token_logits, hard=True) * torch.arange(0, mask_token_logits.shape[1]))"
   ]
  },
  {
   "cell_type": "code",
   "execution_count": 186,
   "id": "central-short",
   "metadata": {
    "ExecuteTime": {
     "end_time": "2021-02-11T16:35:00.859281Z",
     "start_time": "2021-02-11T16:35:00.851315Z"
    }
   },
   "outputs": [],
   "source": [
    "outputs = inputs.float()\n",
    "outputs[inputs == tokenizer.mask_token_id] = torch.sum(torch.nn.functional.gumbel_softmax(mask_token_logits, hard=True) * torch.arange(0, mask_token_logits.shape[1]))"
   ]
  },
  {
   "cell_type": "code",
   "execution_count": 187,
   "id": "productive-prototype",
   "metadata": {
    "ExecuteTime": {
     "end_time": "2021-02-11T16:35:01.207968Z",
     "start_time": "2021-02-11T16:35:01.205645Z"
    }
   },
   "outputs": [
    {
     "data": {
      "text/plain": [
       "tensor([[  0.,  87., 765.,  10., 983.,   6.,   5.,   2.]],\n",
       "       grad_fn=<IndexPutBackward>)"
      ]
     },
     "execution_count": 187,
     "metadata": {},
     "output_type": "execute_result"
    }
   ],
   "source": [
    "outputs"
   ]
  },
  {
   "cell_type": "code",
   "execution_count": 188,
   "id": "smart-woman",
   "metadata": {
    "ExecuteTime": {
     "end_time": "2021-02-11T16:35:02.899747Z",
     "start_time": "2021-02-11T16:35:02.898262Z"
    }
   },
   "outputs": [],
   "source": [
    "outputs2 = outputs.long()"
   ]
  },
  {
   "cell_type": "code",
   "execution_count": 197,
   "id": "synthetic-static",
   "metadata": {
    "ExecuteTime": {
     "end_time": "2021-02-11T16:35:41.514662Z",
     "start_time": "2021-02-11T16:35:41.512614Z"
    }
   },
   "outputs": [
    {
     "data": {
      "text/plain": [
       "<IndexPutBackward at 0x7fa80df76580>"
      ]
     },
     "execution_count": 197,
     "metadata": {},
     "output_type": "execute_result"
    }
   ],
   "source": [
    "outputs.grad_fn"
   ]
  },
  {
   "cell_type": "code",
   "execution_count": 198,
   "id": "wireless-silly",
   "metadata": {
    "ExecuteTime": {
     "end_time": "2021-02-11T16:35:49.116323Z",
     "start_time": "2021-02-11T16:35:49.110502Z"
    }
   },
   "outputs": [
    {
     "ename": "AttributeError",
     "evalue": "attribute 'grad_fn' of 'torch._C._TensorBase' objects is not writable",
     "output_type": "error",
     "traceback": [
      "\u001b[0;31m---------------------------------------------------------------------------\u001b[0m",
      "\u001b[0;31mAttributeError\u001b[0m                            Traceback (most recent call last)",
      "\u001b[0;32m<ipython-input-198-178a35c66f13>\u001b[0m in \u001b[0;36m<module>\u001b[0;34m\u001b[0m\n\u001b[0;32m----> 1\u001b[0;31m \u001b[0moutputs2\u001b[0m\u001b[0;34m.\u001b[0m\u001b[0mgrad_fn\u001b[0m \u001b[0;34m=\u001b[0m \u001b[0moutputs\u001b[0m\u001b[0;34m.\u001b[0m\u001b[0mgrad_fn\u001b[0m\u001b[0;34m\u001b[0m\u001b[0;34m\u001b[0m\u001b[0m\n\u001b[0m",
      "\u001b[0;31mAttributeError\u001b[0m: attribute 'grad_fn' of 'torch._C._TensorBase' objects is not writable"
     ]
    }
   ],
   "source": [
    "outputs2.grad_fn = outputs.grad_fn"
   ]
  },
  {
   "cell_type": "code",
   "execution_count": 185,
   "id": "every-demographic",
   "metadata": {
    "ExecuteTime": {
     "end_time": "2021-02-11T16:34:32.324349Z",
     "start_time": "2021-02-11T16:34:32.322942Z"
    }
   },
   "outputs": [],
   "source": [
    "outputs2"
   ]
  },
  {
   "cell_type": "code",
   "execution_count": 166,
   "id": "systematic-pledge",
   "metadata": {
    "ExecuteTime": {
     "end_time": "2021-02-11T16:28:49.064502Z",
     "start_time": "2021-02-11T16:28:49.062433Z"
    }
   },
   "outputs": [],
   "source": [
    "inputs = tokenizer.encode(sequence, return_tensors='pt')\n",
    "mask_token_index = torch.where(inputs == tokenizer.mask_token_id)[1]"
   ]
  },
  {
   "cell_type": "code",
   "execution_count": 169,
   "id": "charming-dining",
   "metadata": {
    "ExecuteTime": {
     "end_time": "2021-02-11T16:29:12.333397Z",
     "start_time": "2021-02-11T16:29:12.316782Z"
    }
   },
   "outputs": [
    {
     "ename": "RuntimeError",
     "evalue": "Index put requires the source and destination dtypes match, got Long for the destination and Float for the source.",
     "output_type": "error",
     "traceback": [
      "\u001b[0;31m---------------------------------------------------------------------------\u001b[0m",
      "\u001b[0;31mRuntimeError\u001b[0m                              Traceback (most recent call last)",
      "\u001b[0;32m<ipython-input-169-04426102ad6b>\u001b[0m in \u001b[0;36m<module>\u001b[0;34m\u001b[0m\n\u001b[0;32m----> 1\u001b[0;31m \u001b[0minputs\u001b[0m\u001b[0;34m[\u001b[0m\u001b[0minputs\u001b[0m \u001b[0;34m==\u001b[0m \u001b[0mtokenizer\u001b[0m\u001b[0;34m.\u001b[0m\u001b[0mmask_token_id\u001b[0m\u001b[0;34m]\u001b[0m \u001b[0;34m=\u001b[0m \u001b[0mtorch\u001b[0m\u001b[0;34m.\u001b[0m\u001b[0msum\u001b[0m\u001b[0;34m(\u001b[0m\u001b[0mtorch\u001b[0m\u001b[0;34m.\u001b[0m\u001b[0mnn\u001b[0m\u001b[0;34m.\u001b[0m\u001b[0mfunctional\u001b[0m\u001b[0;34m.\u001b[0m\u001b[0mgumbel_softmax\u001b[0m\u001b[0;34m(\u001b[0m\u001b[0mmask_token_logits\u001b[0m\u001b[0;34m,\u001b[0m \u001b[0mhard\u001b[0m\u001b[0;34m=\u001b[0m\u001b[0;32mTrue\u001b[0m\u001b[0;34m)\u001b[0m \u001b[0;34m*\u001b[0m \u001b[0mtorch\u001b[0m\u001b[0;34m.\u001b[0m\u001b[0marange\u001b[0m\u001b[0;34m(\u001b[0m\u001b[0;36m0\u001b[0m\u001b[0;34m,\u001b[0m \u001b[0mmask_token_logits\u001b[0m\u001b[0;34m.\u001b[0m\u001b[0mshape\u001b[0m\u001b[0;34m[\u001b[0m\u001b[0;36m1\u001b[0m\u001b[0;34m]\u001b[0m\u001b[0;34m)\u001b[0m\u001b[0;34m)\u001b[0m\u001b[0;34m\u001b[0m\u001b[0;34m\u001b[0m\u001b[0m\n\u001b[0m",
      "\u001b[0;31mRuntimeError\u001b[0m: Index put requires the source and destination dtypes match, got Long for the destination and Float for the source."
     ]
    }
   ],
   "source": [
    "inputs[inputs == tokenizer.mask_token_id] = torch.sum(torch.nn.functional.gumbel_softmax(mask_token_logits, hard=True) * torch.arange(0, mask_token_logits.shape[1]))"
   ]
  },
  {
   "cell_type": "code",
   "execution_count": 162,
   "id": "turkish-shareware",
   "metadata": {
    "ExecuteTime": {
     "end_time": "2021-02-11T16:27:59.542256Z",
     "start_time": "2021-02-11T16:27:59.539202Z"
    }
   },
   "outputs": [
    {
     "data": {
      "text/plain": [
       "tensor([[0.0000e+00, 8.7000e+01, 7.6500e+02, 1.0000e+01, 2.0384e+05, 6.0000e+00,\n",
       "         5.0000e+00, 2.0000e+00]], grad_fn=<IndexPutBackward>)"
      ]
     },
     "execution_count": 162,
     "metadata": {},
     "output_type": "execute_result"
    }
   ],
   "source": [
    "inputs"
   ]
  },
  {
   "cell_type": "code",
   "execution_count": 157,
   "id": "right-integration",
   "metadata": {
    "ExecuteTime": {
     "end_time": "2021-02-11T16:25:31.233120Z",
     "start_time": "2021-02-11T16:25:31.231193Z"
    }
   },
   "outputs": [
    {
     "data": {
      "text/plain": [
       "4"
      ]
     },
     "execution_count": 157,
     "metadata": {},
     "output_type": "execute_result"
    }
   ],
   "source": [
    "mask_token_index.item()"
   ]
  },
  {
   "cell_type": "code",
   "execution_count": 80,
   "id": "tired-senegal",
   "metadata": {
    "ExecuteTime": {
     "end_time": "2021-02-11T15:50:34.062265Z",
     "start_time": "2021-02-11T15:50:34.059047Z"
    }
   },
   "outputs": [],
   "source": [
    "import torch.nn as nn\n",
    "import torch.nn.functional as F\n",
    "from transformers import AutoModel\n",
    "\n",
    "\n",
    "class CustomLoss(nn.Module):\n",
    "    \"\"\"\n",
    "    Custom loss counting similarity between target and output sentence\n",
    "    \"\"\"\n",
    "\n",
    "    def __init__(self, device):\n",
    "        super().__init__()\n",
    "\n",
    "        self.model_name = 'sentence-transformers/xlm-r-100langs-bert-base-nli-mean-tokens'\n",
    "        self.model = AutoModel.from_pretrained(self.model_name).to(device)\n",
    "        self.model.eval()\n",
    "\n",
    "    def forward(self, outputs, labels):\n",
    "        outputs_1 = self.model(**outputs)\n",
    "        outputs_2 = self.model(**labels)\n",
    "\n",
    "        embeddings_1 = outputs_1.pooler_output\n",
    "        embeddings_2 = outputs_2.pooler_output\n",
    "\n",
    "        normalized_embeddings_1 = F.normalize(embeddings_1, p=2)\n",
    "        normalized_embeddings_2 = F.normalize(embeddings_2, p=2)\n",
    "\n",
    "        return normalized_embeddings_1 @ normalized_embeddings_2.transpose(0, 1)\n"
   ]
  },
  {
   "cell_type": "code",
   "execution_count": 81,
   "id": "stock-rolling",
   "metadata": {
    "ExecuteTime": {
     "end_time": "2021-02-11T15:52:36.863646Z",
     "start_time": "2021-02-11T15:50:51.419816Z"
    }
   },
   "outputs": [
    {
     "data": {
      "application/vnd.jupyter.widget-view+json": {
       "model_id": "8c0149b7fe1d4f8c9833957aec2b93d1",
       "version_major": 2,
       "version_minor": 0
      },
      "text/plain": [
       "HBox(children=(FloatProgress(value=0.0, description='Downloading', max=1112256686.0, style=ProgressStyle(descr…"
      ]
     },
     "metadata": {},
     "output_type": "display_data"
    },
    {
     "name": "stdout",
     "output_type": "stream",
     "text": [
      "\n"
     ]
    }
   ],
   "source": [
    "loss = CustomLoss(torch.device('cuda:0'))"
   ]
  },
  {
   "cell_type": "code",
   "execution_count": 82,
   "id": "elect-foster",
   "metadata": {
    "ExecuteTime": {
     "end_time": "2021-02-11T15:53:47.205961Z",
     "start_time": "2021-02-11T15:53:45.306289Z"
    }
   },
   "outputs": [],
   "source": [
    "tokenizer = AutoTokenizer.from_pretrained('xlm-roberta-base')"
   ]
  },
  {
   "cell_type": "code",
   "execution_count": null,
   "id": "interpreted-optics",
   "metadata": {},
   "outputs": [],
   "source": []
  }
 ],
 "metadata": {
  "kernelspec": {
   "display_name": "diploma",
   "language": "python",
   "name": "diploma"
  },
  "language_info": {
   "codemirror_mode": {
    "name": "ipython",
    "version": 3
   },
   "file_extension": ".py",
   "mimetype": "text/x-python",
   "name": "python",
   "nbconvert_exporter": "python",
   "pygments_lexer": "ipython3",
   "version": "3.8.5"
  }
 },
 "nbformat": 4,
 "nbformat_minor": 5
}
