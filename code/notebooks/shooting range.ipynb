{
 "cells": [
  {
   "cell_type": "markdown",
   "id": "entire-discrimination",
   "metadata": {},
   "source": [
    "# PLAN\n",
    "\n",
    " - Диалоговый датасет\n",
    "     - BANKING77\n",
    "     - CLINC150\n",
    "     - HWU64\n",
    "     - https://github.com/google-research-datasets/dstc8-schema-guided-dialogue\n",
    " - Генератор (XLM-R)\n",
    "     - придумать как генерировать токен на другом языке\n",
    "     - применить к задачке\n",
    " - LABSE для полученных и исходных предложений\n",
    "     - сделать кастомный класс лосса"
   ]
  },
  {
   "cell_type": "markdown",
   "id": "north-helping",
   "metadata": {},
   "source": [
    " - Пообучать языковую модель на частичных переводах ?\n",
    " - думать"
   ]
  },
  {
   "cell_type": "markdown",
   "id": "eight-immune",
   "metadata": {},
   "source": [
    "Для XLM-R:\n",
    "\n",
    "Занулить веса на выходе для всех языков кроме русского (пройтись по всем токенам и регулярочкой выявить те токены, которые относятся к русскому). Перед backward занулять градиенты по всем токенам не из русского, ибо торч не даст ставить requires_grad на отдельную часть тензора.\n",
    "\n",
    "Как вариант - написать обертку над моделью, которая будет иметь меньший размер выходной головы, потом делать новый тензор с нулями на месте других языков и выходом модели для русского."
   ]
  },
  {
   "cell_type": "code",
   "execution_count": 2,
   "id": "demographic-lotus",
   "metadata": {
    "ExecuteTime": {
     "end_time": "2021-02-19T08:41:01.322170Z",
     "start_time": "2021-02-19T08:41:00.623835Z"
    }
   },
   "outputs": [],
   "source": [
    "import json\n",
    "import numpy as np\n",
    "\n",
    "import matplotlib.pyplot as plt\n",
    "import seaborn as sns\n",
    "\n",
    "import torch\n",
    "\n",
    "import sys\n",
    "\n",
    "sns.set(style='darkgrid', rc={'figure.figsize': (16, 9)})\n",
    "sys.path.append('..')"
   ]
  },
  {
   "cell_type": "code",
   "execution_count": 3,
   "id": "thick-dance",
   "metadata": {
    "ExecuteTime": {
     "end_time": "2021-02-19T08:41:01.428031Z",
     "start_time": "2021-02-19T08:41:01.323060Z"
    }
   },
   "outputs": [
    {
     "data": {
      "text/plain": [
       "(61767, 46)"
      ]
     },
     "execution_count": 3,
     "metadata": {},
     "output_type": "execute_result"
    }
   ],
   "source": [
    "with open('../data/dstc_utterances.json') as f:\n",
    "    data = json.load(f)\n",
    "\n",
    "texts, intents = zip(*((elem['text'], elem['intent']) for elem in data))\n",
    "\n",
    "len(texts), len(np.unique(intents))"
   ]
  },
  {
   "cell_type": "code",
   "execution_count": 20,
   "id": "systematic-iraqi",
   "metadata": {
    "ExecuteTime": {
     "end_time": "2021-02-19T08:47:59.869500Z",
     "start_time": "2021-02-19T08:47:59.840806Z"
    }
   },
   "outputs": [],
   "source": [
    "lens = np.array([len(text.split()) for text in texts])"
   ]
  },
  {
   "cell_type": "code",
   "execution_count": 21,
   "id": "rough-harvest",
   "metadata": {
    "ExecuteTime": {
     "end_time": "2021-02-19T08:48:00.811907Z",
     "start_time": "2021-02-19T08:48:00.345901Z"
    }
   },
   "outputs": [
    {
     "data": {
      "image/png": "[encoded data removed]",
      "text/plain": [
       "<Figure size 360x360 with 1 Axes>"
      ]
     },
     "metadata": {},
     "output_type": "display_data"
    }
   ],
   "source": [
    "sns.displot(lens)\n",
    "plt.show()"
   ]
  },
  {
   "cell_type": "code",
   "execution_count": 6,
   "id": "certain-queue",
   "metadata": {
    "ExecuteTime": {
     "end_time": "2021-02-19T08:41:12.031019Z",
     "start_time": "2021-02-19T08:41:06.105776Z"
    }
   },
   "outputs": [],
   "source": [
    "import torch\n",
    "import torch.nn.functional as func\n",
    "\n",
    "from transformers import (\n",
    "    PretrainedConfig,\n",
    "    XLMRobertaForMaskedLM,\n",
    "    XLMRobertaModel,\n",
    "    XLMRobertaTokenizerFast,\n",
    ")\n",
    "\n",
    "\n",
    "model = XLMRobertaModel(PretrainedConfig.from_json_file(f'../models/xlm-roberta-base-mean-tokens.json'))\n",
    "model.load_state_dict(torch.load('../models/xlm-roberta-base-mean-tokens.pth'))\n",
    "\n",
    "model.to('cuda:0')\n",
    "\n",
    "model.eval();"
   ]
  },
  {
   "cell_type": "code",
   "execution_count": 9,
   "id": "governmental-prescription",
   "metadata": {
    "ExecuteTime": {
     "end_time": "2021-02-19T08:41:56.858014Z",
     "start_time": "2021-02-19T08:41:55.591077Z"
    }
   },
   "outputs": [],
   "source": [
    "tokenizer = XLMRobertaTokenizerFast.from_pretrained('xlm-roberta-base')"
   ]
  },
  {
   "cell_type": "code",
   "execution_count": 10,
   "id": "lucky-receptor",
   "metadata": {
    "ExecuteTime": {
     "end_time": "2021-02-19T08:42:01.749326Z",
     "start_time": "2021-02-19T08:42:00.369308Z"
    }
   },
   "outputs": [],
   "source": [
    "import regex\n",
    "\n",
    "def is_cyrillic(s: str):\n",
    "    return bool(regex.search(r'\\p{IsCyrillic}', s))\n",
    "\n",
    "\n",
    "russian_tokens_mask = np.zeros(model.embeddings.word_embeddings.weight.shape[0])\n",
    "\n",
    "for token in range(len(russian_tokens_mask)):\n",
    "    if is_cyrillic(tokenizer.decode([token])):\n",
    "        russian_tokens_mask[token] = 1\n",
    "\n",
    "russian_tokens_mask = russian_tokens_mask.astype(bool)"
   ]
  },
  {
   "cell_type": "code",
   "execution_count": 23,
   "id": "removed-choice",
   "metadata": {
    "ExecuteTime": {
     "end_time": "2021-02-19T08:48:53.137431Z",
     "start_time": "2021-02-19T08:48:53.113486Z"
    }
   },
   "outputs": [
    {
     "data": {
      "text/plain": [
       "'I am bored of eating food from home , i need a change . Will you find me a place to eat? It can be costly priced and i am very fond of it'"
      ]
     },
     "execution_count": 23,
     "metadata": {},
     "output_type": "execute_result"
    }
   ],
   "source": [
    "np.array(texts)[lens > 30][0]"
   ]
  },
  {
   "cell_type": "code",
   "execution_count": 28,
   "id": "seventh-majority",
   "metadata": {
    "ExecuteTime": {
     "end_time": "2021-02-19T08:49:53.573418Z",
     "start_time": "2021-02-19T08:49:53.525122Z"
    }
   },
   "outputs": [],
   "source": [
    "with torch.no_grad():\n",
    "\n",
    "    sentence = np.array(texts)[lens > 30][0]\n",
    "\n",
    "    encoding = tokenizer.encode(sentence, return_tensors='pt').to('cuda:0')\n",
    "\n",
    "    embedding = func.normalize(model(encoding).pooler_output, p=2)"
   ]
  },
  {
   "cell_type": "code",
   "execution_count": 31,
   "id": "female-services",
   "metadata": {
    "ExecuteTime": {
     "end_time": "2021-02-19T08:50:03.555106Z",
     "start_time": "2021-02-19T08:50:03.553095Z"
    }
   },
   "outputs": [
    {
     "data": {
      "text/plain": [
       "'food'"
      ]
     },
     "execution_count": 31,
     "metadata": {},
     "output_type": "execute_result"
    }
   ],
   "source": [
    "tokenizer.decode(encoding[0][7])"
   ]
  },
  {
   "cell_type": "code",
   "execution_count": 32,
   "id": "seventh-moses",
   "metadata": {
    "ExecuteTime": {
     "end_time": "2021-02-19T08:53:57.647502Z",
     "start_time": "2021-02-19T08:50:08.531313Z"
    }
   },
   "outputs": [
    {
     "name": "stderr",
     "output_type": "stream",
     "text": [
      "100%|██████████| 31671/31671 [03:49<00:00, 138.23it/s]\n"
     ]
    }
   ],
   "source": [
    "from tqdm import tqdm\n",
    "\n",
    "results = {}\n",
    "\n",
    "with torch.no_grad():\n",
    "\n",
    "    for token in tqdm(np.arange(0, len(russian_tokens_mask))[russian_tokens_mask]):\n",
    "        encoding[0][7] = token\n",
    "\n",
    "        new_embedding = func.normalize(model(encoding).pooler_output, p=2)\n",
    "\n",
    "        results[tokenizer.decode([token])] = (embedding @ new_embedding.transpose(0, 1)).item()"
   ]
  },
  {
   "cell_type": "code",
   "execution_count": 35,
   "id": "seventh-display",
   "metadata": {
    "ExecuteTime": {
     "end_time": "2021-02-19T08:57:35.407894Z",
     "start_time": "2021-02-19T08:57:35.391908Z"
    }
   },
   "outputs": [
    {
     "name": "stdout",
     "output_type": "stream",
     "text": [
      "храната 0.9978576898574829\n",
      "работите 0.9977532029151917\n",
      "врсте 0.9977286458015442\n",
      "обзавеждане 0.9975391030311584\n",
      "вещи 0.9975258708000183\n",
      "учесници 0.9974690079689026\n",
      "зүйлс 0.9974520206451416\n",
      "обробки 0.9974477291107178\n",
      "байгууллагуудын 0.9974027872085571\n",
      "долбоор 0.9973726272583008\n",
      "фарма 0.9973312616348267\n",
      "вещей 0.9972776174545288\n",
      "власний 0.9972649216651917\n",
      "ствари 0.9972629547119141\n",
      "динг 0.9972625374794006\n",
      "Продукт 0.9972578883171082\n",
      "нинг 0.997209906578064\n",
      "материјала 0.9971902370452881\n",
      "ястия 0.9971784353256226\n",
      "работата 0.9971710443496704\n",
      "матеріалів 0.997165858745575\n",
      "хөдөлмөрийн 0.9971568584442139\n",
      "членів 0.997153639793396\n",
      "дызайн 0.9971397519111633\n",
      "дисциплін 0.9970869421958923\n",
      "съдържанието 0.9970850348472595\n",
      "радови 0.9970662593841553\n",
      "калектыў 0.9970532655715942\n",
      "кинг 0.9970251321792603\n",
      "зберігання 0.9970059394836426\n",
      "нийтийн 0.9970053434371948\n",
      "Матеріали 0.9970045685768127\n",
      "материјали 0.9969939589500427\n",
      "инг 0.9969924688339233\n",
      "материалы 0.9969918727874756\n",
      "уреди 0.9969720244407654\n",
      "трен 0.9969700574874878\n",
      "опрема 0.9969539642333984\n",
      "друштву 0.9969413876533508\n",
      "обществени 0.9969359636306763\n",
      "спрос 0.9969168901443481\n",
      "материали 0.9969159364700317\n",
      "селекција 0.9968990087509155\n",
      "торгівлі 0.996896505355835\n",
      "администрација 0.9968929886817932\n",
      "інг 0.9968839287757874\n",
      "салбарын 0.9968788623809814\n",
      "поръчки 0.9968764781951904\n",
      "линг 0.9968674182891846\n",
      "храна 0.9968622922897339\n",
      "долбоорлор 0.9968557357788086\n",
      "справ 0.996854305267334\n",
      "изпълнението 0.9968538284301758\n",
      "компоненти 0.9968396425247192\n",
      "набавку 0.9968361854553223\n",
      "нещата 0.9968312978744507\n",
      "материала 0.9968286752700806\n",
      "удзельнікаў 0.9968286752700806\n",
      "пројектима 0.9968198537826538\n",
      "асортимент 0.9968128800392151\n",
      "газрууд 0.9968091249465942\n",
      "ажлаа 0.9968061447143555\n",
      "вод 0.9968039393424988\n",
      "позиції 0.9967992305755615\n",
      "Мес 0.9967948198318481\n",
      "сургалтын 0.9967942833900452\n",
      "објекти 0.9967907071113586\n",
      "работилница 0.9967836737632751\n",
      "съхранение 0.9967790842056274\n",
      "хадгала 0.9967714548110962\n",
      "бэлтгэх 0.9967649579048157\n",
      "фінансових 0.9967518448829651\n",
      "нашій 0.9967489242553711\n",
      "њихове 0.9967474937438965\n",
      "місцевих 0.9967472553253174\n",
      "понуде 0.996745765209198\n",
      "намын 0.9967315793037415\n",
      "одржавање 0.9967308044433594\n",
      "предмети 0.9967280626296997\n",
      "набавке 0.9967257380485535\n",
      "эрхлэгч 0.9967234134674072\n",
      "поверхні 0.9967212677001953\n",
      "оролцогч 0.9967189431190491\n",
      "нийгмийн 0.9967174530029297\n",
      "услугите 0.9967103600502014\n",
      "мес 0.9967060089111328\n",
      "підрозділів 0.9966993927955627\n",
      "матеріали 0.996692955493927\n",
      "материалов 0.9966863989830017\n",
      "околности 0.9966839551925659\n",
      "вещ 0.9966777563095093\n",
      "содржина 0.9966753721237183\n",
      "членами 0.9966727495193481\n",
      "конструкции 0.9966698884963989\n",
      "прас 0.9966651201248169\n",
      "корпус 0.996624231338501\n",
      "мэргэжилтнүүд 0.9966192245483398\n",
      "төслүүд 0.996618926525116\n",
      "эдгээр 0.9966161847114563\n",
      "локалне 0.996613621711731\n"
     ]
    }
   ],
   "source": [
    "for key in sorted(results, key=lambda x: -results[x])[:100]:\n",
    "    print(key, results[key])"
   ]
  },
  {
   "cell_type": "code",
   "execution_count": 6,
   "id": "designed-museum",
   "metadata": {
    "ExecuteTime": {
     "end_time": "2021-02-13T15:15:58.150446Z",
     "start_time": "2021-02-13T15:15:47.317571Z"
    }
   },
   "outputs": [],
   "source": [
    "model_name = 'sentence-transformers/xlm-r-100langs-bert-base-nli-mean-tokens'\n",
    "model = AutoModel.from_pretrained(model_name)"
   ]
  },
  {
   "cell_type": "code",
   "execution_count": 7,
   "id": "soviet-metropolitan",
   "metadata": {
    "ExecuteTime": {
     "end_time": "2021-02-13T15:16:11.942688Z",
     "start_time": "2021-02-13T15:16:06.013913Z"
    }
   },
   "outputs": [],
   "source": [
    "torch.save(model.state_dict(), '../models/xlm-roberta-base-mean-tokens.pth')"
   ]
  },
  {
   "cell_type": "code",
   "execution_count": 21,
   "id": "dental-importance",
   "metadata": {
    "ExecuteTime": {
     "end_time": "2021-02-12T17:23:32.445045Z",
     "start_time": "2021-02-12T17:23:32.443082Z"
    }
   },
   "outputs": [],
   "source": [
    "model.config.to_json_file('../models/xmr-roberta-base-mean-tokens.json')"
   ]
  },
  {
   "cell_type": "code",
   "execution_count": 104,
   "id": "binary-placement",
   "metadata": {
    "ExecuteTime": {
     "end_time": "2021-02-13T09:36:42.353855Z",
     "start_time": "2021-02-13T09:36:38.961668Z"
    }
   },
   "outputs": [],
   "source": [
    "from transformers import XLMRobertaModel, PretrainedConfig\n",
    "\n",
    "model = XLMRobertaModel(PretrainedConfig.from_json_file('../models/xlm-roberta-base-mean-tokens.json'))"
   ]
  },
  {
   "cell_type": "code",
   "execution_count": 105,
   "id": "inappropriate-worth",
   "metadata": {
    "ExecuteTime": {
     "end_time": "2021-02-13T09:36:46.912693Z",
     "start_time": "2021-02-13T09:36:46.558030Z"
    }
   },
   "outputs": [
    {
     "data": {
      "text/plain": [
       "<All keys matched successfully>"
      ]
     },
     "execution_count": 105,
     "metadata": {},
     "output_type": "execute_result"
    }
   ],
   "source": [
    "model.load_state_dict(torch.load('../models/xlm-roberta-base-mean-tokens.pth'))"
   ]
  },
  {
   "cell_type": "code",
   "execution_count": 106,
   "id": "enabling-musical",
   "metadata": {
    "ExecuteTime": {
     "end_time": "2021-02-13T09:36:47.515682Z",
     "start_time": "2021-02-13T09:36:47.512327Z"
    }
   },
   "outputs": [
    {
     "data": {
      "text/plain": [
       "XLMRobertaModel(\n",
       "  (embeddings): RobertaEmbeddings(\n",
       "    (word_embeddings): Embedding(250002, 768, padding_idx=1)\n",
       "    (position_embeddings): Embedding(514, 768, padding_idx=1)\n",
       "    (token_type_embeddings): Embedding(1, 768)\n",
       "    (LayerNorm): LayerNorm((768,), eps=1e-05, elementwise_affine=True)\n",
       "    (dropout): Dropout(p=0.1, inplace=False)\n",
       "  )\n",
       "  (encoder): RobertaEncoder(\n",
       "    (layer): ModuleList(\n",
       "      (0): RobertaLayer(\n",
       "        (attention): RobertaAttention(\n",
       "          (self): RobertaSelfAttention(\n",
       "            (query): Linear(in_features=768, out_features=768, bias=True)\n",
       "            (key): Linear(in_features=768, out_features=768, bias=True)\n",
       "            (value): Linear(in_features=768, out_features=768, bias=True)\n",
       "            (dropout): Dropout(p=0.1, inplace=False)\n",
       "          )\n",
       "          (output): RobertaSelfOutput(\n",
       "            (dense): Linear(in_features=768, out_features=768, bias=True)\n",
       "            (LayerNorm): LayerNorm((768,), eps=1e-05, elementwise_affine=True)\n",
       "            (dropout): Dropout(p=0.1, inplace=False)\n",
       "          )\n",
       "        )\n",
       "        (intermediate): RobertaIntermediate(\n",
       "          (dense): Linear(in_features=768, out_features=3072, bias=True)\n",
       "        )\n",
       "        (output): RobertaOutput(\n",
       "          (dense): Linear(in_features=3072, out_features=768, bias=True)\n",
       "          (LayerNorm): LayerNorm((768,), eps=1e-05, elementwise_affine=True)\n",
       "          (dropout): Dropout(p=0.1, inplace=False)\n",
       "        )\n",
       "      )\n",
       "      (1): RobertaLayer(\n",
       "        (attention): RobertaAttention(\n",
       "          (self): RobertaSelfAttention(\n",
       "            (query): Linear(in_features=768, out_features=768, bias=True)\n",
       "            (key): Linear(in_features=768, out_features=768, bias=True)\n",
       "            (value): Linear(in_features=768, out_features=768, bias=True)\n",
       "            (dropout): Dropout(p=0.1, inplace=False)\n",
       "          )\n",
       "          (output): RobertaSelfOutput(\n",
       "            (dense): Linear(in_features=768, out_features=768, bias=True)\n",
       "            (LayerNorm): LayerNorm((768,), eps=1e-05, elementwise_affine=True)\n",
       "            (dropout): Dropout(p=0.1, inplace=False)\n",
       "          )\n",
       "        )\n",
       "        (intermediate): RobertaIntermediate(\n",
       "          (dense): Linear(in_features=768, out_features=3072, bias=True)\n",
       "        )\n",
       "        (output): RobertaOutput(\n",
       "          (dense): Linear(in_features=3072, out_features=768, bias=True)\n",
       "          (LayerNorm): LayerNorm((768,), eps=1e-05, elementwise_affine=True)\n",
       "          (dropout): Dropout(p=0.1, inplace=False)\n",
       "        )\n",
       "      )\n",
       "      (2): RobertaLayer(\n",
       "        (attention): RobertaAttention(\n",
       "          (self): RobertaSelfAttention(\n",
       "            (query): Linear(in_features=768, out_features=768, bias=True)\n",
       "            (key): Linear(in_features=768, out_features=768, bias=True)\n",
       "            (value): Linear(in_features=768, out_features=768, bias=True)\n",
       "            (dropout): Dropout(p=0.1, inplace=False)\n",
       "          )\n",
       "          (output): RobertaSelfOutput(\n",
       "            (dense): Linear(in_features=768, out_features=768, bias=True)\n",
       "            (LayerNorm): LayerNorm((768,), eps=1e-05, elementwise_affine=True)\n",
       "            (dropout): Dropout(p=0.1, inplace=False)\n",
       "          )\n",
       "        )\n",
       "        (intermediate): RobertaIntermediate(\n",
       "          (dense): Linear(in_features=768, out_features=3072, bias=True)\n",
       "        )\n",
       "        (output): RobertaOutput(\n",
       "          (dense): Linear(in_features=3072, out_features=768, bias=True)\n",
       "          (LayerNorm): LayerNorm((768,), eps=1e-05, elementwise_affine=True)\n",
       "          (dropout): Dropout(p=0.1, inplace=False)\n",
       "        )\n",
       "      )\n",
       "      (3): RobertaLayer(\n",
       "        (attention): RobertaAttention(\n",
       "          (self): RobertaSelfAttention(\n",
       "            (query): Linear(in_features=768, out_features=768, bias=True)\n",
       "            (key): Linear(in_features=768, out_features=768, bias=True)\n",
       "            (value): Linear(in_features=768, out_features=768, bias=True)\n",
       "            (dropout): Dropout(p=0.1, inplace=False)\n",
       "          )\n",
       "          (output): RobertaSelfOutput(\n",
       "            (dense): Linear(in_features=768, out_features=768, bias=True)\n",
       "            (LayerNorm): LayerNorm((768,), eps=1e-05, elementwise_affine=True)\n",
       "            (dropout): Dropout(p=0.1, inplace=False)\n",
       "          )\n",
       "        )\n",
       "        (intermediate): RobertaIntermediate(\n",
       "          (dense): Linear(in_features=768, out_features=3072, bias=True)\n",
       "        )\n",
       "        (output): RobertaOutput(\n",
       "          (dense): Linear(in_features=3072, out_features=768, bias=True)\n",
       "          (LayerNorm): LayerNorm((768,), eps=1e-05, elementwise_affine=True)\n",
       "          (dropout): Dropout(p=0.1, inplace=False)\n",
       "        )\n",
       "      )\n",
       "      (4): RobertaLayer(\n",
       "        (attention): RobertaAttention(\n",
       "          (self): RobertaSelfAttention(\n",
       "            (query): Linear(in_features=768, out_features=768, bias=True)\n",
       "            (key): Linear(in_features=768, out_features=768, bias=True)\n",
       "            (value): Linear(in_features=768, out_features=768, bias=True)\n",
       "            (dropout): Dropout(p=0.1, inplace=False)\n",
       "          )\n",
       "          (output): RobertaSelfOutput(\n",
       "            (dense): Linear(in_features=768, out_features=768, bias=True)\n",
       "            (LayerNorm): LayerNorm((768,), eps=1e-05, elementwise_affine=True)\n",
       "            (dropout): Dropout(p=0.1, inplace=False)\n",
       "          )\n",
       "        )\n",
       "        (intermediate): RobertaIntermediate(\n",
       "          (dense): Linear(in_features=768, out_features=3072, bias=True)\n",
       "        )\n",
       "        (output): RobertaOutput(\n",
       "          (dense): Linear(in_features=3072, out_features=768, bias=True)\n",
       "          (LayerNorm): LayerNorm((768,), eps=1e-05, elementwise_affine=True)\n",
       "          (dropout): Dropout(p=0.1, inplace=False)\n",
       "        )\n",
       "      )\n",
       "      (5): RobertaLayer(\n",
       "        (attention): RobertaAttention(\n",
       "          (self): RobertaSelfAttention(\n",
       "            (query): Linear(in_features=768, out_features=768, bias=True)\n",
       "            (key): Linear(in_features=768, out_features=768, bias=True)\n",
       "            (value): Linear(in_features=768, out_features=768, bias=True)\n",
       "            (dropout): Dropout(p=0.1, inplace=False)\n",
       "          )\n",
       "          (output): RobertaSelfOutput(\n",
       "            (dense): Linear(in_features=768, out_features=768, bias=True)\n",
       "            (LayerNorm): LayerNorm((768,), eps=1e-05, elementwise_affine=True)\n",
       "            (dropout): Dropout(p=0.1, inplace=False)\n",
       "          )\n",
       "        )\n",
       "        (intermediate): RobertaIntermediate(\n",
       "          (dense): Linear(in_features=768, out_features=3072, bias=True)\n",
       "        )\n",
       "        (output): RobertaOutput(\n",
       "          (dense): Linear(in_features=3072, out_features=768, bias=True)\n",
       "          (LayerNorm): LayerNorm((768,), eps=1e-05, elementwise_affine=True)\n",
       "          (dropout): Dropout(p=0.1, inplace=False)\n",
       "        )\n",
       "      )\n",
       "      (6): RobertaLayer(\n",
       "        (attention): RobertaAttention(\n",
       "          (self): RobertaSelfAttention(\n",
       "            (query): Linear(in_features=768, out_features=768, bias=True)\n",
       "            (key): Linear(in_features=768, out_features=768, bias=True)\n",
       "            (value): Linear(in_features=768, out_features=768, bias=True)\n",
       "            (dropout): Dropout(p=0.1, inplace=False)\n",
       "          )\n",
       "          (output): RobertaSelfOutput(\n",
       "            (dense): Linear(in_features=768, out_features=768, bias=True)\n",
       "            (LayerNorm): LayerNorm((768,), eps=1e-05, elementwise_affine=True)\n",
       "            (dropout): Dropout(p=0.1, inplace=False)\n",
       "          )\n",
       "        )\n",
       "        (intermediate): RobertaIntermediate(\n",
       "          (dense): Linear(in_features=768, out_features=3072, bias=True)\n",
       "        )\n",
       "        (output): RobertaOutput(\n",
       "          (dense): Linear(in_features=3072, out_features=768, bias=True)\n",
       "          (LayerNorm): LayerNorm((768,), eps=1e-05, elementwise_affine=True)\n",
       "          (dropout): Dropout(p=0.1, inplace=False)\n",
       "        )\n",
       "      )\n",
       "      (7): RobertaLayer(\n",
       "        (attention): RobertaAttention(\n",
       "          (self): RobertaSelfAttention(\n",
       "            (query): Linear(in_features=768, out_features=768, bias=True)\n",
       "            (key): Linear(in_features=768, out_features=768, bias=True)\n",
       "            (value): Linear(in_features=768, out_features=768, bias=True)\n",
       "            (dropout): Dropout(p=0.1, inplace=False)\n",
       "          )\n",
       "          (output): RobertaSelfOutput(\n",
       "            (dense): Linear(in_features=768, out_features=768, bias=True)\n",
       "            (LayerNorm): LayerNorm((768,), eps=1e-05, elementwise_affine=True)\n",
       "            (dropout): Dropout(p=0.1, inplace=False)\n",
       "          )\n",
       "        )\n",
       "        (intermediate): RobertaIntermediate(\n",
       "          (dense): Linear(in_features=768, out_features=3072, bias=True)\n",
       "        )\n",
       "        (output): RobertaOutput(\n",
       "          (dense): Linear(in_features=3072, out_features=768, bias=True)\n",
       "          (LayerNorm): LayerNorm((768,), eps=1e-05, elementwise_affine=True)\n",
       "          (dropout): Dropout(p=0.1, inplace=False)\n",
       "        )\n",
       "      )\n",
       "      (8): RobertaLayer(\n",
       "        (attention): RobertaAttention(\n",
       "          (self): RobertaSelfAttention(\n",
       "            (query): Linear(in_features=768, out_features=768, bias=True)\n",
       "            (key): Linear(in_features=768, out_features=768, bias=True)\n",
       "            (value): Linear(in_features=768, out_features=768, bias=True)\n",
       "            (dropout): Dropout(p=0.1, inplace=False)\n",
       "          )\n",
       "          (output): RobertaSelfOutput(\n",
       "            (dense): Linear(in_features=768, out_features=768, bias=True)\n",
       "            (LayerNorm): LayerNorm((768,), eps=1e-05, elementwise_affine=True)\n",
       "            (dropout): Dropout(p=0.1, inplace=False)\n",
       "          )\n",
       "        )\n",
       "        (intermediate): RobertaIntermediate(\n",
       "          (dense): Linear(in_features=768, out_features=3072, bias=True)\n",
       "        )\n",
       "        (output): RobertaOutput(\n",
       "          (dense): Linear(in_features=3072, out_features=768, bias=True)\n",
       "          (LayerNorm): LayerNorm((768,), eps=1e-05, elementwise_affine=True)\n",
       "          (dropout): Dropout(p=0.1, inplace=False)\n",
       "        )\n",
       "      )\n",
       "      (9): RobertaLayer(\n",
       "        (attention): RobertaAttention(\n",
       "          (self): RobertaSelfAttention(\n",
       "            (query): Linear(in_features=768, out_features=768, bias=True)\n",
       "            (key): Linear(in_features=768, out_features=768, bias=True)\n",
       "            (value): Linear(in_features=768, out_features=768, bias=True)\n",
       "            (dropout): Dropout(p=0.1, inplace=False)\n",
       "          )\n",
       "          (output): RobertaSelfOutput(\n",
       "            (dense): Linear(in_features=768, out_features=768, bias=True)\n",
       "            (LayerNorm): LayerNorm((768,), eps=1e-05, elementwise_affine=True)\n",
       "            (dropout): Dropout(p=0.1, inplace=False)\n",
       "          )\n",
       "        )\n",
       "        (intermediate): RobertaIntermediate(\n",
       "          (dense): Linear(in_features=768, out_features=3072, bias=True)\n",
       "        )\n",
       "        (output): RobertaOutput(\n",
       "          (dense): Linear(in_features=3072, out_features=768, bias=True)\n",
       "          (LayerNorm): LayerNorm((768,), eps=1e-05, elementwise_affine=True)\n",
       "          (dropout): Dropout(p=0.1, inplace=False)\n",
       "        )\n",
       "      )\n",
       "      (10): RobertaLayer(\n",
       "        (attention): RobertaAttention(\n",
       "          (self): RobertaSelfAttention(\n",
       "            (query): Linear(in_features=768, out_features=768, bias=True)\n",
       "            (key): Linear(in_features=768, out_features=768, bias=True)\n",
       "            (value): Linear(in_features=768, out_features=768, bias=True)\n",
       "            (dropout): Dropout(p=0.1, inplace=False)\n",
       "          )\n",
       "          (output): RobertaSelfOutput(\n",
       "            (dense): Linear(in_features=768, out_features=768, bias=True)\n",
       "            (LayerNorm): LayerNorm((768,), eps=1e-05, elementwise_affine=True)\n",
       "            (dropout): Dropout(p=0.1, inplace=False)\n",
       "          )\n",
       "        )\n",
       "        (intermediate): RobertaIntermediate(\n",
       "          (dense): Linear(in_features=768, out_features=3072, bias=True)\n",
       "        )\n",
       "        (output): RobertaOutput(\n",
       "          (dense): Linear(in_features=3072, out_features=768, bias=True)\n",
       "          (LayerNorm): LayerNorm((768,), eps=1e-05, elementwise_affine=True)\n",
       "          (dropout): Dropout(p=0.1, inplace=False)\n",
       "        )\n",
       "      )\n",
       "      (11): RobertaLayer(\n",
       "        (attention): RobertaAttention(\n",
       "          (self): RobertaSelfAttention(\n",
       "            (query): Linear(in_features=768, out_features=768, bias=True)\n",
       "            (key): Linear(in_features=768, out_features=768, bias=True)\n",
       "            (value): Linear(in_features=768, out_features=768, bias=True)\n",
       "            (dropout): Dropout(p=0.1, inplace=False)\n",
       "          )\n",
       "          (output): RobertaSelfOutput(\n",
       "            (dense): Linear(in_features=768, out_features=768, bias=True)\n",
       "            (LayerNorm): LayerNorm((768,), eps=1e-05, elementwise_affine=True)\n",
       "            (dropout): Dropout(p=0.1, inplace=False)\n",
       "          )\n",
       "        )\n",
       "        (intermediate): RobertaIntermediate(\n",
       "          (dense): Linear(in_features=768, out_features=3072, bias=True)\n",
       "        )\n",
       "        (output): RobertaOutput(\n",
       "          (dense): Linear(in_features=3072, out_features=768, bias=True)\n",
       "          (LayerNorm): LayerNorm((768,), eps=1e-05, elementwise_affine=True)\n",
       "          (dropout): Dropout(p=0.1, inplace=False)\n",
       "        )\n",
       "      )\n",
       "    )\n",
       "  )\n",
       "  (pooler): RobertaPooler(\n",
       "    (dense): Linear(in_features=768, out_features=768, bias=True)\n",
       "    (activation): Tanh()\n",
       "  )\n",
       ")"
      ]
     },
     "execution_count": 106,
     "metadata": {},
     "output_type": "execute_result"
    }
   ],
   "source": [
    "model"
   ]
  },
  {
   "cell_type": "code",
   "execution_count": 81,
   "id": "stock-rolling",
   "metadata": {
    "ExecuteTime": {
     "end_time": "2021-02-11T15:52:36.863646Z",
     "start_time": "2021-02-11T15:50:51.419816Z"
    }
   },
   "outputs": [
    {
     "data": {
      "application/vnd.jupyter.widget-view+json": {
       "model_id": "8c0149b7fe1d4f8c9833957aec2b93d1",
       "version_major": 2,
       "version_minor": 0
      },
      "text/plain": [
       "HBox(children=(FloatProgress(value=0.0, description='Downloading', max=1112256686.0, style=ProgressStyle(descr…"
      ]
     },
     "metadata": {},
     "output_type": "display_data"
    },
    {
     "name": "stdout",
     "output_type": "stream",
     "text": [
      "\n"
     ]
    }
   ],
   "source": [
    "loss = CustomLoss(torch.device('cuda:0'))"
   ]
  },
  {
   "cell_type": "code",
   "execution_count": 82,
   "id": "elect-foster",
   "metadata": {
    "ExecuteTime": {
     "end_time": "2021-02-11T15:53:47.205961Z",
     "start_time": "2021-02-11T15:53:45.306289Z"
    }
   },
   "outputs": [],
   "source": [
    "tokenizer = AutoTokenizer.from_pretrained('xlm-roberta-base')"
   ]
  },
  {
   "cell_type": "code",
   "execution_count": 120,
   "id": "interpreted-optics",
   "metadata": {
    "ExecuteTime": {
     "end_time": "2021-02-13T09:47:44.370535Z",
     "start_time": "2021-02-13T09:47:44.364213Z"
    }
   },
   "outputs": [
    {
     "data": {
      "text/plain": [
       "tensor([[[-0.0416,  0.0110, -0.0000,  ...,  0.0000, -0.1096, -0.0141],\n",
       "         [ 0.0631, -0.6998, -0.5704,  ..., -0.1152, -0.4210,  0.5102],\n",
       "         [-0.1585,  0.0000, -0.7146,  ...,  0.6517,  0.3447, -0.1969],\n",
       "         ...,\n",
       "         [-0.0000, -0.1132, -0.4343,  ...,  1.0054, -0.0928, -0.0329],\n",
       "         [ 0.1366,  0.8943,  0.0611,  ...,  0.0495, -0.3360, -0.6585],\n",
       "         [ 0.0166,  0.1572,  0.0089,  ...,  0.0337,  0.0542, -0.1161]]],\n",
       "       grad_fn=<MulBackward0>)"
      ]
     },
     "execution_count": 120,
     "metadata": {},
     "output_type": "execute_result"
    }
   ],
   "source": [
    "inputs = tokenizer.encode(\"I went fishing and I caught several big fish\", return_tensors='pt')\n",
    "\n",
    "model.embeddings(inputs)"
   ]
  },
  {
   "cell_type": "code",
   "execution_count": 121,
   "id": "tough-nursing",
   "metadata": {
    "ExecuteTime": {
     "end_time": "2021-02-13T09:47:45.325211Z",
     "start_time": "2021-02-13T09:47:45.321214Z"
    }
   },
   "outputs": [],
   "source": [
    "inputs = inputs.reshape(-1, 1)\n",
    "\n",
    "tokens_one_hot = torch.zeros(inputs.shape[0], 250002).scatter_(\n",
    "    1, inputs, 1.0\n",
    ")"
   ]
  },
  {
   "cell_type": "code",
   "execution_count": 122,
   "id": "third-gravity",
   "metadata": {
    "ExecuteTime": {
     "end_time": "2021-02-13T09:47:45.897186Z",
     "start_time": "2021-02-13T09:47:45.818972Z"
    }
   },
   "outputs": [
    {
     "data": {
      "text/plain": [
       "tensor([[[-0.0416,  0.0000, -0.0678,  ...,  0.0280, -0.1096, -0.0141],\n",
       "         [ 0.0631, -0.6998, -0.5704,  ..., -0.1152, -0.4210,  0.5102],\n",
       "         [-0.1585,  0.4480, -0.7146,  ...,  0.6517,  0.3447, -0.1969],\n",
       "         ...,\n",
       "         [-0.8030, -0.1132, -0.4343,  ...,  1.0054, -0.0928, -0.0329],\n",
       "         [ 0.1366,  0.8943,  0.0611,  ...,  0.0000, -0.3360, -0.6585],\n",
       "         [ 0.0166,  0.1572,  0.0089,  ...,  0.0337,  0.0542, -0.1161]]],\n",
       "       grad_fn=<MulBackward0>)"
      ]
     },
     "execution_count": 122,
     "metadata": {},
     "output_type": "execute_result"
    }
   ],
   "source": [
    "model.embeddings.forward(inputs_embeds=(tokens_one_hot @ model.embeddings.word_embeddings.weight).unsqueeze(0))"
   ]
  },
  {
   "cell_type": "code",
   "execution_count": 124,
   "id": "speaking-second",
   "metadata": {
    "ExecuteTime": {
     "end_time": "2021-02-13T09:48:20.833661Z",
     "start_time": "2021-02-13T09:48:20.758772Z"
    }
   },
   "outputs": [
    {
     "data": {
      "text/plain": [
       "False"
      ]
     },
     "execution_count": 124,
     "metadata": {},
     "output_type": "execute_result"
    }
   ],
   "source": [
    "torch.allclose(model.embeddings(inputs), model.embeddings.forward(inputs_embeds=(tokens_one_hot @ model.embeddings.word_embeddings.weight).unsqueeze(0)))"
   ]
  },
  {
   "cell_type": "code",
   "execution_count": 134,
   "id": "local-vulnerability",
   "metadata": {
    "ExecuteTime": {
     "end_time": "2021-02-13T09:51:28.581453Z",
     "start_time": "2021-02-13T09:51:28.518050Z"
    }
   },
   "outputs": [],
   "source": [
    "model.eval()\n",
    "\n",
    "with torch.no_grad():\n",
    "    inputs = tokenizer.encode(\"I went fishing and I caught several big fish\", return_tensors='pt')\n",
    "    \n",
    "    x = model.embeddings(inputs)\n",
    "    \n",
    "    inputs = tokenizer.encode(\"I went fishing and I caught several big fish\", return_tensors='pt').reshape(-1, 1)\n",
    "\n",
    "    tokens_one_hot = torch.zeros(inputs.shape[0], 250002).scatter_(\n",
    "        1, inputs, 1.0\n",
    "    )\n",
    "    \n",
    "    y = model.embeddings.forward(inputs_embeds=(tokens_one_hot @ model.embeddings.word_embeddings.weight).unsqueeze(0))\n",
    "    \n",
    "    "
   ]
  },
  {
   "cell_type": "code",
   "execution_count": 135,
   "id": "confirmed-ethnic",
   "metadata": {
    "ExecuteTime": {
     "end_time": "2021-02-13T09:51:30.257545Z",
     "start_time": "2021-02-13T09:51:30.255685Z"
    }
   },
   "outputs": [
    {
     "data": {
      "text/plain": [
       "torch.Size([1, 12, 768])"
      ]
     },
     "execution_count": 135,
     "metadata": {},
     "output_type": "execute_result"
    }
   ],
   "source": [
    "x.shape"
   ]
  },
  {
   "cell_type": "code",
   "execution_count": 136,
   "id": "electric-gauge",
   "metadata": {
    "ExecuteTime": {
     "end_time": "2021-02-13T09:51:31.044750Z",
     "start_time": "2021-02-13T09:51:31.042902Z"
    }
   },
   "outputs": [
    {
     "data": {
      "text/plain": [
       "torch.Size([1, 12, 768])"
      ]
     },
     "execution_count": 136,
     "metadata": {},
     "output_type": "execute_result"
    }
   ],
   "source": [
    "y.shape"
   ]
  },
  {
   "cell_type": "code",
   "execution_count": 137,
   "id": "minimal-integer",
   "metadata": {
    "ExecuteTime": {
     "end_time": "2021-02-13T09:51:31.736178Z",
     "start_time": "2021-02-13T09:51:31.733907Z"
    }
   },
   "outputs": [
    {
     "data": {
      "text/plain": [
       "tensor(1.)"
      ]
     },
     "execution_count": 137,
     "metadata": {},
     "output_type": "execute_result"
    }
   ],
   "source": [
    "torch.mean((x == y).float())"
   ]
  },
  {
   "cell_type": "code",
   "execution_count": null,
   "id": "burning-hunger",
   "metadata": {},
   "outputs": [],
   "source": []
  }
 ],
 "metadata": {
  "kernelspec": {
   "display_name": "diploma",
   "language": "python",
   "name": "diploma"
  },
  "language_info": {
   "codemirror_mode": {
    "name": "ipython",
    "version": 3
   },
   "file_extension": ".py",
   "mimetype": "text/x-python",
   "name": "python",
   "nbconvert_exporter": "python",
   "pygments_lexer": "ipython3",
   "version": "3.8.5"
  }
 },
 "nbformat": 4,
 "nbformat_minor": 5
}
