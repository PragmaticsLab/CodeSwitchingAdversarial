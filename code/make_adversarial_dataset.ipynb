{
 "cells": [
  {
   "cell_type": "code",
   "execution_count": 1,
   "id": "brave-clark",
   "metadata": {
    "ExecuteTime": {
     "end_time": "2021-05-07T13:58:45.165104Z",
     "start_time": "2021-05-07T13:58:44.100170Z"
    }
   },
   "outputs": [],
   "source": [
    "import pandas as pd\n",
    "from itertools import combinations\n",
    "\n",
    "from adversarial import RandomAdversarialAlignments\n",
    "\n",
    "from utils import load_config\n",
    "\n",
    "config = load_config()\n",
    "\n",
    "languages = config['languages']"
   ]
  },
  {
   "cell_type": "code",
   "execution_count": 2,
   "id": "excellent-kidney",
   "metadata": {
    "ExecuteTime": {
     "end_time": "2021-05-07T13:59:54.109676Z",
     "start_time": "2021-05-07T13:58:45.166249Z"
    }
   },
   "outputs": [
    {
     "name": "stderr",
     "output_type": "stream",
     "text": [
      "GENERATING ADVERSARIAL EXAMPLES: 100%|██████████| 4884/4884 [00:01<00:00, 3204.00it/s]\n",
      "GENERATING ADVERSARIAL EXAMPLES: 100%|██████████| 4884/4884 [00:01<00:00, 3209.97it/s]\n",
      "GENERATING ADVERSARIAL EXAMPLES: 100%|██████████| 4884/4884 [00:01<00:00, 3121.73it/s]\n",
      "GENERATING ADVERSARIAL EXAMPLES: 100%|██████████| 4884/4884 [00:01<00:00, 3736.94it/s]\n",
      "GENERATING ADVERSARIAL EXAMPLES: 100%|██████████| 4884/4884 [00:01<00:00, 3165.99it/s]\n",
      "GENERATING ADVERSARIAL EXAMPLES: 100%|██████████| 4884/4884 [00:01<00:00, 3293.97it/s]\n",
      "GENERATING ADVERSARIAL EXAMPLES: 100%|██████████| 4884/4884 [00:01<00:00, 3172.46it/s]\n",
      "GENERATING ADVERSARIAL EXAMPLES: 100%|██████████| 4884/4884 [00:01<00:00, 3111.43it/s]\n",
      "GENERATING ADVERSARIAL EXAMPLES: 100%|██████████| 4884/4884 [00:01<00:00, 3092.14it/s]\n",
      "GENERATING ADVERSARIAL EXAMPLES: 100%|██████████| 4884/4884 [00:01<00:00, 3623.53it/s]\n",
      "GENERATING ADVERSARIAL EXAMPLES: 100%|██████████| 4884/4884 [00:01<00:00, 3120.71it/s]\n",
      "GENERATING ADVERSARIAL EXAMPLES: 100%|██████████| 4884/4884 [00:01<00:00, 3293.98it/s]\n",
      "GENERATING ADVERSARIAL EXAMPLES: 100%|██████████| 4884/4884 [00:01<00:00, 2975.38it/s]\n",
      "GENERATING ADVERSARIAL EXAMPLES: 100%|██████████| 4884/4884 [00:01<00:00, 2908.86it/s]\n",
      "GENERATING ADVERSARIAL EXAMPLES: 100%|██████████| 4884/4884 [00:01<00:00, 2876.62it/s]\n",
      "GENERATING ADVERSARIAL EXAMPLES: 100%|██████████| 4884/4884 [00:01<00:00, 3354.51it/s]\n",
      "GENERATING ADVERSARIAL EXAMPLES: 100%|██████████| 4884/4884 [00:01<00:00, 2828.30it/s]\n",
      "GENERATING ADVERSARIAL EXAMPLES: 100%|██████████| 4884/4884 [00:01<00:00, 2963.79it/s]\n",
      "GENERATING ADVERSARIAL EXAMPLES: 100%|██████████| 4884/4884 [00:01<00:00, 2907.01it/s]\n",
      "GENERATING ADVERSARIAL EXAMPLES: 100%|██████████| 4884/4884 [00:01<00:00, 2864.97it/s]\n",
      "GENERATING ADVERSARIAL EXAMPLES: 100%|██████████| 4884/4884 [00:01<00:00, 2879.80it/s]\n",
      "GENERATING ADVERSARIAL EXAMPLES: 100%|██████████| 4884/4884 [00:01<00:00, 3420.57it/s]\n",
      "GENERATING ADVERSARIAL EXAMPLES: 100%|██████████| 4884/4884 [00:01<00:00, 2896.15it/s]\n",
      "GENERATING ADVERSARIAL EXAMPLES: 100%|██████████| 4884/4884 [00:01<00:00, 3059.99it/s]\n",
      "GENERATING ADVERSARIAL EXAMPLES: 100%|██████████| 4884/4884 [00:00<00:00, 5674.04it/s]\n",
      "GENERATING ADVERSARIAL EXAMPLES: 100%|██████████| 4884/4884 [00:00<00:00, 5727.65it/s]\n",
      "GENERATING ADVERSARIAL EXAMPLES: 100%|██████████| 4884/4884 [00:00<00:00, 5735.31it/s]\n",
      "GENERATING ADVERSARIAL EXAMPLES: 100%|██████████| 4884/4884 [00:00<00:00, 5758.95it/s]\n",
      "GENERATING ADVERSARIAL EXAMPLES: 100%|██████████| 4884/4884 [00:00<00:00, 5759.66it/s]\n",
      "GENERATING ADVERSARIAL EXAMPLES: 100%|██████████| 4884/4884 [00:00<00:00, 5711.91it/s]\n",
      "GENERATING ADVERSARIAL EXAMPLES: 100%|██████████| 4884/4884 [00:01<00:00, 2900.99it/s]\n",
      "GENERATING ADVERSARIAL EXAMPLES: 100%|██████████| 4884/4884 [00:01<00:00, 2930.65it/s]\n",
      "GENERATING ADVERSARIAL EXAMPLES: 100%|██████████| 4884/4884 [00:01<00:00, 2832.74it/s]\n",
      "GENERATING ADVERSARIAL EXAMPLES: 100%|██████████| 4884/4884 [00:01<00:00, 2834.38it/s]\n",
      "GENERATING ADVERSARIAL EXAMPLES: 100%|██████████| 4884/4884 [00:01<00:00, 3455.23it/s]\n",
      "GENERATING ADVERSARIAL EXAMPLES: 100%|██████████| 4884/4884 [00:01<00:00, 2977.18it/s]\n",
      "GENERATING ADVERSARIAL EXAMPLES: 100%|██████████| 4884/4884 [00:01<00:00, 4790.52it/s]\n",
      "GENERATING ADVERSARIAL EXAMPLES: 100%|██████████| 4884/4884 [00:01<00:00, 4672.99it/s]\n",
      "GENERATING ADVERSARIAL EXAMPLES: 100%|██████████| 4884/4884 [00:01<00:00, 4806.67it/s]\n",
      "GENERATING ADVERSARIAL EXAMPLES: 100%|██████████| 4884/4884 [00:01<00:00, 4776.17it/s]\n",
      "GENERATING ADVERSARIAL EXAMPLES: 100%|██████████| 4884/4884 [00:00<00:00, 5300.77it/s]\n",
      "GENERATING ADVERSARIAL EXAMPLES: 100%|██████████| 4884/4884 [00:01<00:00, 4813.13it/s]\n"
     ]
    }
   ],
   "source": [
    "for base_language in languages:\n",
    "    other_languages = list(languages)\n",
    "    other_languages.remove(base_language)\n",
    "\n",
    "    dataset = pd.DataFrame()\n",
    "\n",
    "    for language in other_languages:\n",
    "        dataset = pd.concat(\n",
    "            (\n",
    "                dataset,\n",
    "                RandomAdversarialAlignments(\n",
    "                    base_language=base_language,\n",
    "                    languages=[language],\n",
    "                    subset='train',\n",
    "                    num_examples=1\n",
    "                ).generate_dataset('train')\n",
    "            )\n",
    "        )\n",
    "\n",
    "    dataset.to_csv(f'data/atis/adversarial/adversarial_{base_language}.csv')"
   ]
  }
 ],
 "metadata": {
  "kernelspec": {
   "display_name": "diploma",
   "language": "python",
   "name": "diploma"
  },
  "language_info": {
   "codemirror_mode": {
    "name": "ipython",
    "version": 3
   },
   "file_extension": ".py",
   "mimetype": "text/x-python",
   "name": "python",
   "nbconvert_exporter": "python",
   "pygments_lexer": "ipython3",
   "version": "3.9.4"
  }
 },
 "nbformat": 4,
 "nbformat_minor": 5
}
