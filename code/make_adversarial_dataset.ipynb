{
 "cells": [
  {
   "cell_type": "code",
   "execution_count": 1,
   "id": "brave-clark",
   "metadata": {
    "ExecuteTime": {
     "end_time": "2021-05-07T15:49:04.779302Z",
     "start_time": "2021-05-07T15:49:03.709824Z"
    }
   },
   "outputs": [],
   "source": [
    "import os\n",
    "\n",
    "import pandas as pd\n",
    "\n",
    "from adversarial import RandomAdversarialAlignments\n",
    "from utils import load_config\n",
    "\n",
    "\n",
    "config = load_config()\n",
    "\n",
    "languages = ['en']"
   ]
  },
  {
   "cell_type": "code",
   "execution_count": 2,
   "id": "excellent-kidney",
   "metadata": {
    "ExecuteTime": {
     "end_time": "2021-05-07T15:49:15.352544Z",
     "start_time": "2021-05-07T15:49:04.780506Z"
    }
   },
   "outputs": [
    {
     "name": "stderr",
     "output_type": "stream",
     "text": [
      "GENERATING ADVERSARIAL EXAMPLES: 100%|██████████| 4884/4884 [00:01<00:00, 3117.55it/s]\n",
      "GENERATING ADVERSARIAL EXAMPLES: 100%|██████████| 4884/4884 [00:01<00:00, 3085.89it/s]\n",
      "GENERATING ADVERSARIAL EXAMPLES: 100%|██████████| 4884/4884 [00:01<00:00, 3106.87it/s]\n",
      "GENERATING ADVERSARIAL EXAMPLES: 100%|██████████| 4884/4884 [00:01<00:00, 3708.91it/s]\n",
      "GENERATING ADVERSARIAL EXAMPLES: 100%|██████████| 4884/4884 [00:01<00:00, 3135.52it/s]\n",
      "GENERATING ADVERSARIAL EXAMPLES: 100%|██████████| 4884/4884 [00:01<00:00, 3239.66it/s]\n"
     ]
    }
   ],
   "source": [
    "if not os.path.exists('data/atis/adversarial'):\n",
    "    os.mkdir('data/atis/adversarial')\n",
    "\n",
    "for base_language in languages:\n",
    "    other_languages = list(config['languages'])\n",
    "    other_languages.remove(base_language)\n",
    "\n",
    "    dataset = pd.DataFrame()\n",
    "\n",
    "    for language in other_languages:\n",
    "        dataset = pd.concat(\n",
    "            (\n",
    "                dataset,\n",
    "                RandomAdversarialAlignments(\n",
    "                    base_language=base_language,\n",
    "                    languages=[language],\n",
    "                    subset='train',\n",
    "                    num_examples=1\n",
    "                ).generate_dataset('train')\n",
    "            )\n",
    "        )\n",
    "\n",
    "    dataset.to_csv(f'data/atis/adversarial/adversarial_{base_language}.csv')"
   ]
  },
  {
   "cell_type": "code",
   "execution_count": 3,
   "id": "cooked-wisdom",
   "metadata": {
    "ExecuteTime": {
     "end_time": "2021-05-07T15:49:15.465392Z",
     "start_time": "2021-05-07T15:49:15.353381Z"
    }
   },
   "outputs": [],
   "source": [
    "import numpy as np\n",
    "\n",
    "\n",
    "uuids = set()\n",
    "\n",
    "for base_language in languages:\n",
    "    dataset = pd.read_csv(f'data/atis/adversarial/adversarial_{base_language}.csv')\n",
    "\n",
    "    dataset['uuid'] = np.arange(len(dataset))\n",
    "    dataset['len'] = dataset['utterance'].str.split().apply(lambda x: len(x))\n",
    "\n",
    "    uuids.update(dataset.loc[dataset['len'] >= 30]['uuid'])"
   ]
  },
  {
   "cell_type": "code",
   "execution_count": 4,
   "id": "positive-engineer",
   "metadata": {
    "ExecuteTime": {
     "end_time": "2021-05-07T15:49:15.602527Z",
     "start_time": "2021-05-07T15:49:15.466187Z"
    }
   },
   "outputs": [],
   "source": [
    "for base_language in languages:\n",
    "    dataset = pd.read_csv(f'data/atis/adversarial/adversarial_{base_language}.csv')\n",
    "    dataset['uuid'] = np.arange(len(dataset))\n",
    "\n",
    "    dataset = dataset.loc[~dataset['uuid'].isin(uuids)]\n",
    "    dataset.drop('uuid', axis=1, inplace=True)\n",
    "\n",
    "    dataset.to_csv(f'data/atis/adversarial/adversarial_{base_language}.csv')"
   ]
  },
  {
   "cell_type": "code",
   "execution_count": null,
   "id": "interpreted-affiliate",
   "metadata": {},
   "outputs": [],
   "source": []
  }
 ],
 "metadata": {
  "kernelspec": {
   "display_name": "diploma",
   "language": "python",
   "name": "diploma"
  },
  "language_info": {
   "codemirror_mode": {
    "name": "ipython",
    "version": 3
   },
   "file_extension": ".py",
   "mimetype": "text/x-python",
   "name": "python",
   "nbconvert_exporter": "python",
   "pygments_lexer": "ipython3",
   "version": "3.9.4"
  }
 },
 "nbformat": 4,
 "nbformat_minor": 5
}