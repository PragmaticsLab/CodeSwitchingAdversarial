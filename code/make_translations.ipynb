{
 "cells": [
  {
   "cell_type": "code",
   "execution_count": 1,
   "id": "canadian-engagement",
   "metadata": {
    "ExecuteTime": {
     "end_time": "2021-05-08T13:57:49.621600Z",
     "start_time": "2021-05-08T13:57:48.665495Z"
    }
   },
   "outputs": [],
   "source": [
    "from dataset import read_atis\n",
    "\n",
    "test = read_atis('test')"
   ]
  },
  {
   "cell_type": "code",
   "execution_count": 2,
   "id": "hindu-reservoir",
   "metadata": {
    "ExecuteTime": {
     "end_time": "2021-05-08T13:57:49.629141Z",
     "start_time": "2021-05-08T13:57:49.622702Z"
    }
   },
   "outputs": [],
   "source": [
    "words = set()\n",
    "\n",
    "for sent in test['utterance']:\n",
    "    words.update(sent.split())"
   ]
  },
  {
   "cell_type": "code",
   "execution_count": 3,
   "id": "successful-number",
   "metadata": {
    "ExecuteTime": {
     "end_time": "2021-05-08T13:57:49.639854Z",
     "start_time": "2021-05-08T13:57:49.630151Z"
    }
   },
   "outputs": [
    {
     "data": {
      "text/plain": [
       "2781"
      ]
     },
     "execution_count": 3,
     "metadata": {},
     "output_type": "execute_result"
    }
   ],
   "source": [
    "len(words)"
   ]
  },
  {
   "cell_type": "code",
   "execution_count": 4,
   "id": "abstract-extra",
   "metadata": {
    "ExecuteTime": {
     "end_time": "2021-05-08T13:58:09.986463Z",
     "start_time": "2021-05-08T13:57:49.640604Z"
    }
   },
   "outputs": [],
   "source": [
    "from functools import cache\n",
    "from easynmt import EasyNMT\n",
    "\n",
    "\n",
    "model = EasyNMT('m2m_100_418M', device='cuda', max_length=1)\n",
    "\n",
    "\n",
    "@cache\n",
    "def translate(word: str, source_lang: str, target_lang: str) -> str:\n",
    "    return model.translate(word, source_lang=source_lang, target_lang=target_lang)"
   ]
  },
  {
   "cell_type": "code",
   "execution_count": 5,
   "id": "dated-thinking",
   "metadata": {
    "ExecuteTime": {
     "end_time": "2021-05-08T13:58:09.990870Z",
     "start_time": "2021-05-08T13:58:09.987341Z"
    }
   },
   "outputs": [],
   "source": [
    "from tqdm import tqdm\n",
    "\n",
    "from utils import load_config\n",
    "\n",
    "languages = load_config()['languages']\n",
    "\n",
    "translations = {lang: {lang1: {} for lang1 in languages if lang1 != lang} for lang in languages}"
   ]
  },
  {
   "cell_type": "code",
   "execution_count": 6,
   "id": "fundamental-contrary",
   "metadata": {
    "ExecuteTime": {
     "end_time": "2021-05-08T13:58:10.006183Z",
     "start_time": "2021-05-08T13:58:09.991706Z"
    }
   },
   "outputs": [
    {
     "data": {
      "text/plain": [
       "{'en': {'de': {}, 'es': {}, 'fr': {}, 'ja': {}, 'pt': {}, 'zh': {}},\n",
       " 'de': {'en': {}, 'es': {}, 'fr': {}, 'ja': {}, 'pt': {}, 'zh': {}},\n",
       " 'es': {'en': {}, 'de': {}, 'fr': {}, 'ja': {}, 'pt': {}, 'zh': {}},\n",
       " 'fr': {'en': {}, 'de': {}, 'es': {}, 'ja': {}, 'pt': {}, 'zh': {}},\n",
       " 'ja': {'en': {}, 'de': {}, 'es': {}, 'fr': {}, 'pt': {}, 'zh': {}},\n",
       " 'pt': {'en': {}, 'de': {}, 'es': {}, 'fr': {}, 'ja': {}, 'zh': {}},\n",
       " 'zh': {'en': {}, 'de': {}, 'es': {}, 'fr': {}, 'ja': {}, 'pt': {}}}"
      ]
     },
     "execution_count": 6,
     "metadata": {},
     "output_type": "execute_result"
    }
   ],
   "source": [
    "translations"
   ]
  },
  {
   "cell_type": "code",
   "execution_count": 7,
   "id": "unexpected-gauge",
   "metadata": {
    "ExecuteTime": {
     "end_time": "2021-05-08T14:29:43.096425Z",
     "start_time": "2021-05-08T13:58:10.007237Z"
    }
   },
   "outputs": [
    {
     "name": "stderr",
     "output_type": "stream",
     "text": [
      "translating: 100%|██████████| 5285/5285 [31:33<00:00,  2.79it/s]  \n"
     ]
    }
   ],
   "source": [
    "for idx, row in tqdm(test.iterrows(), desc='translating', total=len(test)):\n",
    "    source_lang = row['language']\n",
    "    sent = row['utterance'].split()\n",
    "\n",
    "    for target_lang in languages:\n",
    "        if source_lang != target_lang:\n",
    "            for word in sent:\n",
    "                translations[source_lang][target_lang][word] = translate(\n",
    "                    word,\n",
    "                    source_lang=source_lang,\n",
    "                    target_lang=target_lang\n",
    "                )"
   ]
  },
  {
   "cell_type": "code",
   "execution_count": 9,
   "id": "derived-regression",
   "metadata": {
    "ExecuteTime": {
     "end_time": "2021-05-08T14:34:03.360559Z",
     "start_time": "2021-05-08T14:34:03.341371Z"
    }
   },
   "outputs": [],
   "source": [
    "import torch\n",
    "\n",
    "torch.save(translations, 'data/atis_test_translations/translations.pt')"
   ]
  }
 ],
 "metadata": {
  "kernelspec": {
   "display_name": "diploma",
   "language": "python",
   "name": "diploma"
  },
  "language_info": {
   "codemirror_mode": {
    "name": "ipython",
    "version": 3
   },
   "file_extension": ".py",
   "mimetype": "text/x-python",
   "name": "python",
   "nbconvert_exporter": "python",
   "pygments_lexer": "ipython3",
   "version": "3.9.4"
  }
 },
 "nbformat": 4,
 "nbformat_minor": 5
}
