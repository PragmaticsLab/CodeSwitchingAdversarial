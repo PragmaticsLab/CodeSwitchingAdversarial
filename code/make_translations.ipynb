{
 "cells": [
  {
   "cell_type": "code",
   "execution_count": null,
   "id": "unexpected-gauge",
   "metadata": {},
   "outputs": [],
   "source": [
    "import numpy as np\n",
    "from easynmt import EasyNMT\n",
    "from tqdm import tqdm\n",
    "\n",
    "from dataset import read_atis\n",
    "from utils import load_config\n",
    "\n",
    "\n",
    "model = EasyNMT('m2m_100_418M', device='cuda', max_length=1)\n",
    "\n",
    "for lang1 in load_config()['languages']:\n",
    "    for lang2 in load_config()['languages']:\n",
    "\n",
    "        lens = []\n",
    "\n",
    "        if lang1 != lang2:\n",
    "            test = read_atis('test', [lang1])\n",
    "\n",
    "            for sent in tqdm(test['utterance']):\n",
    "                for word in sent.split():\n",
    "                    lens.append(len(model.translate(word, source_lang=lang1, target_lang=lang2).split()))\n",
    "\n",
    "            print(f'From {lang1} to {lang2}, avg len {np.mean(lens):.2f}')"
   ]
  }
 ],
 "metadata": {
  "kernelspec": {
   "display_name": "diploma",
   "language": "python",
   "name": "diploma"
  },
  "language_info": {
   "codemirror_mode": {
    "name": "ipython",
    "version": 3
   },
   "file_extension": ".py",
   "mimetype": "text/x-python",
   "name": "python",
   "nbconvert_exporter": "python",
   "pygments_lexer": "ipython3",
   "version": "3.9.4"
  }
 },
 "nbformat": 4,
 "nbformat_minor": 5
}