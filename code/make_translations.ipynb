{
 "cells": [
  {
   "cell_type": "code",
   "execution_count": null,
   "id": "canadian-engagement",
   "metadata": {},
   "outputs": [],
   "source": [
    "from dataset import read_atis\n",
    "\n",
    "test = read_atis('test')"
   ]
  },
  {
   "cell_type": "code",
   "execution_count": null,
   "id": "hindu-reservoir",
   "metadata": {},
   "outputs": [],
   "source": [
    "words = set()\n",
    "\n",
    "for sent in test['utterance']:\n",
    "    words.update(sent.split())"
   ]
  },
  {
   "cell_type": "code",
   "execution_count": null,
   "id": "successful-number",
   "metadata": {},
   "outputs": [],
   "source": [
    "len(words)"
   ]
  },
  {
   "cell_type": "code",
   "execution_count": null,
   "id": "abstract-extra",
   "metadata": {},
   "outputs": [],
   "source": [
    "from functools import cache\n",
    "from easynmt import EasyNMT\n",
    "\n",
    "\n",
    "model = EasyNMT('m2m_100_418M', device='cuda', max_length=1)\n",
    "\n",
    "\n",
    "@cache\n",
    "def translate(word: str, source_lang: str, target_lang: str) -> str:\n",
    "    return model.translate(word, source_lang=source_lang, target_lang=target_lang)"
   ]
  },
  {
   "cell_type": "code",
   "execution_count": null,
   "id": "dated-thinking",
   "metadata": {},
   "outputs": [],
   "source": [
    "from tqdm import tqdm\n",
    "\n",
    "from utils import load_config\n",
    "\n",
    "languages = load_config()['languages']\n",
    "\n",
    "translations = {lang: {lang1: {} for lang1 in languages if lang1 != lang} for lang in languages}"
   ]
  },
  {
   "cell_type": "code",
   "execution_count": null,
   "id": "fundamental-contrary",
   "metadata": {},
   "outputs": [],
   "source": [
    "translations"
   ]
  },
  {
   "cell_type": "code",
   "execution_count": null,
   "id": "unexpected-gauge",
   "metadata": {},
   "outputs": [],
   "source": [
    "for idx, row in tqdm(test.iterrows(), desc='translating', total=len(test)):\n",
    "    source_lang = row['language']\n",
    "    sent = row['utterance'].split()\n",
    "\n",
    "    for target_lang in languages:\n",
    "        if source_lang != target_lang:\n",
    "            for word in sent:\n",
    "                translations[source_lang][target_lang][word] = translate(\n",
    "                    word,\n",
    "                    source_lang=source_lang,\n",
    "                    target_lang=target_lang\n",
    "                )"
   ]
  },
  {
   "cell_type": "code",
   "execution_count": null,
   "id": "derived-regression",
   "metadata": {},
   "outputs": [],
   "source": [
    "import torch\n",
    "\n",
    "torch.save(translations, 'data/atis_test_translations/translations.pt')"
   ]
  }
 ],
 "metadata": {
  "kernelspec": {
   "display_name": "diploma",
   "language": "python",
   "name": "diploma"
  },
  "language_info": {
   "codemirror_mode": {
    "name": "ipython",
    "version": 3
   },
   "file_extension": ".py",
   "mimetype": "text/x-python",
   "name": "python",
   "nbconvert_exporter": "python",
   "pygments_lexer": "ipython3",
   "version": "3.9.4"
  }
 },
 "nbformat": 4,
 "nbformat_minor": 5
}
