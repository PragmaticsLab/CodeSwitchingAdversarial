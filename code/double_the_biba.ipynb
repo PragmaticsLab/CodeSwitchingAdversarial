{
 "cells": [
  {
   "cell_type": "code",
   "execution_count": 1,
   "metadata": {
    "ExecuteTime": {
     "end_time": "2021-04-27T13:44:49.170866Z",
     "start_time": "2021-04-27T13:44:47.955542Z"
    }
   },
   "outputs": [],
   "source": [
    "import pandas as pd\n",
    "\n",
    "from adversarial import Pacifist, AdversarialWordLevel, AdversarialAlignments\n",
    "\n",
    "from utils import load_config"
   ]
  },
  {
   "cell_type": "code",
   "execution_count": 2,
   "metadata": {
    "ExecuteTime": {
     "end_time": "2021-04-27T13:58:03.679664Z",
     "start_time": "2021-04-27T13:44:49.752118Z"
    }
   },
   "outputs": [
    {
     "name": "stderr",
     "output_type": "stream",
     "text": [
      "GENERATING ADVERSARIAL EXAMPLES: 100%|██████████| 893/893 [00:00<00:00, 2781.37it/s]\n",
      "GENERATING ADVERSARIAL EXAMPLES: 100%|██████████| 893/893 [05:52<00:00,  2.54it/s]\n",
      "GENERATING ADVERSARIAL EXAMPLES: 100%|██████████| 893/893 [01:05<00:00, 13.55it/s]\n",
      "GENERATING ADVERSARIAL EXAMPLES: 100%|██████████| 893/893 [01:08<00:00, 12.95it/s]\n",
      "GENERATING ADVERSARIAL EXAMPLES: 100%|██████████| 893/893 [01:08<00:00, 13.04it/s]\n",
      "GENERATING ADVERSARIAL EXAMPLES: 100%|██████████| 893/893 [00:55<00:00, 16.07it/s]\n",
      "GENERATING ADVERSARIAL EXAMPLES: 100%|██████████| 893/893 [01:06<00:00, 13.42it/s]\n",
      "GENERATING ADVERSARIAL EXAMPLES: 100%|██████████| 893/893 [01:04<00:00, 13.95it/s]\n"
     ]
    }
   ],
   "source": [
    "results = {}\n",
    "\n",
    "results['No attack'] = Pacifist().attack_test()\n",
    "# results['Word level [ALL]'] = AdversarialWordLevel().attack_test()\n",
    "\n",
    "# for language in load_config()['languages'][1:]:\n",
    "#     results[f'Word level [{language}]'] = AdversarialWordLevel(languages=[language]).attack_test()\n",
    "\n",
    "results['Alignments [ALL]'] = AdversarialAlignments().attack_test()\n",
    "\n",
    "for language in load_config()['languages'][1:]:\n",
    "    results[f'Alignments [{language}]'] = AdversarialAlignments(languages=[language]).attack_test()"
   ]
  },
  {
   "cell_type": "code",
   "execution_count": 3,
   "metadata": {
    "ExecuteTime": {
     "end_time": "2021-04-27T13:58:03.691380Z",
     "start_time": "2021-04-27T13:58:03.680667Z"
    }
   },
   "outputs": [
    {
     "data": {
      "text/html": [
       "<div>\n",
       "<style scoped>\n",
       "    .dataframe tbody tr th:only-of-type {\n",
       "        vertical-align: middle;\n",
       "    }\n",
       "\n",
       "    .dataframe tbody tr th {\n",
       "        vertical-align: top;\n",
       "    }\n",
       "\n",
       "    .dataframe thead th {\n",
       "        text-align: right;\n",
       "    }\n",
       "</style>\n",
       "<table border=\"1\" class=\"dataframe\">\n",
       "  <thead>\n",
       "    <tr style=\"text-align: right;\">\n",
       "      <th></th>\n",
       "      <th>No attack</th>\n",
       "      <th>Alignments [ALL]</th>\n",
       "      <th>Alignments [de]</th>\n",
       "      <th>Alignments [es]</th>\n",
       "      <th>Alignments [fr]</th>\n",
       "      <th>Alignments [ja]</th>\n",
       "      <th>Alignments [pt]</th>\n",
       "      <th>Alignments [zh_cn]</th>\n",
       "    </tr>\n",
       "  </thead>\n",
       "  <tbody>\n",
       "    <tr>\n",
       "      <th>intent_acc</th>\n",
       "      <td>0.963046</td>\n",
       "      <td>0.827548</td>\n",
       "      <td>0.913774</td>\n",
       "      <td>0.881299</td>\n",
       "      <td>0.894737</td>\n",
       "      <td>0.883539</td>\n",
       "      <td>0.874580</td>\n",
       "      <td>0.875700</td>\n",
       "    </tr>\n",
       "    <tr>\n",
       "      <th>slot_precision</th>\n",
       "      <td>0.946555</td>\n",
       "      <td>0.373626</td>\n",
       "      <td>0.742058</td>\n",
       "      <td>0.715195</td>\n",
       "      <td>0.677135</td>\n",
       "      <td>0.373874</td>\n",
       "      <td>0.718390</td>\n",
       "      <td>0.499041</td>\n",
       "    </tr>\n",
       "    <tr>\n",
       "      <th>slot_recall</th>\n",
       "      <td>0.941762</td>\n",
       "      <td>0.483412</td>\n",
       "      <td>0.757032</td>\n",
       "      <td>0.699203</td>\n",
       "      <td>0.709941</td>\n",
       "      <td>0.502548</td>\n",
       "      <td>0.737028</td>\n",
       "      <td>0.675851</td>\n",
       "    </tr>\n",
       "    <tr>\n",
       "      <th>slot_f1</th>\n",
       "      <td>0.944152</td>\n",
       "      <td>0.421488</td>\n",
       "      <td>0.749470</td>\n",
       "      <td>0.707108</td>\n",
       "      <td>0.693150</td>\n",
       "      <td>0.428766</td>\n",
       "      <td>0.727589</td>\n",
       "      <td>0.574142</td>\n",
       "    </tr>\n",
       "    <tr>\n",
       "      <th>sementic_frame_acc</th>\n",
       "      <td>0.760358</td>\n",
       "      <td>0.089586</td>\n",
       "      <td>0.395297</td>\n",
       "      <td>0.283315</td>\n",
       "      <td>0.298992</td>\n",
       "      <td>0.071669</td>\n",
       "      <td>0.349384</td>\n",
       "      <td>0.167973</td>\n",
       "    </tr>\n",
       "    <tr>\n",
       "      <th>loss</th>\n",
       "      <td>0.477867</td>\n",
       "      <td>5.390601</td>\n",
       "      <td>1.941148</td>\n",
       "      <td>2.059446</td>\n",
       "      <td>2.308338</td>\n",
       "      <td>4.545005</td>\n",
       "      <td>2.188753</td>\n",
       "      <td>3.229285</td>\n",
       "    </tr>\n",
       "    <tr>\n",
       "      <th>time</th>\n",
       "      <td>1.824270</td>\n",
       "      <td>353.285777</td>\n",
       "      <td>67.011065</td>\n",
       "      <td>70.093256</td>\n",
       "      <td>69.609385</td>\n",
       "      <td>56.766438</td>\n",
       "      <td>67.675147</td>\n",
       "      <td>65.183674</td>\n",
       "    </tr>\n",
       "  </tbody>\n",
       "</table>\n",
       "</div>"
      ],
      "text/plain": [
       "                    No attack  Alignments [ALL]  Alignments [de]  \\\n",
       "intent_acc           0.963046          0.827548         0.913774   \n",
       "slot_precision       0.946555          0.373626         0.742058   \n",
       "slot_recall          0.941762          0.483412         0.757032   \n",
       "slot_f1              0.944152          0.421488         0.749470   \n",
       "sementic_frame_acc   0.760358          0.089586         0.395297   \n",
       "loss                 0.477867          5.390601         1.941148   \n",
       "time                 1.824270        353.285777        67.011065   \n",
       "\n",
       "                    Alignments [es]  Alignments [fr]  Alignments [ja]  \\\n",
       "intent_acc                 0.881299         0.894737         0.883539   \n",
       "slot_precision             0.715195         0.677135         0.373874   \n",
       "slot_recall                0.699203         0.709941         0.502548   \n",
       "slot_f1                    0.707108         0.693150         0.428766   \n",
       "sementic_frame_acc         0.283315         0.298992         0.071669   \n",
       "loss                       2.059446         2.308338         4.545005   \n",
       "time                      70.093256        69.609385        56.766438   \n",
       "\n",
       "                    Alignments [pt]  Alignments [zh_cn]  \n",
       "intent_acc                 0.874580            0.875700  \n",
       "slot_precision             0.718390            0.499041  \n",
       "slot_recall                0.737028            0.675851  \n",
       "slot_f1                    0.727589            0.574142  \n",
       "sementic_frame_acc         0.349384            0.167973  \n",
       "loss                       2.188753            3.229285  \n",
       "time                      67.675147           65.183674  "
      ]
     },
     "execution_count": 3,
     "metadata": {},
     "output_type": "execute_result"
    }
   ],
   "source": [
    "pd.DataFrame.from_dict(results)"
   ]
  },
  {
   "cell_type": "code",
   "execution_count": null,
   "metadata": {},
   "outputs": [],
   "source": []
  }
 ],
 "metadata": {
  "kernelspec": {
   "display_name": "diploma",
   "language": "python",
   "name": "diploma"
  },
  "language_info": {
   "codemirror_mode": {
    "name": "ipython",
    "version": 3
   },
   "file_extension": ".py",
   "mimetype": "text/x-python",
   "name": "python",
   "nbconvert_exporter": "python",
   "pygments_lexer": "ipython3",
   "version": "3.8.5"
  }
 },
 "nbformat": 4,
 "nbformat_minor": 4
}
