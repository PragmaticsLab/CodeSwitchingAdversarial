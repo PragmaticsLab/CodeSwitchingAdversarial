{
 "cells": [
  {
   "cell_type": "code",
   "execution_count": 1,
   "metadata": {
    "ExecuteTime": {
     "end_time": "2021-04-26T12:16:43.622702Z",
     "start_time": "2021-04-26T12:16:42.387129Z"
    }
   },
   "outputs": [],
   "source": [
    "import pandas as pd\n",
    "\n",
    "from adversarial import Pacifist, Adversarial1, Adversarial2, evaluate_adversarial\n",
    "\n",
    "from utils import load_config"
   ]
  },
  {
   "cell_type": "code",
   "execution_count": 2,
   "metadata": {
    "ExecuteTime": {
     "end_time": "2021-04-26T12:32:06.814186Z",
     "start_time": "2021-04-26T12:16:43.624089Z"
    }
   },
   "outputs": [
    {
     "name": "stderr",
     "output_type": "stream",
     "text": [
      "GENERATING ADVERSARIAL EXAMPLES: 100%|██████████| 893/893 [00:00<00:00, 2806.99it/s]\n",
      "GENERATING ADVERSARIAL EXAMPLES: 100%|██████████| 893/893 [06:11<00:00,  2.41it/s]\n",
      "GENERATING ADVERSARIAL EXAMPLES: 100%|██████████| 893/893 [01:08<00:00, 13.05it/s]\n",
      "GENERATING ADVERSARIAL EXAMPLES: 100%|██████████| 893/893 [01:08<00:00, 13.10it/s]\n",
      "GENERATING ADVERSARIAL EXAMPLES: 100%|██████████| 893/893 [01:10<00:00, 12.63it/s]\n",
      "GENERATING ADVERSARIAL EXAMPLES: 100%|██████████| 893/893 [01:08<00:00, 13.09it/s]\n",
      "GENERATING ADVERSARIAL EXAMPLES: 100%|██████████| 893/893 [01:15<00:00, 11.84it/s]\n",
      "GENERATING ADVERSARIAL EXAMPLES: 100%|██████████| 893/893 [01:06<00:00, 13.47it/s]\n",
      "GENERATING ADVERSARIAL EXAMPLES: 100%|██████████| 893/893 [01:09<00:00, 12.87it/s]\n"
     ]
    }
   ],
   "source": [
    "results = {}\n",
    "\n",
    "results['No attack'] = evaluate_adversarial(Pacifist)\n",
    "results['Adversarial1'] = evaluate_adversarial(Adversarial1)\n",
    "results['Adversarial2'] = evaluate_adversarial(Adversarial2)\n",
    "\n",
    "for lang in load_config()['languages'][1:]:\n",
    "    results[f'Adversarial2 + {lang}'] = evaluate_adversarial(Adversarial2, languages=[lang])"
   ]
  },
  {
   "cell_type": "code",
   "execution_count": 3,
   "metadata": {
    "ExecuteTime": {
     "end_time": "2021-04-26T12:32:06.826994Z",
     "start_time": "2021-04-26T12:32:06.816111Z"
    }
   },
   "outputs": [
    {
     "data": {
      "text/html": [
       "<div>\n",
       "<style scoped>\n",
       "    .dataframe tbody tr th:only-of-type {\n",
       "        vertical-align: middle;\n",
       "    }\n",
       "\n",
       "    .dataframe tbody tr th {\n",
       "        vertical-align: top;\n",
       "    }\n",
       "\n",
       "    .dataframe thead th {\n",
       "        text-align: right;\n",
       "    }\n",
       "</style>\n",
       "<table border=\"1\" class=\"dataframe\">\n",
       "  <thead>\n",
       "    <tr style=\"text-align: right;\">\n",
       "      <th></th>\n",
       "      <th>No attack</th>\n",
       "      <th>Adversarial1</th>\n",
       "      <th>Adversarial2</th>\n",
       "      <th>Adversarial2 + de</th>\n",
       "      <th>Adversarial2 + es</th>\n",
       "      <th>Adversarial2 + fr</th>\n",
       "      <th>Adversarial2 + ja</th>\n",
       "      <th>Adversarial2 + pt</th>\n",
       "      <th>Adversarial2 + zh_cn</th>\n",
       "    </tr>\n",
       "  </thead>\n",
       "  <tbody>\n",
       "    <tr>\n",
       "      <th>intent_acc</th>\n",
       "      <td>0.963046</td>\n",
       "      <td>0.371781</td>\n",
       "      <td>0.740202</td>\n",
       "      <td>0.680851</td>\n",
       "      <td>0.760358</td>\n",
       "      <td>0.777156</td>\n",
       "      <td>0.697648</td>\n",
       "      <td>0.781635</td>\n",
       "      <td>0.656215</td>\n",
       "    </tr>\n",
       "    <tr>\n",
       "      <th>slot_precision</th>\n",
       "      <td>0.946555</td>\n",
       "      <td>0.235493</td>\n",
       "      <td>0.512759</td>\n",
       "      <td>0.550047</td>\n",
       "      <td>0.503052</td>\n",
       "      <td>0.563672</td>\n",
       "      <td>0.355896</td>\n",
       "      <td>0.537988</td>\n",
       "      <td>0.559340</td>\n",
       "    </tr>\n",
       "    <tr>\n",
       "      <th>slot_recall</th>\n",
       "      <td>0.941762</td>\n",
       "      <td>0.193459</td>\n",
       "      <td>0.503300</td>\n",
       "      <td>0.517143</td>\n",
       "      <td>0.427855</td>\n",
       "      <td>0.553296</td>\n",
       "      <td>0.391244</td>\n",
       "      <td>0.503670</td>\n",
       "      <td>0.577671</td>\n",
       "    </tr>\n",
       "    <tr>\n",
       "      <th>slot_f1</th>\n",
       "      <td>0.944152</td>\n",
       "      <td>0.212416</td>\n",
       "      <td>0.507985</td>\n",
       "      <td>0.533088</td>\n",
       "      <td>0.462417</td>\n",
       "      <td>0.558436</td>\n",
       "      <td>0.372734</td>\n",
       "      <td>0.520264</td>\n",
       "      <td>0.568358</td>\n",
       "    </tr>\n",
       "    <tr>\n",
       "      <th>sementic_frame_acc</th>\n",
       "      <td>0.760358</td>\n",
       "      <td>0.002240</td>\n",
       "      <td>0.042553</td>\n",
       "      <td>0.049272</td>\n",
       "      <td>0.034714</td>\n",
       "      <td>0.048152</td>\n",
       "      <td>0.015677</td>\n",
       "      <td>0.042553</td>\n",
       "      <td>0.072788</td>\n",
       "    </tr>\n",
       "    <tr>\n",
       "      <th>loss</th>\n",
       "      <td>0.474394</td>\n",
       "      <td>9.534054</td>\n",
       "      <td>4.107504</td>\n",
       "      <td>4.225353</td>\n",
       "      <td>3.934034</td>\n",
       "      <td>3.564141</td>\n",
       "      <td>5.107980</td>\n",
       "      <td>3.429256</td>\n",
       "      <td>4.681691</td>\n",
       "    </tr>\n",
       "  </tbody>\n",
       "</table>\n",
       "</div>"
      ],
      "text/plain": [
       "                    No attack  Adversarial1  Adversarial2  Adversarial2 + de  \\\n",
       "intent_acc           0.963046      0.371781      0.740202           0.680851   \n",
       "slot_precision       0.946555      0.235493      0.512759           0.550047   \n",
       "slot_recall          0.941762      0.193459      0.503300           0.517143   \n",
       "slot_f1              0.944152      0.212416      0.507985           0.533088   \n",
       "sementic_frame_acc   0.760358      0.002240      0.042553           0.049272   \n",
       "loss                 0.474394      9.534054      4.107504           4.225353   \n",
       "\n",
       "                    Adversarial2 + es  Adversarial2 + fr  Adversarial2 + ja  \\\n",
       "intent_acc                   0.760358           0.777156           0.697648   \n",
       "slot_precision               0.503052           0.563672           0.355896   \n",
       "slot_recall                  0.427855           0.553296           0.391244   \n",
       "slot_f1                      0.462417           0.558436           0.372734   \n",
       "sementic_frame_acc           0.034714           0.048152           0.015677   \n",
       "loss                         3.934034           3.564141           5.107980   \n",
       "\n",
       "                    Adversarial2 + pt  Adversarial2 + zh_cn  \n",
       "intent_acc                   0.781635              0.656215  \n",
       "slot_precision               0.537988              0.559340  \n",
       "slot_recall                  0.503670              0.577671  \n",
       "slot_f1                      0.520264              0.568358  \n",
       "sementic_frame_acc           0.042553              0.072788  \n",
       "loss                         3.429256              4.681691  "
      ]
     },
     "execution_count": 3,
     "metadata": {},
     "output_type": "execute_result"
    }
   ],
   "source": [
    "pd.DataFrame.from_dict(results)"
   ]
  }
 ],
 "metadata": {
  "kernelspec": {
   "display_name": "diploma",
   "language": "python",
   "name": "diploma"
  },
  "language_info": {
   "codemirror_mode": {
    "name": "ipython",
    "version": 3
   },
   "file_extension": ".py",
   "mimetype": "text/x-python",
   "name": "python",
   "nbconvert_exporter": "python",
   "pygments_lexer": "ipython3",
   "version": "3.8.5"
  }
 },
 "nbformat": 4,
 "nbformat_minor": 4
}
