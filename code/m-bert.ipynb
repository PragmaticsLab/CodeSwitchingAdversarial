{
 "cells": [
  {
   "cell_type": "code",
   "execution_count": 1,
   "id": "dca39ddf",
   "metadata": {},
   "outputs": [],
   "source": [
    "import subprocess\n",
    "\n",
    "from utils import load_config, save_config\n",
    "\n",
    "from tqdm import tqdm\n",
    "\n",
    "config = load_config()\n",
    "\n",
    "config_path = 'config_m-bert.yaml'"
   ]
  },
  {
   "cell_type": "code",
   "execution_count": 2,
   "id": "f7a435cf",
   "metadata": {},
   "outputs": [],
   "source": [
    "save_config(config, config_path)"
   ]
  },
  {
   "cell_type": "code",
   "execution_count": 3,
   "id": "ccd28c89",
   "metadata": {},
   "outputs": [],
   "source": [
    "args = [\n",
    "#     ('mlm', 'adversarial', 10, 'mlm m-bert', False, False),\n",
    "    ('joint', 'atis', 10, 'm-bert', False, False),\n",
    "    ('joint', 'atis', 10, 'm-bert', False, True),\n",
    "    ('joint', 'atis', 10, 'm-bert', True, False),\n",
    "    ('joint', 'atis', 10, 'm-bert', True, True)\n",
    "]"
   ]
  },
  {
   "cell_type": "code",
   "execution_count": 4,
   "id": "0952f5c6",
   "metadata": {},
   "outputs": [
    {
     "name": "stderr",
     "output_type": "stream",
     "text": [
      "100%|██████████| 4/4 [17:56<00:00, 269.05s/it]\n"
     ]
    }
   ],
   "source": [
    "for arg in tqdm(args):\n",
    "    config = load_config(config_path)\n",
    "\n",
    "    config['dataset'] = arg[1]\n",
    "    config['num_epoches'] = arg[2]\n",
    "    config['model_name'] = arg[3]\n",
    "    config['load_adv_pretrained'] = arg[4]\n",
    "    config['only_english'] = arg[5]\n",
    "    \n",
    "    save_config(config, config_path)\n",
    "    \n",
    "    subprocess.run(['python3', f'train_{arg[0]}_model.py', config_path])"
   ]
  },
  {
   "cell_type": "code",
   "execution_count": null,
   "id": "829bd683",
   "metadata": {},
   "outputs": [],
   "source": [
    "for arg in tqdm(args[1:]):\n",
    "    config = load_config(config_path)\n",
    "\n",
    "    config['model_name'] = arg[3]\n",
    "    config['load_adv_pretrained'] = arg[4]\n",
    "    config['only_english'] = arg[5]\n",
    "\n",
    "    save_config(config, config_path)\n",
    "\n",
    "    subprocess.run(['python3', f'attack.py', config_path])"
   ]
  }
 ],
 "metadata": {
  "kernelspec": {
   "display_name": "Python 3",
   "language": "python",
   "name": "python3"
  },
  "language_info": {
   "codemirror_mode": {
    "name": "ipython",
    "version": 3
   },
   "file_extension": ".py",
   "mimetype": "text/x-python",
   "name": "python",
   "nbconvert_exporter": "python",
   "pygments_lexer": "ipython3",
   "version": "3.8.8"
  }
 },
 "nbformat": 4,
 "nbformat_minor": 5
}