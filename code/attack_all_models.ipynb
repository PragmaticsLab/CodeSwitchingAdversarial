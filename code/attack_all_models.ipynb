{
 "cells": [
  {
   "cell_type": "code",
   "execution_count": 1,
   "id": "round-knitting",
   "metadata": {
    "ExecuteTime": {
     "end_time": "2021-05-08T15:45:41.382263Z",
     "start_time": "2021-05-08T15:45:40.611625Z"
    }
   },
   "outputs": [],
   "source": [
    "import subprocess\n",
    "\n",
    "from utils import load_config, save_config\n",
    "\n",
    "model_names = ['xlm-r', 'm-bert']\n",
    "\n",
    "model_types = [(False, False), (True, False), (False, True)]"
   ]
  },
  {
   "cell_type": "code",
   "execution_count": null,
   "id": "obvious-surfing",
   "metadata": {
    "ExecuteTime": {
     "start_time": "2021-05-08T15:45:40.608Z"
    }
   },
   "outputs": [
    {
     "name": "stdout",
     "output_type": "stream",
     "text": [
      "Attacking model xlm-r\n",
      "Pretrained False, body loaded False\n"
     ]
    }
   ],
   "source": [
    "for model_name in model_names:\n",
    "    print(f'Attacking model {model_name}')\n",
    "\n",
    "    for model_type in model_types:\n",
    "        print(f'Pretrained {model_type[0]}, body loaded {model_type[1]}')\n",
    "        config = load_config()\n",
    "        \n",
    "        config['model_name'] = model_name        \n",
    "\n",
    "        config['load_pretrained'] = model_type[0]\n",
    "        config['load_body'] = model_type[1]\n",
    "\n",
    "        save_config(config)\n",
    "\n",
    "        subprocess.run(['python', 'attack.py'])"
   ]
  },
  {
   "cell_type": "code",
   "execution_count": null,
   "id": "great-wrist",
   "metadata": {},
   "outputs": [],
   "source": []
  }
 ],
 "metadata": {
  "kernelspec": {
   "display_name": "diploma",
   "language": "python",
   "name": "diploma"
  },
  "language_info": {
   "codemirror_mode": {
    "name": "ipython",
    "version": 3
   },
   "file_extension": ".py",
   "mimetype": "text/x-python",
   "name": "python",
   "nbconvert_exporter": "python",
   "pygments_lexer": "ipython3",
   "version": "3.9.4"
  }
 },
 "nbformat": 4,
 "nbformat_minor": 5
}
