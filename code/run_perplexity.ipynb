{
 "cells": [
  {
   "cell_type": "code",
   "execution_count": 1,
   "metadata": {
    "ExecuteTime": {
     "end_time": "2021-06-01T12:46:55.106972Z",
     "start_time": "2021-06-01T12:46:53.996605Z"
    }
   },
   "outputs": [],
   "source": [
    "from model import MLMXLMRoberta\n",
    "from model import MLMMBERT\n",
    "\n",
    "from utils import load_config\n",
    "from utils import save_config"
   ]
  },
  {
   "cell_type": "code",
   "execution_count": null,
   "metadata": {},
   "outputs": [],
   "source": [
    "for load_checkpoint in [False, True]:\n",
    "    config = load_config()\n",
    "    config['load_checkpoint'] = load_checkpoint\n",
    "    save_config(config)\n",
    "    \n",
    "    model = MLMMBERT(config)\n",
    "    \n",
    "    "
   ]
  }
 ],
 "metadata": {
  "kernelspec": {
   "display_name": "Python 3",
   "language": "python",
   "name": "python3"
  },
  "language_info": {
   "codemirror_mode": {
    "name": "ipython",
    "version": 3
   },
   "file_extension": ".py",
   "mimetype": "text/x-python",
   "name": "python",
   "nbconvert_exporter": "python",
   "pygments_lexer": "ipython3",
   "version": "3.9.5"
  }
 },
 "nbformat": 4,
 "nbformat_minor": 1
}
