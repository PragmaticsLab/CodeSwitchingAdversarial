{
 "cells": [
  {
   "cell_type": "code",
   "execution_count": 1,
   "metadata": {
    "ExecuteTime": {
     "end_time": "2021-05-16T16:46:53.025560Z",
     "start_time": "2021-05-16T16:46:51.907761Z"
    }
   },
   "outputs": [],
   "source": [
    "import numpy as np\n",
    "import pandas as pd\n",
    "\n",
    "from dataset import read_atis\n",
    "from utils import load_config\n",
    "\n",
    "\n",
    "config = load_config()\n",
    "\n",
    "data_path = '/home/lesha/diploma/pieces of paper/reports/main/tables/'"
   ]
  },
  {
   "cell_type": "code",
   "execution_count": 2,
   "metadata": {
    "ExecuteTime": {
     "end_time": "2021-05-16T16:46:53.032365Z",
     "start_time": "2021-05-16T16:46:53.026585Z"
    }
   },
   "outputs": [],
   "source": [
    "label_num = 0\n",
    "\n",
    "\n",
    "def array_fixer(x):\n",
    "    if isinstance(x, list) or isinstance(x, np.ndarray):\n",
    "        return f'${np.mean(x):.3f} \\pm {np.std(x):.3f}$'\n",
    "    else:\n",
    "        return f'${x:.3f}$'\n",
    "\n",
    "\n",
    "def df_to_latex(df, caption: str = None):\n",
    "    result = \"\"\"\\\n",
    "\\\\begin{{table}}[H]\n",
    "\\t\\\\resizebox{{\\\\textwidth}}{{!}}{{\n",
    "\\t\\t\\\\begin{{tabular}}{{|>{{\\\\bfseries}}l|{}}}\n",
    "\\t\\t\\t\\\\hline\n",
    "{}\n",
    "\\t\\t\\\\end{{tabular}}\n",
    "\\t}}{}\n",
    "\\\\end{{table}}\\\n",
    "\"\"\"\n",
    "\n",
    "    columns = 'c|' * df.shape[1]\n",
    "\n",
    "    body = ['& ' + ' & '.join(df.columns)]\n",
    "\n",
    "    body += [\n",
    "        df.index[i] +\n",
    "        '&' +\n",
    "        ' & '.join(map(array_fixer, df.iloc[i].values))\n",
    "        for i in range(len(df))\n",
    "    ]\n",
    "\n",
    "    for i in range(len(body)):\n",
    "        body[i] = '\\t' * 3 + body[i] + ' \\\\\\\\ \\\\hline'\n",
    "\n",
    "    body = '\\n'.join(body).replace('_', '\\\\_')\n",
    "\n",
    "    if caption is not None:\n",
    "        caption = f'\\caption{{{caption}}}'\n",
    "    else:\n",
    "        caption = ''\n",
    "\n",
    "    global label_num\n",
    "\n",
    "    caption += f'\\\\label{{tab:table{label_num}}}'\n",
    "\n",
    "    label_num += 1\n",
    "\n",
    "    result = result.format(columns, body, caption)\n",
    "\n",
    "    return result\n",
    "\n",
    "\n",
    "def attack_to_latex(original, adv, caption: str = None):\n",
    "    result = \"\"\"\\\n",
    "\\\\begin{{table}}[H]\n",
    "\\t\\\\resizebox{{\\\\textwidth}}{{!}}{{\n",
    "\\t\\t\\\\begin{{tabular}}{{|>{{\\\\bfseries}}l|{}|}}\n",
    "\\t\\t\\t\\\\hline\n",
    "{}\n",
    "\\t\\t\\\\end{{tabular}}\n",
    "\\t}}{}\n",
    "\\\\end{{table}}\\\n",
    "\"\"\"\n",
    "\n",
    "    num_columns = max(len(original.split()), len(adv.split()))\n",
    "\n",
    "    original = original.split() + [' '] * (num_columns - len(original.split()))\n",
    "    adv = adv.split() + [' '] * (num_columns - len(adv.split()))\n",
    "\n",
    "    columns = 'c' * num_columns\n",
    "\n",
    "    body = ['Utterance en &' + ' & '.join(original)]\n",
    "    body += ['Utterance adv &' + ' & '.join(adv)]\n",
    "\n",
    "    for i in range(len(body)):\n",
    "        body[i] = '\\t' * 3 + body[i] + ' \\\\\\\\ \\\\hline'\n",
    "\n",
    "    body = '\\n'.join(body).replace('_', '\\\\_')\n",
    "\n",
    "    if caption is not None:\n",
    "        caption = f'\\caption{{{caption}}}'\n",
    "    else:\n",
    "        caption = ''\n",
    "\n",
    "    global label_num\n",
    "\n",
    "    caption += f'\\\\label{{tab:table{label_num}}}'\n",
    "\n",
    "    label_num += 1\n",
    "\n",
    "    result = result.format(columns, body, caption)\n",
    "\n",
    "    return result"
   ]
  },
  {
   "cell_type": "code",
   "execution_count": 3,
   "metadata": {
    "ExecuteTime": {
     "end_time": "2021-05-16T16:46:53.039140Z",
     "start_time": "2021-05-16T16:46:53.033208Z"
    }
   },
   "outputs": [],
   "source": [
    "model_names = [\n",
    "    'xlm-r',\n",
    "    'm-bert',\n",
    "    'xlm-r en',\n",
    "    'm-bert en',\n",
    "    'xlm-r adv',\n",
    "    'm-bert adv',\n",
    "    'xlm-r en + adv',\n",
    "    'm-bert en + adv'\n",
    "]\n",
    "\n",
    "model_args = [\n",
    "    (False, False),\n",
    "    (False, False),\n",
    "    (True, False),\n",
    "    (True, False),\n",
    "    (False, True),\n",
    "    (False, True),\n",
    "    (True, True),\n",
    "    (True, True),\n",
    "]"
   ]
  },
  {
   "cell_type": "code",
   "execution_count": 4,
   "metadata": {
    "ExecuteTime": {
     "end_time": "2021-05-16T16:46:53.043928Z",
     "start_time": "2021-05-16T16:46:53.039857Z"
    }
   },
   "outputs": [],
   "source": [
    "def get_model_attacks(language, model_name, only_english: bool = False, adv_pretrained: bool = False):\n",
    "    return pd.read_csv(\n",
    "        f'results/{language}/{model_name}_{int(only_english)}_{int(adv_pretrained)}.csv',\n",
    "        index_col=0\n",
    "    )"
   ]
  },
  {
   "cell_type": "code",
   "execution_count": 5,
   "metadata": {
    "ExecuteTime": {
     "end_time": "2021-05-16T16:46:53.048608Z",
     "start_time": "2021-05-16T16:46:53.044602Z"
    }
   },
   "outputs": [],
   "source": [
    "index_renamer = {\n",
    "    'intent_acc': 'Intent accuracy',\n",
    "    'slot_f1': 'Slots F1 score',\n",
    "    'sementic_frame_acc': 'Semantic accuracy',\n",
    "}"
   ]
  },
  {
   "cell_type": "code",
   "execution_count": 6,
   "metadata": {
    "ExecuteTime": {
     "end_time": "2021-05-16T16:46:53.060765Z",
     "start_time": "2021-05-16T16:46:53.049272Z"
    }
   },
   "outputs": [],
   "source": [
    "# СРАВНЕНИЕ МОДЕЛЕЙ МЕЖДУ СОБОЙ ПРОСТО НА ТЕСТОВОЙ ВЫБОРКЕ (БЕЗ ЗАЩИТЫ)\n",
    "\n",
    "output = {index_renamer[key]: {} for key in index_renamer}\n",
    "\n",
    "for model_name, model_arg in zip(model_names[:4], model_args):\n",
    "    df = get_model_attacks('test', model_name.split()[0], *model_arg)\n",
    "\n",
    "    for key in index_renamer.keys():\n",
    "        values = df[key].to_dict()\n",
    "        values['avg'] = np.mean(list(values.values()))\n",
    "        output[index_renamer[key]][model_name] = values\n",
    "\n",
    "output = {key: pd.DataFrame.from_dict(output[key]).rename(index=index_renamer).transpose() for key in output.keys()}"
   ]
  },
  {
   "cell_type": "code",
   "execution_count": 7,
   "metadata": {
    "ExecuteTime": {
     "end_time": "2021-05-16T16:46:53.064855Z",
     "start_time": "2021-05-16T16:46:53.061948Z"
    }
   },
   "outputs": [],
   "source": [
    "with open(data_path + '1.tex', 'w') as f:\n",
    "    for key in output.keys():\n",
    "        print(\n",
    "            df_to_latex(\n",
    "                output[key],\n",
    "                f'Сравнение моделей между собой на тестовой выборке датасета MultiAtis++ по метрике \\\\textbf{{{key}}}. По колонкам языки тестовых подвыборок, по рядам тестируемые модели.'\n",
    "            ),\n",
    "            file=f,\n",
    "        )"
   ]
  },
  {
   "cell_type": "code",
   "execution_count": 8,
   "metadata": {
    "ExecuteTime": {
     "end_time": "2021-05-16T16:46:53.078588Z",
     "start_time": "2021-05-16T16:46:53.065734Z"
    }
   },
   "outputs": [],
   "source": [
    "# СРАВНЕНИЕ МОДЕЛЕЙ МЕЖДУ СОБОЙ ПО АТАКЕ WORD LEVEL\n",
    "\n",
    "output = {index_renamer[key]: {} for key in index_renamer}\n",
    "\n",
    "for model_name, model_arg in zip(model_names[:4], model_args):\n",
    "    df = get_model_attacks('en', model_name.split()[0], *model_arg)\n",
    "\n",
    "    for key in index_renamer.keys():\n",
    "        mask = df.index.map(lambda x: 'Word' in x)\n",
    "        values = df[mask][key].to_dict()\n",
    "        values['[avg]'] = np.mean(list(values.values()))\n",
    "        output[index_renamer[key]][model_name] = {key_[key_.find('[') + 1:key_.find(']')]: values[key_] for key_ in\n",
    "                                                  values.keys()}\n",
    "\n",
    "output = {key: pd.DataFrame.from_dict(output[key]).rename(index=index_renamer).transpose() for key in output.keys()}"
   ]
  },
  {
   "cell_type": "code",
   "execution_count": 9,
   "metadata": {
    "ExecuteTime": {
     "end_time": "2021-05-16T16:46:53.081939Z",
     "start_time": "2021-05-16T16:46:53.079313Z"
    }
   },
   "outputs": [],
   "source": [
    "with open(data_path + '2.tex', 'w') as f:\n",
    "    for key in output.keys():\n",
    "        print(\n",
    "            df_to_latex(\n",
    "                output[key],\n",
    "                f'Сравнение моделей между собой после word-level атаки на тестовую выборку датасета MultiAtis++ по метрике \\\\textbf{{{key}}}. По колонкам встраиваемые языки, по рядам тестируемые модели.'\n",
    "            ),\n",
    "            file=f,\n",
    "        )"
   ]
  },
  {
   "cell_type": "code",
   "execution_count": 10,
   "metadata": {
    "ExecuteTime": {
     "end_time": "2021-05-16T16:46:53.097134Z",
     "start_time": "2021-05-16T16:46:53.082616Z"
    }
   },
   "outputs": [],
   "source": [
    "# СРАВНЕНИЕ МОДЕЛЕЙ МЕЖДУ СОБОЙ ПО АТАКЕ ALIGNMENTS\n",
    "\n",
    "output = {index_renamer[key]: {} for key in index_renamer}\n",
    "\n",
    "for model_name, model_arg in zip(model_names[:4], model_args):\n",
    "    df = get_model_attacks('en', model_name.split()[0], *model_arg)\n",
    "\n",
    "    for key in index_renamer.keys():\n",
    "        mask = df.index.map(lambda x: 'Align' in x)\n",
    "        values = df[mask][key].to_dict()\n",
    "        values['[avg]'] = np.mean(list(values.values()))\n",
    "        output[index_renamer[key]][model_name] = {key_[key_.find('[') + 1:key_.find(']')]: values[key_] for key_ in\n",
    "                                                  values.keys()}\n",
    "\n",
    "output = {key: pd.DataFrame.from_dict(output[key]).rename(index=index_renamer).transpose() for key in output.keys()}"
   ]
  },
  {
   "cell_type": "code",
   "execution_count": 11,
   "metadata": {
    "ExecuteTime": {
     "end_time": "2021-05-16T16:46:53.100431Z",
     "start_time": "2021-05-16T16:46:53.097836Z"
    }
   },
   "outputs": [],
   "source": [
    "with open(data_path + '3.tex', 'w') as f:\n",
    "    for key in output.keys():\n",
    "        print(\n",
    "            df_to_latex(\n",
    "                output[key],\n",
    "                f'Сравнение моделей между собой после phrase-level атаки на тестовую выборку датасета MultiAtis++ по метрике \\\\textbf{{{key}}}. По колонкам встраиваемые языки, по рядам тестируемые модели.'\n",
    "            ),\n",
    "            file=f,\n",
    "        )"
   ]
  },
  {
   "cell_type": "code",
   "execution_count": 12,
   "metadata": {
    "ExecuteTime": {
     "end_time": "2021-05-16T16:46:53.112197Z",
     "start_time": "2021-05-16T16:46:53.101101Z"
    }
   },
   "outputs": [],
   "source": [
    "# СРАВНЕНИЕ МОДЕЛЕЙ МЕЖДУ СОБОЙ ПРОСТО НА ТЕСТОВОЙ ВЫБОРКЕ (С ЗАЩИТОЙ)\n",
    "\n",
    "output = {index_renamer[key]: {} for key in index_renamer}\n",
    "\n",
    "for model_name, model_arg in zip(model_names[4:], model_args[4:]):\n",
    "    df = get_model_attacks('test', model_name.split()[0], *model_arg)\n",
    "\n",
    "    for key in index_renamer.keys():\n",
    "        values = df[key].to_dict()\n",
    "        values['avg'] = np.mean(list(values.values()))\n",
    "        output[index_renamer[key]][model_name] = values\n",
    "\n",
    "output = {key: pd.DataFrame.from_dict(output[key]).rename(index=index_renamer).transpose() for key in output.keys()}"
   ]
  },
  {
   "cell_type": "code",
   "execution_count": 13,
   "metadata": {
    "ExecuteTime": {
     "end_time": "2021-05-16T16:46:53.122631Z",
     "start_time": "2021-05-16T16:46:53.112962Z"
    }
   },
   "outputs": [],
   "source": [
    "with open(data_path + '4.tex', 'w') as f:\n",
    "    for key in output.keys():\n",
    "        print(\n",
    "            df_to_latex(\n",
    "                output[key],\n",
    "                f'Сравнение моделей с защитой между собой на тестовой выборке датасета MultiAtis++ по метрике \\\\textbf{{{key}}}. По колонкам языки тестовых подвыборок, по рядам тестируемые модели.'\n",
    "            ),\n",
    "            file=f,\n",
    "        )"
   ]
  },
  {
   "cell_type": "code",
   "execution_count": 14,
   "metadata": {
    "ExecuteTime": {
     "end_time": "2021-05-16T16:46:53.139921Z",
     "start_time": "2021-05-16T16:46:53.123249Z"
    }
   },
   "outputs": [],
   "source": [
    "# СРАВНЕНИЕ МОДЕЛЕЙ МЕЖДУ СОБОЙ ПО АТАКЕ WORD LEVEL\n",
    "\n",
    "output = {index_renamer[key]: {} for key in index_renamer}\n",
    "\n",
    "for model_name, model_arg in zip(model_names[4:], model_args[4:]):\n",
    "    df = get_model_attacks('en', model_name.split()[0], *model_arg)\n",
    "\n",
    "    for key in index_renamer.keys():\n",
    "        mask = df.index.map(lambda x: 'Word' in x)\n",
    "        values = df[mask][key].to_dict()\n",
    "        values['[avg]'] = np.mean(list(values.values()))\n",
    "        output[index_renamer[key]][model_name] = {key_[key_.find('[') + 1:key_.find(']')]: values[key_] for key_ in\n",
    "                                                  values.keys()}\n",
    "\n",
    "output = {key: pd.DataFrame.from_dict(output[key]).rename(index=index_renamer).transpose() for key in output.keys()}"
   ]
  },
  {
   "cell_type": "code",
   "execution_count": 15,
   "metadata": {
    "ExecuteTime": {
     "end_time": "2021-05-16T16:46:53.143187Z",
     "start_time": "2021-05-16T16:46:53.140604Z"
    }
   },
   "outputs": [],
   "source": [
    "with open(data_path + '5.tex', 'w') as f:\n",
    "    for key in output.keys():\n",
    "        print(\n",
    "            df_to_latex(\n",
    "                output[key],\n",
    "                f'Сравнение моделей с защитой между собой после word-level атаки на тестовую выборку датасета MultiAtis++ по метрике \\\\textbf{{{key}}}. По колонкам встраиваемые языки, по рядам тестируемые модели.'\n",
    "            ),\n",
    "            file=f,\n",
    "        )"
   ]
  },
  {
   "cell_type": "code",
   "execution_count": 16,
   "metadata": {
    "ExecuteTime": {
     "end_time": "2021-05-16T16:46:53.158551Z",
     "start_time": "2021-05-16T16:46:53.143784Z"
    }
   },
   "outputs": [],
   "source": [
    "# СРАВНЕНИЕ МОДЕЛЕЙ МЕЖДУ СОБОЙ ПО АТАКЕ ALIGNMENTS\n",
    "\n",
    "output = {index_renamer[key]: {} for key in index_renamer}\n",
    "\n",
    "for model_name, model_arg in zip(model_names[4:], model_args[4:]):\n",
    "    df = get_model_attacks('en', model_name.split()[0], *model_arg)\n",
    "\n",
    "    for key in index_renamer.keys():\n",
    "        mask = df.index.map(lambda x: 'Align' in x)\n",
    "        values = df[mask][key].to_dict()\n",
    "        values['[avg]'] = np.mean(list(values.values()))\n",
    "        output[index_renamer[key]][model_name] = {key_[key_.find('[') + 1:key_.find(']')]: values[key_] for key_ in\n",
    "                                                  values.keys()}\n",
    "\n",
    "output = {key: pd.DataFrame.from_dict(output[key]).rename(index=index_renamer).transpose() for key in output.keys()}"
   ]
  },
  {
   "cell_type": "code",
   "execution_count": 17,
   "metadata": {
    "ExecuteTime": {
     "end_time": "2021-05-16T16:46:53.161744Z",
     "start_time": "2021-05-16T16:46:53.159197Z"
    }
   },
   "outputs": [],
   "source": [
    "with open(data_path + '6.tex', 'w') as f:\n",
    "    for key in output.keys():\n",
    "        print(\n",
    "            df_to_latex(\n",
    "                output[key],\n",
    "                f'Сравнение моделей с защитой между собой после phrase-level атаки на тестовую выборку датасета MultiAtis++ по метрике \\\\textbf{{{key}}}. По колонкам встраиваемые языки, по рядам тестируемые модели.'\n",
    "            ),\n",
    "            file=f,\n",
    "        )"
   ]
  },
  {
   "cell_type": "code",
   "execution_count": 18,
   "metadata": {
    "ExecuteTime": {
     "end_time": "2021-05-16T16:46:53.331140Z",
     "start_time": "2021-05-16T16:46:53.162560Z"
    }
   },
   "outputs": [],
   "source": [
    "test = read_atis('test', ['en'])\n",
    "test['len'] = test['utterance'].apply(lambda x: len(x.split()))\n",
    "\n",
    "from adversarial import AdversarialWordLevel\n",
    "from adversarial import AdversarialAlignments"
   ]
  },
  {
   "cell_type": "code",
   "execution_count": 19,
   "metadata": {
    "ExecuteTime": {
     "end_time": "2021-05-16T16:46:53.333590Z",
     "start_time": "2021-05-16T16:46:53.332003Z"
    }
   },
   "outputs": [],
   "source": [
    "from utils import load_config\n",
    "from utils import save_config"
   ]
  },
  {
   "cell_type": "code",
   "execution_count": 20,
   "metadata": {
    "ExecuteTime": {
     "end_time": "2021-05-16T16:46:53.338978Z",
     "start_time": "2021-05-16T16:46:53.334206Z"
    }
   },
   "outputs": [],
   "source": [
    "languages = ['de', 'es', 'fr']"
   ]
  },
  {
   "cell_type": "code",
   "execution_count": 21,
   "metadata": {
    "ExecuteTime": {
     "end_time": "2021-05-16T16:47:01.801641Z",
     "start_time": "2021-05-16T16:46:53.339600Z"
    }
   },
   "outputs": [],
   "source": [
    "with open(data_path + '7.tex', 'w') as f:\n",
    "    model_name = 'xlm-r'\n",
    "    model_arg = (False, False)\n",
    "\n",
    "    config = load_config()\n",
    "\n",
    "    config['model_name'] = model_name\n",
    "    config['only_english'] = model_arg[0]\n",
    "    config['load_adv_pretrained'] = model_arg[1]\n",
    "\n",
    "    save_config(config)\n",
    "\n",
    "    f1 = AdversarialWordLevel(base_language='en')\n",
    "    f1.port_model()\n",
    "\n",
    "    for i in range(3):\n",
    "        f1.change_attack_language(languages[i])\n",
    "\n",
    "        random = test[test['len'] == 9].sample(1).iloc[0]\n",
    "\n",
    "        adv = ' '.join(\n",
    "            f1.attack(x=[random['utterance']], y_slots=[random['slot_labels']], y_intent=[random['intent']])[0][0]\n",
    "        )\n",
    "\n",
    "        print(attack_to_latex(\n",
    "            random['utterance'], adv, caption=f'Пример {i + 1} атаки модели XLM-RoBERTa (xlm-r) word-level атакой.'\n",
    "        ), file=f)"
   ]
  },
  {
   "cell_type": "code",
   "execution_count": 22,
   "metadata": {
    "ExecuteTime": {
     "end_time": "2021-05-16T16:47:07.854391Z",
     "start_time": "2021-05-16T16:47:01.803024Z"
    }
   },
   "outputs": [],
   "source": [
    "with open(data_path + '8.tex', 'w') as f:\n",
    "    model_name = 'xlm-r'\n",
    "    model_arg = (False, False)\n",
    "\n",
    "    config = load_config()\n",
    "\n",
    "    config['model_name'] = model_name\n",
    "    config['only_english'] = model_arg[0]\n",
    "    config['load_adv_pretrained'] = model_arg[1]\n",
    "\n",
    "    save_config(config)\n",
    "\n",
    "    f1 = AdversarialAlignments(base_language='en')\n",
    "    f1.port_model()\n",
    "\n",
    "    for i in range(3):\n",
    "        f1.change_attack_language(languages[i])\n",
    "\n",
    "        random = test[test['len'] == 9].sample(1).iloc[0]\n",
    "        alignments = [f1.alignments[j] for j in [random.name]]\n",
    "\n",
    "        adv = ' '.join(\n",
    "            f1.attack([random['utterance']], [random['slot_labels']], [random['intent']], alignments)[0][0]\n",
    "        )\n",
    "\n",
    "        print(attack_to_latex(\n",
    "            random['utterance'], adv, caption=f'Пример {i + 1} атаки модели XLM-RoBERTa (xlm-r) phrase-level атакой.'\n",
    "        ), file=f)"
   ]
  },
  {
   "cell_type": "code",
   "execution_count": 23,
   "metadata": {
    "ExecuteTime": {
     "end_time": "2021-05-16T16:47:07.857164Z",
     "start_time": "2021-05-16T16:47:07.855205Z"
    }
   },
   "outputs": [],
   "source": [
    "mask = (test['len'] > 7) & (test['len'] < 12)"
   ]
  },
  {
   "cell_type": "code",
   "execution_count": 24,
   "metadata": {
    "ExecuteTime": {
     "end_time": "2021-05-16T16:47:45.590731Z",
     "start_time": "2021-05-16T16:47:07.857839Z"
    }
   },
   "outputs": [],
   "source": [
    "with open(data_path + '9.tex', 'w') as f:\n",
    "    for model_name, model_arg in zip(model_names, model_args):\n",
    "        if 'm-bert' not in model_name:\n",
    "            continue\n",
    "\n",
    "        config = load_config()\n",
    "\n",
    "        config['model_name'] = model_name.split()[0]\n",
    "        config['only_english'] = model_arg[0]\n",
    "        config['load_adv_pretrained'] = model_arg[1]\n",
    "\n",
    "        save_config(config)\n",
    "\n",
    "        f1 = AdversarialWordLevel(base_language='en')\n",
    "        f1.port_model()\n",
    "\n",
    "        for i in range(3):\n",
    "            f1.change_attack_language(languages[i])\n",
    "\n",
    "            random = test[mask].sample(1).iloc[0]\n",
    "\n",
    "            adv = ' '.join(\n",
    "                f1.attack(x=[random['utterance']], y_slots=[random['slot_labels']], y_intent=[random['intent']])[0][0]\n",
    "            )\n",
    "\n",
    "            print(attack_to_latex(\n",
    "                random['utterance'], adv,\n",
    "                caption=f'Пример {i + 1} атаки модели m-BERT ({model_name}) word-level атакой.'\n",
    "            ), file=f)\n",
    "\n",
    "        f1 = AdversarialAlignments(base_language='en')\n",
    "        f1.port_model()\n",
    "\n",
    "        for i in range(3):\n",
    "            f1.change_attack_language(languages[i])\n",
    "\n",
    "            random = test[mask].sample(1).iloc[0]\n",
    "            alignments = [f1.alignments[j] for j in [random.name]]\n",
    "\n",
    "            adv = ' '.join(\n",
    "                f1.attack([random['utterance']], [random['slot_labels']], [random['intent']], alignments)[0][0]\n",
    "            )\n",
    "\n",
    "            print(attack_to_latex(\n",
    "                random['utterance'], adv,\n",
    "                caption=f'Пример {i + 1} атаки модели m-BERT ({model_name}) phrase-level атакой.'\n",
    "            ), file=f)"
   ]
  },
  {
   "cell_type": "code",
   "execution_count": 25,
   "metadata": {
    "ExecuteTime": {
     "end_time": "2021-05-16T16:48:34.927843Z",
     "start_time": "2021-05-16T16:47:45.591496Z"
    }
   },
   "outputs": [],
   "source": [
    "with open(data_path + '10.tex', 'w') as f:\n",
    "    for model_name, model_arg in zip(model_names, model_args):\n",
    "        if 'xlm-r' not in model_name:\n",
    "            continue\n",
    "\n",
    "        config = load_config()\n",
    "\n",
    "        config['model_name'] = model_name.split()[0]\n",
    "        config['only_english'] = model_arg[0]\n",
    "        config['load_adv_pretrained'] = model_arg[1]\n",
    "\n",
    "        save_config(config)\n",
    "\n",
    "        f1 = AdversarialWordLevel(base_language='en')\n",
    "        f1.port_model()\n",
    "\n",
    "        for i in range(3):\n",
    "            f1.change_attack_language(languages[i])\n",
    "\n",
    "            random = test[mask].sample(1).iloc[0]\n",
    "\n",
    "            adv = ' '.join(\n",
    "                f1.attack(x=[random['utterance']], y_slots=[random['slot_labels']], y_intent=[random['intent']])[0][0]\n",
    "            )\n",
    "\n",
    "            print(attack_to_latex(\n",
    "                random['utterance'], adv,\n",
    "                caption=f'Пример {i + 1} атаки модели XLM-RoBERTa ({model_name}) word-level атакой.'\n",
    "            ), file=f)\n",
    "\n",
    "        f1 = AdversarialAlignments(base_language='en')\n",
    "        f1.port_model()\n",
    "\n",
    "        for i in range(3):\n",
    "            f1.change_attack_language(languages[i])\n",
    "\n",
    "            random = test[mask].sample(1).iloc[0]\n",
    "            alignments = [f1.alignments[j] for j in [random.name]]\n",
    "\n",
    "            adv = ' '.join(\n",
    "                f1.attack([random['utterance']], [random['slot_labels']], [random['intent']], alignments)[0][0]\n",
    "            )\n",
    "\n",
    "            print(attack_to_latex(\n",
    "                random['utterance'], adv,\n",
    "                caption=f'Пример {i + 1} атаки модели XLM-RoBERTa ({model_name}) phrase-level атакой.'\n",
    "            ), file=f)"
   ]
  }
 ],
 "metadata": {
  "kernelspec": {
   "display_name": "Python 3",
   "language": "python",
   "name": "python3"
  },
  "language_info": {
   "codemirror_mode": {
    "name": "ipython",
    "version": 3
   },
   "file_extension": ".py",
   "mimetype": "text/x-python",
   "name": "python",
   "nbconvert_exporter": "python",
   "pygments_lexer": "ipython3",
   "version": "3.9.4"
  }
 },
 "nbformat": 4,
 "nbformat_minor": 4
}