{
 "cells": [
  {
   "cell_type": "code",
   "execution_count": 1,
   "metadata": {
    "ExecuteTime": {
     "end_time": "2021-05-07T13:19:14.053301Z",
     "start_time": "2021-05-07T13:19:13.575245Z"
    }
   },
   "outputs": [],
   "source": [
    "import numpy as np\n",
    "import pandas as pd\n",
    "\n",
    "import matplotlib.pyplot as plt\n",
    "import seaborn as sns\n",
    "\n",
    "sns.set(style='darkgrid')"
   ]
  },
  {
   "cell_type": "code",
   "execution_count": 2,
   "metadata": {
    "ExecuteTime": {
     "end_time": "2021-05-07T13:19:14.056373Z",
     "start_time": "2021-05-07T13:19:14.054345Z"
    }
   },
   "outputs": [],
   "source": [
    "def get_model_attacks(language, model_name, modify_perplexity: bool = False, pretrained: bool = False, load_body: bool = False):\n",
    "    result = pd.read_csv(f'results/{language}/{model_name}_{int(pretrained)}_{int(load_body)}.csv', index_col=0)\n",
    "\n",
    "    if modify_perplexity:\n",
    "        result['perplexity'] = result['perplexity'] / result.loc['No attack', 'perplexity']\n",
    "\n",
    "    return result"
   ]
  },
  {
   "cell_type": "code",
   "execution_count": 3,
   "metadata": {
    "ExecuteTime": {
     "end_time": "2021-05-07T13:19:14.075705Z",
     "start_time": "2021-05-07T13:19:14.057197Z"
    }
   },
   "outputs": [
    {
     "data": {
      "text/html": [
       "<div>\n",
       "<style scoped>\n",
       "    .dataframe tbody tr th:only-of-type {\n",
       "        vertical-align: middle;\n",
       "    }\n",
       "\n",
       "    .dataframe tbody tr th {\n",
       "        vertical-align: top;\n",
       "    }\n",
       "\n",
       "    .dataframe thead th {\n",
       "        text-align: right;\n",
       "    }\n",
       "</style>\n",
       "<table border=\"1\" class=\"dataframe\">\n",
       "  <thead>\n",
       "    <tr style=\"text-align: right;\">\n",
       "      <th></th>\n",
       "      <th>loss</th>\n",
       "      <th>intent_acc</th>\n",
       "      <th>slot_precision</th>\n",
       "      <th>slot_recall</th>\n",
       "      <th>slot_f1</th>\n",
       "      <th>sementic_frame_acc</th>\n",
       "      <th>perplexity</th>\n",
       "      <th>time</th>\n",
       "    </tr>\n",
       "  </thead>\n",
       "  <tbody>\n",
       "    <tr>\n",
       "      <th>No attack</th>\n",
       "      <td>0.402499</td>\n",
       "      <td>0.968212</td>\n",
       "      <td>0.932930</td>\n",
       "      <td>0.931845</td>\n",
       "      <td>0.932387</td>\n",
       "      <td>0.765563</td>\n",
       "      <td>1.000000</td>\n",
       "      <td>6.457767</td>\n",
       "    </tr>\n",
       "    <tr>\n",
       "      <th>Word level [de]</th>\n",
       "      <td>4.180766</td>\n",
       "      <td>0.684768</td>\n",
       "      <td>0.452089</td>\n",
       "      <td>0.469840</td>\n",
       "      <td>0.460794</td>\n",
       "      <td>0.021192</td>\n",
       "      <td>17.263918</td>\n",
       "      <td>49.466714</td>\n",
       "    </tr>\n",
       "    <tr>\n",
       "      <th>Word level [es]</th>\n",
       "      <td>3.814381</td>\n",
       "      <td>0.729801</td>\n",
       "      <td>0.432357</td>\n",
       "      <td>0.430356</td>\n",
       "      <td>0.431354</td>\n",
       "      <td>0.018543</td>\n",
       "      <td>18.431572</td>\n",
       "      <td>51.993756</td>\n",
       "    </tr>\n",
       "    <tr>\n",
       "      <th>Word level [fr]</th>\n",
       "      <td>3.490740</td>\n",
       "      <td>0.778808</td>\n",
       "      <td>0.459315</td>\n",
       "      <td>0.529318</td>\n",
       "      <td>0.491838</td>\n",
       "      <td>0.035762</td>\n",
       "      <td>33.244161</td>\n",
       "      <td>48.188255</td>\n",
       "    </tr>\n",
       "    <tr>\n",
       "      <th>Word level [ja]</th>\n",
       "      <td>4.944420</td>\n",
       "      <td>0.658278</td>\n",
       "      <td>0.405736</td>\n",
       "      <td>0.401452</td>\n",
       "      <td>0.403582</td>\n",
       "      <td>0.011921</td>\n",
       "      <td>54.641323</td>\n",
       "      <td>52.541427</td>\n",
       "    </tr>\n",
       "    <tr>\n",
       "      <th>Word level [pt]</th>\n",
       "      <td>3.126270</td>\n",
       "      <td>0.786755</td>\n",
       "      <td>0.456007</td>\n",
       "      <td>0.489333</td>\n",
       "      <td>0.472082</td>\n",
       "      <td>0.010596</td>\n",
       "      <td>16.265681</td>\n",
       "      <td>48.568215</td>\n",
       "    </tr>\n",
       "    <tr>\n",
       "      <th>Word level [zh]</th>\n",
       "      <td>3.501348</td>\n",
       "      <td>0.679470</td>\n",
       "      <td>0.541510</td>\n",
       "      <td>0.596855</td>\n",
       "      <td>0.567837</td>\n",
       "      <td>0.075497</td>\n",
       "      <td>41.291343</td>\n",
       "      <td>50.788781</td>\n",
       "    </tr>\n",
       "    <tr>\n",
       "      <th>Alignments [de]</th>\n",
       "      <td>1.637791</td>\n",
       "      <td>0.913907</td>\n",
       "      <td>0.709609</td>\n",
       "      <td>0.732026</td>\n",
       "      <td>0.720643</td>\n",
       "      <td>0.377483</td>\n",
       "      <td>32.946018</td>\n",
       "      <td>51.100910</td>\n",
       "    </tr>\n",
       "    <tr>\n",
       "      <th>Alignments [es]</th>\n",
       "      <td>1.555385</td>\n",
       "      <td>0.917881</td>\n",
       "      <td>0.733122</td>\n",
       "      <td>0.730984</td>\n",
       "      <td>0.732052</td>\n",
       "      <td>0.331126</td>\n",
       "      <td>14.272856</td>\n",
       "      <td>52.686357</td>\n",
       "    </tr>\n",
       "    <tr>\n",
       "      <th>Alignments [fr]</th>\n",
       "      <td>1.877515</td>\n",
       "      <td>0.904636</td>\n",
       "      <td>0.665474</td>\n",
       "      <td>0.699768</td>\n",
       "      <td>0.682190</td>\n",
       "      <td>0.291391</td>\n",
       "      <td>6.013087</td>\n",
       "      <td>53.210413</td>\n",
       "    </tr>\n",
       "    <tr>\n",
       "      <th>Alignments [ja]</th>\n",
       "      <td>3.858446</td>\n",
       "      <td>0.894040</td>\n",
       "      <td>0.360071</td>\n",
       "      <td>0.482209</td>\n",
       "      <td>0.412285</td>\n",
       "      <td>0.060927</td>\n",
       "      <td>91.405297</td>\n",
       "      <td>43.446642</td>\n",
       "    </tr>\n",
       "    <tr>\n",
       "      <th>Alignments [pt]</th>\n",
       "      <td>1.917833</td>\n",
       "      <td>0.894040</td>\n",
       "      <td>0.681104</td>\n",
       "      <td>0.704170</td>\n",
       "      <td>0.692445</td>\n",
       "      <td>0.345695</td>\n",
       "      <td>11.504759</td>\n",
       "      <td>52.152195</td>\n",
       "    </tr>\n",
       "    <tr>\n",
       "      <th>Alignments [zh]</th>\n",
       "      <td>2.755602</td>\n",
       "      <td>0.899338</td>\n",
       "      <td>0.470164</td>\n",
       "      <td>0.671259</td>\n",
       "      <td>0.552998</td>\n",
       "      <td>0.164238</td>\n",
       "      <td>142.577954</td>\n",
       "      <td>50.085265</td>\n",
       "    </tr>\n",
       "  </tbody>\n",
       "</table>\n",
       "</div>"
      ],
      "text/plain": [
       "                        loss  intent_acc  slot_precision  slot_recall  \\\n",
       "No attack           0.402499    0.968212        0.932930     0.931845   \n",
       "Word level [de]     4.180766    0.684768        0.452089     0.469840   \n",
       "Word level [es]     3.814381    0.729801        0.432357     0.430356   \n",
       "Word level [fr]     3.490740    0.778808        0.459315     0.529318   \n",
       "Word level [ja]     4.944420    0.658278        0.405736     0.401452   \n",
       "Word level [pt]     3.126270    0.786755        0.456007     0.489333   \n",
       "Word level [zh]  3.501348    0.679470        0.541510     0.596855   \n",
       "Alignments [de]     1.637791    0.913907        0.709609     0.732026   \n",
       "Alignments [es]     1.555385    0.917881        0.733122     0.730984   \n",
       "Alignments [fr]     1.877515    0.904636        0.665474     0.699768   \n",
       "Alignments [ja]     3.858446    0.894040        0.360071     0.482209   \n",
       "Alignments [pt]     1.917833    0.894040        0.681104     0.704170   \n",
       "Alignments [zh]  2.755602    0.899338        0.470164     0.671259   \n",
       "\n",
       "                     slot_f1  sementic_frame_acc  perplexity       time  \n",
       "No attack           0.932387            0.765563    1.000000   6.457767  \n",
       "Word level [de]     0.460794            0.021192   17.263918  49.466714  \n",
       "Word level [es]     0.431354            0.018543   18.431572  51.993756  \n",
       "Word level [fr]     0.491838            0.035762   33.244161  48.188255  \n",
       "Word level [ja]     0.403582            0.011921   54.641323  52.541427  \n",
       "Word level [pt]     0.472082            0.010596   16.265681  48.568215  \n",
       "Word level [zh]  0.567837            0.075497   41.291343  50.788781  \n",
       "Alignments [de]     0.720643            0.377483   32.946018  51.100910  \n",
       "Alignments [es]     0.732052            0.331126   14.272856  52.686357  \n",
       "Alignments [fr]     0.682190            0.291391    6.013087  53.210413  \n",
       "Alignments [ja]     0.412285            0.060927   91.405297  43.446642  \n",
       "Alignments [pt]     0.692445            0.345695   11.504759  52.152195  \n",
       "Alignments [zh]  0.552998            0.164238  142.577954  50.085265  "
      ]
     },
     "execution_count": 3,
     "metadata": {},
     "output_type": "execute_result"
    }
   ],
   "source": [
    "get_model_attacks('en', 'm-bert', True)"
   ]
  },
  {
   "cell_type": "code",
   "execution_count": 4,
   "metadata": {
    "ExecuteTime": {
     "end_time": "2021-05-07T13:19:14.131865Z",
     "start_time": "2021-05-07T13:19:14.076522Z"
    }
   },
   "outputs": [
    {
     "ename": "FileNotFoundError",
     "evalue": "[Errno 2] No such file or directory: 'results/de/xlm-r_0_0.csv'",
     "output_type": "error",
     "traceback": [
      "\u001b[0;31m---------------------------------------------------------------------------\u001b[0m",
      "\u001b[0;31mFileNotFoundError\u001b[0m                         Traceback (most recent call last)",
      "\u001b[0;32m<ipython-input-4-9d8647ad33d8>\u001b[0m in \u001b[0;36m<module>\u001b[0;34m\u001b[0m\n\u001b[0;32m----> 1\u001b[0;31m \u001b[0mget_model_attacks\u001b[0m\u001b[0;34m(\u001b[0m\u001b[0;34m'de'\u001b[0m\u001b[0;34m,\u001b[0m \u001b[0;34m'xlm-r'\u001b[0m\u001b[0;34m,\u001b[0m \u001b[0;32mTrue\u001b[0m\u001b[0;34m)\u001b[0m\u001b[0;34m\u001b[0m\u001b[0;34m\u001b[0m\u001b[0m\n\u001b[0m",
      "\u001b[0;32m<ipython-input-2-177d134896be>\u001b[0m in \u001b[0;36mget_model_attacks\u001b[0;34m(language, model_name, modify_perplexity, pretrained, load_body)\u001b[0m\n\u001b[1;32m      1\u001b[0m \u001b[0;32mdef\u001b[0m \u001b[0mget_model_attacks\u001b[0m\u001b[0;34m(\u001b[0m\u001b[0mlanguage\u001b[0m\u001b[0;34m,\u001b[0m \u001b[0mmodel_name\u001b[0m\u001b[0;34m,\u001b[0m \u001b[0mmodify_perplexity\u001b[0m\u001b[0;34m:\u001b[0m \u001b[0mbool\u001b[0m \u001b[0;34m=\u001b[0m \u001b[0;32mFalse\u001b[0m\u001b[0;34m,\u001b[0m \u001b[0mpretrained\u001b[0m\u001b[0;34m:\u001b[0m \u001b[0mbool\u001b[0m \u001b[0;34m=\u001b[0m \u001b[0;32mFalse\u001b[0m\u001b[0;34m,\u001b[0m \u001b[0mload_body\u001b[0m\u001b[0;34m:\u001b[0m \u001b[0mbool\u001b[0m \u001b[0;34m=\u001b[0m \u001b[0;32mFalse\u001b[0m\u001b[0;34m)\u001b[0m\u001b[0;34m:\u001b[0m\u001b[0;34m\u001b[0m\u001b[0;34m\u001b[0m\u001b[0m\n\u001b[0;32m----> 2\u001b[0;31m     \u001b[0mresult\u001b[0m \u001b[0;34m=\u001b[0m \u001b[0mpd\u001b[0m\u001b[0;34m.\u001b[0m\u001b[0mread_csv\u001b[0m\u001b[0;34m(\u001b[0m\u001b[0;34mf'results/{language}/{model_name}_{int(pretrained)}_{int(load_body)}.csv'\u001b[0m\u001b[0;34m,\u001b[0m \u001b[0mindex_col\u001b[0m\u001b[0;34m=\u001b[0m\u001b[0;36m0\u001b[0m\u001b[0;34m)\u001b[0m\u001b[0;34m\u001b[0m\u001b[0;34m\u001b[0m\u001b[0m\n\u001b[0m\u001b[1;32m      3\u001b[0m \u001b[0;34m\u001b[0m\u001b[0m\n\u001b[1;32m      4\u001b[0m     \u001b[0;32mif\u001b[0m \u001b[0mmodify_perplexity\u001b[0m\u001b[0;34m:\u001b[0m\u001b[0;34m\u001b[0m\u001b[0;34m\u001b[0m\u001b[0m\n\u001b[1;32m      5\u001b[0m         \u001b[0mresult\u001b[0m\u001b[0;34m[\u001b[0m\u001b[0;34m'perplexity'\u001b[0m\u001b[0;34m]\u001b[0m \u001b[0;34m=\u001b[0m \u001b[0mresult\u001b[0m\u001b[0;34m[\u001b[0m\u001b[0;34m'perplexity'\u001b[0m\u001b[0;34m]\u001b[0m \u001b[0;34m/\u001b[0m \u001b[0mresult\u001b[0m\u001b[0;34m.\u001b[0m\u001b[0mloc\u001b[0m\u001b[0;34m[\u001b[0m\u001b[0;34m'No attack'\u001b[0m\u001b[0;34m,\u001b[0m \u001b[0;34m'perplexity'\u001b[0m\u001b[0;34m]\u001b[0m\u001b[0;34m\u001b[0m\u001b[0;34m\u001b[0m\u001b[0m\n",
      "\u001b[0;32m~/diploma/venv/lib/python3.9/site-packages/pandas/io/parsers.py\u001b[0m in \u001b[0;36mread_csv\u001b[0;34m(filepath_or_buffer, sep, delimiter, header, names, index_col, usecols, squeeze, prefix, mangle_dupe_cols, dtype, engine, converters, true_values, false_values, skipinitialspace, skiprows, skipfooter, nrows, na_values, keep_default_na, na_filter, verbose, skip_blank_lines, parse_dates, infer_datetime_format, keep_date_col, date_parser, dayfirst, cache_dates, iterator, chunksize, compression, thousands, decimal, lineterminator, quotechar, quoting, doublequote, escapechar, comment, encoding, dialect, error_bad_lines, warn_bad_lines, delim_whitespace, low_memory, memory_map, float_precision, storage_options)\u001b[0m\n\u001b[1;32m    608\u001b[0m     \u001b[0mkwds\u001b[0m\u001b[0;34m.\u001b[0m\u001b[0mupdate\u001b[0m\u001b[0;34m(\u001b[0m\u001b[0mkwds_defaults\u001b[0m\u001b[0;34m)\u001b[0m\u001b[0;34m\u001b[0m\u001b[0;34m\u001b[0m\u001b[0m\n\u001b[1;32m    609\u001b[0m \u001b[0;34m\u001b[0m\u001b[0m\n\u001b[0;32m--> 610\u001b[0;31m     \u001b[0;32mreturn\u001b[0m \u001b[0m_read\u001b[0m\u001b[0;34m(\u001b[0m\u001b[0mfilepath_or_buffer\u001b[0m\u001b[0;34m,\u001b[0m \u001b[0mkwds\u001b[0m\u001b[0;34m)\u001b[0m\u001b[0;34m\u001b[0m\u001b[0;34m\u001b[0m\u001b[0m\n\u001b[0m\u001b[1;32m    611\u001b[0m \u001b[0;34m\u001b[0m\u001b[0m\n\u001b[1;32m    612\u001b[0m \u001b[0;34m\u001b[0m\u001b[0m\n",
      "\u001b[0;32m~/diploma/venv/lib/python3.9/site-packages/pandas/io/parsers.py\u001b[0m in \u001b[0;36m_read\u001b[0;34m(filepath_or_buffer, kwds)\u001b[0m\n\u001b[1;32m    460\u001b[0m \u001b[0;34m\u001b[0m\u001b[0m\n\u001b[1;32m    461\u001b[0m     \u001b[0;31m# Create the parser.\u001b[0m\u001b[0;34m\u001b[0m\u001b[0;34m\u001b[0m\u001b[0;34m\u001b[0m\u001b[0m\n\u001b[0;32m--> 462\u001b[0;31m     \u001b[0mparser\u001b[0m \u001b[0;34m=\u001b[0m \u001b[0mTextFileReader\u001b[0m\u001b[0;34m(\u001b[0m\u001b[0mfilepath_or_buffer\u001b[0m\u001b[0;34m,\u001b[0m \u001b[0;34m**\u001b[0m\u001b[0mkwds\u001b[0m\u001b[0;34m)\u001b[0m\u001b[0;34m\u001b[0m\u001b[0;34m\u001b[0m\u001b[0m\n\u001b[0m\u001b[1;32m    463\u001b[0m \u001b[0;34m\u001b[0m\u001b[0m\n\u001b[1;32m    464\u001b[0m     \u001b[0;32mif\u001b[0m \u001b[0mchunksize\u001b[0m \u001b[0;32mor\u001b[0m \u001b[0miterator\u001b[0m\u001b[0;34m:\u001b[0m\u001b[0;34m\u001b[0m\u001b[0;34m\u001b[0m\u001b[0m\n",
      "\u001b[0;32m~/diploma/venv/lib/python3.9/site-packages/pandas/io/parsers.py\u001b[0m in \u001b[0;36m__init__\u001b[0;34m(self, f, engine, **kwds)\u001b[0m\n\u001b[1;32m    817\u001b[0m             \u001b[0mself\u001b[0m\u001b[0;34m.\u001b[0m\u001b[0moptions\u001b[0m\u001b[0;34m[\u001b[0m\u001b[0;34m\"has_index_names\"\u001b[0m\u001b[0;34m]\u001b[0m \u001b[0;34m=\u001b[0m \u001b[0mkwds\u001b[0m\u001b[0;34m[\u001b[0m\u001b[0;34m\"has_index_names\"\u001b[0m\u001b[0;34m]\u001b[0m\u001b[0;34m\u001b[0m\u001b[0;34m\u001b[0m\u001b[0m\n\u001b[1;32m    818\u001b[0m \u001b[0;34m\u001b[0m\u001b[0m\n\u001b[0;32m--> 819\u001b[0;31m         \u001b[0mself\u001b[0m\u001b[0;34m.\u001b[0m\u001b[0m_engine\u001b[0m \u001b[0;34m=\u001b[0m \u001b[0mself\u001b[0m\u001b[0;34m.\u001b[0m\u001b[0m_make_engine\u001b[0m\u001b[0;34m(\u001b[0m\u001b[0mself\u001b[0m\u001b[0;34m.\u001b[0m\u001b[0mengine\u001b[0m\u001b[0;34m)\u001b[0m\u001b[0;34m\u001b[0m\u001b[0;34m\u001b[0m\u001b[0m\n\u001b[0m\u001b[1;32m    820\u001b[0m \u001b[0;34m\u001b[0m\u001b[0m\n\u001b[1;32m    821\u001b[0m     \u001b[0;32mdef\u001b[0m \u001b[0mclose\u001b[0m\u001b[0;34m(\u001b[0m\u001b[0mself\u001b[0m\u001b[0;34m)\u001b[0m\u001b[0;34m:\u001b[0m\u001b[0;34m\u001b[0m\u001b[0;34m\u001b[0m\u001b[0m\n",
      "\u001b[0;32m~/diploma/venv/lib/python3.9/site-packages/pandas/io/parsers.py\u001b[0m in \u001b[0;36m_make_engine\u001b[0;34m(self, engine)\u001b[0m\n\u001b[1;32m   1048\u001b[0m             )\n\u001b[1;32m   1049\u001b[0m         \u001b[0;31m# error: Too many arguments for \"ParserBase\"\u001b[0m\u001b[0;34m\u001b[0m\u001b[0;34m\u001b[0m\u001b[0;34m\u001b[0m\u001b[0m\n\u001b[0;32m-> 1050\u001b[0;31m         \u001b[0;32mreturn\u001b[0m \u001b[0mmapping\u001b[0m\u001b[0;34m[\u001b[0m\u001b[0mengine\u001b[0m\u001b[0;34m]\u001b[0m\u001b[0;34m(\u001b[0m\u001b[0mself\u001b[0m\u001b[0;34m.\u001b[0m\u001b[0mf\u001b[0m\u001b[0;34m,\u001b[0m \u001b[0;34m**\u001b[0m\u001b[0mself\u001b[0m\u001b[0;34m.\u001b[0m\u001b[0moptions\u001b[0m\u001b[0;34m)\u001b[0m  \u001b[0;31m# type: ignore[call-arg]\u001b[0m\u001b[0;34m\u001b[0m\u001b[0;34m\u001b[0m\u001b[0m\n\u001b[0m\u001b[1;32m   1051\u001b[0m \u001b[0;34m\u001b[0m\u001b[0m\n\u001b[1;32m   1052\u001b[0m     \u001b[0;32mdef\u001b[0m \u001b[0m_failover_to_python\u001b[0m\u001b[0;34m(\u001b[0m\u001b[0mself\u001b[0m\u001b[0;34m)\u001b[0m\u001b[0;34m:\u001b[0m\u001b[0;34m\u001b[0m\u001b[0;34m\u001b[0m\u001b[0m\n",
      "\u001b[0;32m~/diploma/venv/lib/python3.9/site-packages/pandas/io/parsers.py\u001b[0m in \u001b[0;36m__init__\u001b[0;34m(self, src, **kwds)\u001b[0m\n\u001b[1;32m   1865\u001b[0m \u001b[0;34m\u001b[0m\u001b[0m\n\u001b[1;32m   1866\u001b[0m         \u001b[0;31m# open handles\u001b[0m\u001b[0;34m\u001b[0m\u001b[0;34m\u001b[0m\u001b[0;34m\u001b[0m\u001b[0m\n\u001b[0;32m-> 1867\u001b[0;31m         \u001b[0mself\u001b[0m\u001b[0;34m.\u001b[0m\u001b[0m_open_handles\u001b[0m\u001b[0;34m(\u001b[0m\u001b[0msrc\u001b[0m\u001b[0;34m,\u001b[0m \u001b[0mkwds\u001b[0m\u001b[0;34m)\u001b[0m\u001b[0;34m\u001b[0m\u001b[0;34m\u001b[0m\u001b[0m\n\u001b[0m\u001b[1;32m   1868\u001b[0m         \u001b[0;32massert\u001b[0m \u001b[0mself\u001b[0m\u001b[0;34m.\u001b[0m\u001b[0mhandles\u001b[0m \u001b[0;32mis\u001b[0m \u001b[0;32mnot\u001b[0m \u001b[0;32mNone\u001b[0m\u001b[0;34m\u001b[0m\u001b[0;34m\u001b[0m\u001b[0m\n\u001b[1;32m   1869\u001b[0m         \u001b[0;32mfor\u001b[0m \u001b[0mkey\u001b[0m \u001b[0;32min\u001b[0m \u001b[0;34m(\u001b[0m\u001b[0;34m\"storage_options\"\u001b[0m\u001b[0;34m,\u001b[0m \u001b[0;34m\"encoding\"\u001b[0m\u001b[0;34m,\u001b[0m \u001b[0;34m\"memory_map\"\u001b[0m\u001b[0;34m,\u001b[0m \u001b[0;34m\"compression\"\u001b[0m\u001b[0;34m)\u001b[0m\u001b[0;34m:\u001b[0m\u001b[0;34m\u001b[0m\u001b[0;34m\u001b[0m\u001b[0m\n",
      "\u001b[0;32m~/diploma/venv/lib/python3.9/site-packages/pandas/io/parsers.py\u001b[0m in \u001b[0;36m_open_handles\u001b[0;34m(self, src, kwds)\u001b[0m\n\u001b[1;32m   1360\u001b[0m         \u001b[0mLet\u001b[0m \u001b[0mthe\u001b[0m \u001b[0mreaders\u001b[0m \u001b[0mopen\u001b[0m \u001b[0mIOHanldes\u001b[0m \u001b[0mafter\u001b[0m \u001b[0mthey\u001b[0m \u001b[0mare\u001b[0m \u001b[0mdone\u001b[0m \u001b[0;32mwith\u001b[0m \u001b[0mtheir\u001b[0m \u001b[0mpotential\u001b[0m \u001b[0mraises\u001b[0m\u001b[0;34m.\u001b[0m\u001b[0;34m\u001b[0m\u001b[0;34m\u001b[0m\u001b[0m\n\u001b[1;32m   1361\u001b[0m         \"\"\"\n\u001b[0;32m-> 1362\u001b[0;31m         self.handles = get_handle(\n\u001b[0m\u001b[1;32m   1363\u001b[0m             \u001b[0msrc\u001b[0m\u001b[0;34m,\u001b[0m\u001b[0;34m\u001b[0m\u001b[0;34m\u001b[0m\u001b[0m\n\u001b[1;32m   1364\u001b[0m             \u001b[0;34m\"r\"\u001b[0m\u001b[0;34m,\u001b[0m\u001b[0;34m\u001b[0m\u001b[0;34m\u001b[0m\u001b[0m\n",
      "\u001b[0;32m~/diploma/venv/lib/python3.9/site-packages/pandas/io/common.py\u001b[0m in \u001b[0;36mget_handle\u001b[0;34m(path_or_buf, mode, encoding, compression, memory_map, is_text, errors, storage_options)\u001b[0m\n\u001b[1;32m    640\u001b[0m                 \u001b[0merrors\u001b[0m \u001b[0;34m=\u001b[0m \u001b[0;34m\"replace\"\u001b[0m\u001b[0;34m\u001b[0m\u001b[0;34m\u001b[0m\u001b[0m\n\u001b[1;32m    641\u001b[0m             \u001b[0;31m# Encoding\u001b[0m\u001b[0;34m\u001b[0m\u001b[0;34m\u001b[0m\u001b[0;34m\u001b[0m\u001b[0m\n\u001b[0;32m--> 642\u001b[0;31m             handle = open(\n\u001b[0m\u001b[1;32m    643\u001b[0m                 \u001b[0mhandle\u001b[0m\u001b[0;34m,\u001b[0m\u001b[0;34m\u001b[0m\u001b[0;34m\u001b[0m\u001b[0m\n\u001b[1;32m    644\u001b[0m                 \u001b[0mioargs\u001b[0m\u001b[0;34m.\u001b[0m\u001b[0mmode\u001b[0m\u001b[0;34m,\u001b[0m\u001b[0;34m\u001b[0m\u001b[0;34m\u001b[0m\u001b[0m\n",
      "\u001b[0;31mFileNotFoundError\u001b[0m: [Errno 2] No such file or directory: 'results/de/xlm-r_0_0.csv'"
     ]
    }
   ],
   "source": [
    "get_model_attacks('de', 'xlm-r', True)"
   ]
  },
  {
   "cell_type": "code",
   "execution_count": null,
   "metadata": {
    "ExecuteTime": {
     "end_time": "2021-05-07T13:19:14.133033Z",
     "start_time": "2021-05-07T13:19:13.577Z"
    }
   },
   "outputs": [],
   "source": [
    "get_model_attacks('de', 'm-bert', True)"
   ]
  },
  {
   "cell_type": "code",
   "execution_count": null,
   "metadata": {
    "ExecuteTime": {
     "end_time": "2021-05-07T13:19:14.133437Z",
     "start_time": "2021-05-07T13:19:13.578Z"
    }
   },
   "outputs": [],
   "source": [
    "get_model_attacks('es', 'xlm-r', True)"
   ]
  },
  {
   "cell_type": "code",
   "execution_count": null,
   "metadata": {
    "ExecuteTime": {
     "end_time": "2021-05-07T13:19:14.133863Z",
     "start_time": "2021-05-07T13:19:13.581Z"
    }
   },
   "outputs": [],
   "source": [
    "get_model_attacks('es', 'm-bert', True)"
   ]
  },
  {
   "cell_type": "code",
   "execution_count": null,
   "metadata": {
    "ExecuteTime": {
     "end_time": "2021-05-07T13:19:14.134242Z",
     "start_time": "2021-05-07T13:19:13.583Z"
    }
   },
   "outputs": [],
   "source": [
    "get_model_attacks('fr', 'xlm-r', True)"
   ]
  },
  {
   "cell_type": "code",
   "execution_count": null,
   "metadata": {
    "ExecuteTime": {
     "end_time": "2021-05-07T13:19:14.134638Z",
     "start_time": "2021-05-07T13:19:13.585Z"
    }
   },
   "outputs": [],
   "source": [
    "get_model_attacks('fr', 'm-bert', True)"
   ]
  },
  {
   "cell_type": "code",
   "execution_count": null,
   "metadata": {
    "ExecuteTime": {
     "end_time": "2021-05-07T13:19:14.135046Z",
     "start_time": "2021-05-07T13:19:13.587Z"
    }
   },
   "outputs": [],
   "source": [
    "get_model_attacks('pt', 'xlm-r', True)"
   ]
  },
  {
   "cell_type": "code",
   "execution_count": null,
   "metadata": {
    "ExecuteTime": {
     "end_time": "2021-05-07T13:19:14.135432Z",
     "start_time": "2021-05-07T13:19:13.590Z"
    }
   },
   "outputs": [],
   "source": [
    "get_model_attacks('pt', 'm-bert', True)"
   ]
  },
  {
   "cell_type": "code",
   "execution_count": null,
   "metadata": {
    "ExecuteTime": {
     "end_time": "2021-05-07T13:19:14.135839Z",
     "start_time": "2021-05-07T13:19:13.592Z"
    }
   },
   "outputs": [],
   "source": [
    "get_model_attacks('ja', 'xlm-r', True)"
   ]
  },
  {
   "cell_type": "code",
   "execution_count": null,
   "metadata": {
    "ExecuteTime": {
     "end_time": "2021-05-07T13:19:14.136231Z",
     "start_time": "2021-05-07T13:19:13.596Z"
    }
   },
   "outputs": [],
   "source": [
    "get_model_attacks('ja', 'm-bert', True)"
   ]
  },
  {
   "cell_type": "code",
   "execution_count": null,
   "metadata": {
    "ExecuteTime": {
     "end_time": "2021-05-07T13:19:14.136644Z",
     "start_time": "2021-05-07T13:19:13.598Z"
    }
   },
   "outputs": [],
   "source": [
    "get_model_attacks('zh', 'xlm-r', True)"
   ]
  },
  {
   "cell_type": "code",
   "execution_count": null,
   "metadata": {
    "ExecuteTime": {
     "end_time": "2021-05-07T13:19:14.137011Z",
     "start_time": "2021-05-07T13:19:13.611Z"
    }
   },
   "outputs": [],
   "source": [
    "get_model_attacks('zh', 'm-bert', True)"
   ]
  }
 ],
 "metadata": {
  "kernelspec": {
   "display_name": "diploma",
   "language": "python",
   "name": "diploma"
  },
  "language_info": {
   "codemirror_mode": {
    "name": "ipython",
    "version": 3
   },
   "file_extension": ".py",
   "mimetype": "text/x-python",
   "name": "python",
   "nbconvert_exporter": "python",
   "pygments_lexer": "ipython3",
   "version": "3.9.4"
  }
 },
 "nbformat": 4,
 "nbformat_minor": 4
}
