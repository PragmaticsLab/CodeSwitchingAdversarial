{
 "cells": [
  {
   "cell_type": "code",
   "execution_count": 1,
   "metadata": {
    "ExecuteTime": {
     "end_time": "2021-05-16T21:54:55.344315Z",
     "start_time": "2021-05-16T21:54:54.243066Z"
    }
   },
   "outputs": [],
   "source": [
    "import numpy as np\n",
    "import pandas as pd\n",
    "\n",
    "from dataset import read_atis\n",
    "from utils import load_config\n",
    "\n",
    "import matplotlib.pyplot as plt\n",
    "import seaborn as sns\n",
    "\n",
    "\n",
    "sns.set(style='whitegrid', font_scale=1.5)\n",
    "plt.rc('font', family='Verdana')\n",
    "\n",
    "\n",
    "config = load_config()\n",
    "\n",
    "data_path = '/home/lesha/diploma/pieces of paper/reports/main/tables/'\n",
    "graph_path = '/home/lesha/diploma/pieces of paper/reports/main/images/'"
   ]
  },
  {
   "cell_type": "code",
   "execution_count": 2,
   "metadata": {
    "ExecuteTime": {
     "end_time": "2021-05-16T21:54:55.355391Z",
     "start_time": "2021-05-16T21:54:55.345167Z"
    }
   },
   "outputs": [],
   "source": [
    "label_num = 0\n",
    "graph_num = 0\n",
    "\n",
    "\n",
    "def array_fixer(x):\n",
    "    if isinstance(x, list) or isinstance(x, np.ndarray):\n",
    "        return f'${np.mean(x):.3f} \\pm {np.std(x):.3f}$'\n",
    "    else:\n",
    "        return f'${x:.3f}$'\n",
    "\n",
    "\n",
    "def df_to_latex(df, caption: str = None):\n",
    "    result = \"\"\"\\\n",
    "\\\\begin{{table}}[H]\n",
    "\\t\\\\resizebox{{\\\\textwidth}}{{!}}{{\n",
    "\\t\\t\\\\begin{{tabular}}{{|>{{\\\\bfseries}}l|{}}}\n",
    "\\t\\t\\t\\\\hline\n",
    "{}\n",
    "\\t\\t\\\\end{{tabular}}\n",
    "\\t}}{}\n",
    "\\\\end{{table}}\\\n",
    "\"\"\"\n",
    "\n",
    "    columns = 'c|' * df.shape[1]\n",
    "\n",
    "    body = ['& ' + ' & '.join(df.columns)]\n",
    "\n",
    "    body += [\n",
    "        df.index[i] +\n",
    "        '&' +\n",
    "        ' & '.join(map(array_fixer, df.iloc[i].values))\n",
    "        for i in range(len(df))\n",
    "    ]\n",
    "\n",
    "    for i in range(len(body)):\n",
    "        body[i] = '\\t' * 3 + body[i] + ' \\\\\\\\ \\\\hline'\n",
    "\n",
    "    body = '\\n'.join(body).replace('_', '\\\\_')\n",
    "\n",
    "    if caption is not None:\n",
    "        caption = f'\\caption{{{caption}}}'\n",
    "    else:\n",
    "        caption = ''\n",
    "\n",
    "    global label_num\n",
    "\n",
    "    caption += f'\\\\label{{tab:table{label_num}}}'\n",
    "\n",
    "    label_num += 1\n",
    "\n",
    "    result = result.format(columns, body, caption)\n",
    "\n",
    "    return result\n",
    "\n",
    "\n",
    "def attack_to_latex(original, adv, caption: str = None):\n",
    "    result = \"\"\"\\\n",
    "\\\\begin{{table}}[H]\n",
    "\\t\\\\resizebox{{\\\\textwidth}}{{!}}{{\n",
    "\\t\\t\\\\begin{{tabular}}{{|>{{\\\\bfseries}}l|{}|}}\n",
    "\\t\\t\\t\\\\hline\n",
    "{}\n",
    "\\t\\t\\\\end{{tabular}}\n",
    "\\t}}{}\n",
    "\\\\end{{table}}\\\n",
    "\"\"\"\n",
    "\n",
    "    num_columns = max(len(original.split()), len(adv.split()))\n",
    "\n",
    "    original = original.split() + [' '] * (num_columns - len(original.split()))\n",
    "    adv = adv.split() + [' '] * (num_columns - len(adv.split()))\n",
    "\n",
    "    columns = 'c' * num_columns\n",
    "\n",
    "    body = ['Utterance en &' + ' & '.join(original)]\n",
    "    body += ['Utterance adv &' + ' & '.join(adv)]\n",
    "\n",
    "    for i in range(len(body)):\n",
    "        body[i] = '\\t' * 3 + body[i] + ' \\\\\\\\ \\\\hline'\n",
    "\n",
    "    body = '\\n'.join(body).replace('_', '\\\\_')\n",
    "\n",
    "    if caption is not None:\n",
    "        caption = f'\\caption{{{caption}}}'\n",
    "    else:\n",
    "        caption = ''\n",
    "\n",
    "    global label_num\n",
    "\n",
    "    caption += f'\\\\label{{tab:table{label_num}}}'\n",
    "\n",
    "    label_num += 1\n",
    "\n",
    "    result = result.format(columns, body, caption)\n",
    "\n",
    "    return result\n",
    "\n",
    "def plot_df(df, value, caption):\n",
    "    global graph_num\n",
    "\n",
    "    result = f'''\\\n",
    "\\\\begin{{figure}}[h!]\n",
    "    \\\\centering\n",
    "    \\\\includegraphics[width=\\\\textwidth]{{images/{graph_num}}}\n",
    "    \\\\caption{{{caption}}}\\\\label{{fig:figure{graph_num}}}\n",
    "\\\\end{{figure}}\\\n",
    "'''\n",
    "\n",
    "    fig, ax = plt.subplots(figsize=(16, 8))\n",
    "\n",
    "    data = df.reset_index().melt(id_vars='index').rename(\n",
    "        columns={\n",
    "            'value': value,\n",
    "            'index': 'Model name',\n",
    "            'variable': 'Language'\n",
    "        }\n",
    "    )\n",
    "\n",
    "    sns.barplot(x='Language', y=value, hue='Model name', data=data, ax=ax, alpha=0.75, saturation=0.75)\n",
    "\n",
    "    plt.legend(loc='upper center', bbox_to_anchor=(0.5, -0.15), borderaxespad=0, ncol=4)\n",
    "    sns.despine(fig)\n",
    "    \n",
    "    fig.savefig(graph_path + f'{graph_num}.pdf',  bbox_inches='tight')\n",
    "    plt.close(fig)\n",
    "\n",
    "    graph_num += 1\n",
    "\n",
    "    return result\n",
    "\n",
    "\n",
    "def plot_dfs(df1, df2, value, caption, first_title, second_title):\n",
    "    global graph_num\n",
    "\n",
    "    result = f'''\\\n",
    "\\\\begin{{figure}}[h!]\n",
    "    \\\\centering\n",
    "    \\\\includegraphics[width=\\\\textwidth]{{images/{graph_num}}}\n",
    "    \\\\caption{{{caption}}}\\\\label{{fig:figure{graph_num}}}\n",
    "\\\\end{{figure}}\\\n",
    "'''\n",
    "\n",
    "    fig, ax = plt.subplots(figsize=(16, 8))\n",
    "\n",
    "    data1 = df1.reset_index().melt(id_vars='index').rename(\n",
    "        columns={\n",
    "            'value': value,\n",
    "            'index': 'Model name',\n",
    "            'variable': 'Language'\n",
    "        }\n",
    "    )\n",
    "    \n",
    "    data2 = df2.reset_index().melt(id_vars='index').rename(\n",
    "        columns={\n",
    "            'value': value,\n",
    "            'index': 'Model name',\n",
    "            'variable': 'Language'\n",
    "        }\n",
    "    )\n",
    "    sns.barplot(x='Language', y=value, hue='Model name', data=data1, ax=ax, alpha=0.75, saturation=0.75)\n",
    "    leg1 = plt.legend(loc='upper center', bbox_to_anchor=(0.5, -0.15), borderaxespad=0, ncol=4, title=first_title)\n",
    "    \n",
    "    sns.barplot(x='Language', y=value, hue='Model name', data=data2, ax=ax, facecolor=(1, 1, 1, 0), linewidth=2.5, edgecolor='.2')\n",
    "    plt.legend()\n",
    "    \n",
    "    handles, labels = ax.get_legend_handles_labels()\n",
    "    \n",
    "    ax.legend(handles[4:], labels[4:], loc='upper center', bbox_to_anchor=(0.5, -0.3), borderaxespad=0, ncol=4, title=second_title)\n",
    "\n",
    "    ax.add_artist(leg1)\n",
    "    sns.despine(fig)\n",
    "\n",
    "    fig.savefig(graph_path + f'{graph_num}.pdf',  bbox_inches='tight')\n",
    "    plt.close(fig)\n",
    "\n",
    "    graph_num += 1\n",
    "\n",
    "    return result"
   ]
  },
  {
   "cell_type": "code",
   "execution_count": 3,
   "metadata": {
    "ExecuteTime": {
     "end_time": "2021-05-16T21:54:55.365143Z",
     "start_time": "2021-05-16T21:54:55.356287Z"
    }
   },
   "outputs": [],
   "source": [
    "model_names = [\n",
    "    'xlm-r',\n",
    "    'm-bert',\n",
    "    'xlm-r en',\n",
    "    'm-bert en',\n",
    "    'xlm-r adv',\n",
    "    'm-bert adv',\n",
    "    'xlm-r en + adv',\n",
    "    'm-bert en + adv'\n",
    "]\n",
    "\n",
    "model_args = [\n",
    "    (False, False),\n",
    "    (False, False),\n",
    "    (True, False),\n",
    "    (True, False),\n",
    "    (False, True),\n",
    "    (False, True),\n",
    "    (True, True),\n",
    "    (True, True),\n",
    "]"
   ]
  },
  {
   "cell_type": "code",
   "execution_count": 4,
   "metadata": {
    "ExecuteTime": {
     "end_time": "2021-05-16T21:54:55.369807Z",
     "start_time": "2021-05-16T21:54:55.365962Z"
    }
   },
   "outputs": [],
   "source": [
    "def get_model_attacks(language, model_name, only_english: bool = False, adv_pretrained: bool = False):\n",
    "    return pd.read_csv(\n",
    "        f'results/{language}/{model_name}_{int(only_english)}_{int(adv_pretrained)}.csv',\n",
    "        index_col=0\n",
    "    )"
   ]
  },
  {
   "cell_type": "code",
   "execution_count": 5,
   "metadata": {
    "ExecuteTime": {
     "end_time": "2021-05-16T21:54:55.374440Z",
     "start_time": "2021-05-16T21:54:55.370483Z"
    }
   },
   "outputs": [],
   "source": [
    "index_renamer = {\n",
    "    'intent_acc': 'Intent accuracy',\n",
    "    'slot_f1': 'Slots F1 score',\n",
    "    'sementic_frame_acc': 'Semantic accuracy',\n",
    "}"
   ]
  },
  {
   "cell_type": "code",
   "execution_count": 6,
   "metadata": {
    "ExecuteTime": {
     "end_time": "2021-05-16T21:54:55.386813Z",
     "start_time": "2021-05-16T21:54:55.375074Z"
    }
   },
   "outputs": [],
   "source": [
    "# СРАВНЕНИЕ МОДЕЛЕЙ МЕЖДУ СОБОЙ ПРОСТО НА ТЕСТОВОЙ ВЫБОРКЕ (БЕЗ ЗАЩИТЫ)\n",
    "\n",
    "output1 = {index_renamer[key]: {} for key in index_renamer}\n",
    "\n",
    "for model_name, model_arg in zip(model_names[:4], model_args):\n",
    "    df = get_model_attacks('test', model_name.split()[0], *model_arg)\n",
    "\n",
    "    for key in index_renamer.keys():\n",
    "        values = df[key].to_dict()\n",
    "        values['avg'] = np.mean(list(values.values()))\n",
    "        output1[index_renamer[key]][model_name] = values\n",
    "\n",
    "output1 = {key: pd.DataFrame.from_dict(output1[key]).rename(index=index_renamer).transpose() for key in output1.keys()}"
   ]
  },
  {
   "cell_type": "code",
   "execution_count": 7,
   "metadata": {
    "ExecuteTime": {
     "end_time": "2021-05-16T21:54:55.828448Z",
     "start_time": "2021-05-16T21:54:55.387525Z"
    }
   },
   "outputs": [],
   "source": [
    "with open(data_path + '1.tex', 'w') as f, open(graph_path + '1.tex', 'w') as f2:\n",
    "    for key in output1.keys():\n",
    "        print(\n",
    "            df_to_latex(\n",
    "                output1[key],\n",
    "                f'Сравнение моделей между собой \\\\textbf{{на тестовой выборке}} датасета MultiAtis++ по метрике \\\\textbf{{{key}}}. По колонкам языки тестовых подвыборок, по рядам тестируемые модели.'\n",
    "            ),\n",
    "            file=f,\n",
    "        )\n",
    "\n",
    "        print(plot_df(output1[key], key, f'Сравнение моделей между собой \\\\textbf{{на тестовой выборке}} датасета MultiAtis++ по метрике \\\\textbf{{{key}}}.'), file=f2)"
   ]
  },
  {
   "cell_type": "code",
   "execution_count": 8,
   "metadata": {
    "ExecuteTime": {
     "end_time": "2021-05-16T21:54:55.844132Z",
     "start_time": "2021-05-16T21:54:55.829836Z"
    }
   },
   "outputs": [],
   "source": [
    "# СРАВНЕНИЕ МОДЕЛЕЙ МЕЖДУ СОБОЙ ПО АТАКЕ WORD LEVEL\n",
    "\n",
    "output2 = {index_renamer[key]: {} for key in index_renamer}\n",
    "\n",
    "for model_name, model_arg in zip(model_names[:4], model_args):\n",
    "    df = get_model_attacks('en', model_name.split()[0], *model_arg)\n",
    "\n",
    "    for key in index_renamer.keys():\n",
    "        mask = df.index.map(lambda x: 'Word' in x)\n",
    "        values = df[mask][key].to_dict()\n",
    "        values['[avg]'] = np.mean(list(values.values()))\n",
    "        output2[index_renamer[key]][model_name] = {key_[key_.find('[') + 1:key_.find(']')]: values[key_] for key_ in\n",
    "                                                  values.keys()}\n",
    "\n",
    "output2 = {key: pd.DataFrame.from_dict(output2[key]).rename(index=index_renamer).transpose() for key in output2.keys()}"
   ]
  },
  {
   "cell_type": "code",
   "execution_count": 9,
   "metadata": {
    "ExecuteTime": {
     "end_time": "2021-05-16T21:54:56.526722Z",
     "start_time": "2021-05-16T21:54:55.845145Z"
    }
   },
   "outputs": [],
   "source": [
    "with open(data_path + '2.tex', 'w') as f, open(graph_path + '2.tex', 'w') as f2:\n",
    "    for key in output2.keys():\n",
    "        print(\n",
    "            df_to_latex(\n",
    "                output2[key],\n",
    "                f'Сравнение моделей между собой после \\\\textbf{{word-level}} атаки на тестовую выборку датасета MultiAtis++ по метрике \\\\textbf{{{key}}}. По колонкам встраиваемые языки, по рядам тестируемые модели.'\n",
    "            ),\n",
    "            file=f,\n",
    "        )\n",
    "\n",
    "        print(\n",
    "            plot_dfs(\n",
    "                output1[key],\n",
    "                output2[key],\n",
    "                key,\n",
    "                f'Сравнение моделей между собой после \\\\textbf{{word-level}} атаки на тестовую выборку датасета MultiAtis++ по метрике \\\\textbf{{{key}}}.',\n",
    "                'До атаки',\n",
    "                'После атаки'\n",
    "            ), \n",
    "            file=f2\n",
    "        )"
   ]
  },
  {
   "cell_type": "code",
   "execution_count": 10,
   "metadata": {
    "ExecuteTime": {
     "end_time": "2021-05-16T21:54:56.539990Z",
     "start_time": "2021-05-16T21:54:56.527473Z"
    }
   },
   "outputs": [],
   "source": [
    "# СРАВНЕНИЕ МОДЕЛЕЙ МЕЖДУ СОБОЙ ПО АТАКЕ ALIGNMENTS\n",
    "\n",
    "output3 = {index_renamer[key]: {} for key in index_renamer}\n",
    "\n",
    "for model_name, model_arg in zip(model_names[:4], model_args):\n",
    "    df = get_model_attacks('en', model_name.split()[0], *model_arg)\n",
    "\n",
    "    for key in index_renamer.keys():\n",
    "        mask = df.index.map(lambda x: 'Align' in x)\n",
    "        values = df[mask][key].to_dict()\n",
    "        values['[avg]'] = np.mean(list(values.values()))\n",
    "        output3[index_renamer[key]][model_name] = {key_[key_.find('[') + 1:key_.find(']')]: values[key_] for key_ in\n",
    "                                                  values.keys()}\n",
    "\n",
    "output3 = {key: pd.DataFrame.from_dict(output3[key]).rename(index=index_renamer).transpose() for key in output3.keys()}"
   ]
  },
  {
   "cell_type": "code",
   "execution_count": 11,
   "metadata": {
    "ExecuteTime": {
     "end_time": "2021-05-16T21:54:57.229236Z",
     "start_time": "2021-05-16T21:54:56.540747Z"
    }
   },
   "outputs": [],
   "source": [
    "with open(data_path + '3.tex', 'w') as f, open(graph_path + '3.tex', 'w') as f2:\n",
    "    for key in output3.keys():\n",
    "        print(\n",
    "            df_to_latex(\n",
    "                output3[key],\n",
    "                f'Сравнение моделей между собой после \\\\textbf{{phrase-level}} атаки на тестовую выборку датасета MultiAtis++ по метрике \\\\textbf{{{key}}}. По колонкам встраиваемые языки, по рядам тестируемые модели.'\n",
    "            ),\n",
    "            file=f,\n",
    "        )\n",
    "        \n",
    "        print(\n",
    "            plot_dfs(\n",
    "                output1[key],\n",
    "                output3[key],\n",
    "                key,\n",
    "                f'Сравнение моделей между собой после \\\\textbf{{phrase-level}} атаки на тестовую выборку датасета MultiAtis++ по метрике \\\\textbf{{{key}}}.',\n",
    "                'До атаки',\n",
    "                'После атаки'\n",
    "            ),\n",
    "            file=f2\n",
    "        )"
   ]
  },
  {
   "cell_type": "code",
   "execution_count": 12,
   "metadata": {
    "ExecuteTime": {
     "end_time": "2021-05-16T21:54:57.239332Z",
     "start_time": "2021-05-16T21:54:57.229981Z"
    }
   },
   "outputs": [],
   "source": [
    "# СРАВНЕНИЕ МОДЕЛЕЙ МЕЖДУ СОБОЙ ПРОСТО НА ТЕСТОВОЙ ВЫБОРКЕ (С ЗАЩИТОЙ)\n",
    "\n",
    "output4 = {index_renamer[key]: {} for key in index_renamer}\n",
    "\n",
    "for model_name, model_arg in zip(model_names[4:], model_args[4:]):\n",
    "    df = get_model_attacks('test', model_name.split()[0], *model_arg)\n",
    "\n",
    "    for key in index_renamer.keys():\n",
    "        values = df[key].to_dict()\n",
    "        values['avg'] = np.mean(list(values.values()))\n",
    "        output4[index_renamer[key]][model_name] = values\n",
    "\n",
    "output4 = {key: pd.DataFrame.from_dict(output4[key]).rename(index=index_renamer).transpose() for key in output4.keys()}"
   ]
  },
  {
   "cell_type": "code",
   "execution_count": 13,
   "metadata": {
    "ExecuteTime": {
     "end_time": "2021-05-16T21:54:57.958640Z",
     "start_time": "2021-05-16T21:54:57.240130Z"
    }
   },
   "outputs": [],
   "source": [
    "with open(data_path + '4.tex', 'w') as f, open(graph_path + '4.tex', 'w') as f2:\n",
    "    for key in output4.keys():\n",
    "        print(\n",
    "            df_to_latex(\n",
    "                output4[key],\n",
    "                f'Сравнение моделей \\\\textbf{{с защитой}} между собой \\\\textbf{{на тестовой выборке}} датасета MultiAtis++ по метрике \\\\textbf{{{key}}}. По колонкам языки тестовых подвыборок, по рядам тестируемые модели.'\n",
    "            ),\n",
    "            file=f,\n",
    "        )\n",
    "\n",
    "        print(\n",
    "            plot_dfs(\n",
    "                output4[key],\n",
    "                output1[key],\n",
    "                key,\n",
    "                f'Сравнение моделей \\\\textbf{{с защитой}} между собой \\\\textbf{{на тестовой выборке}} датасета MultiAtis++ по метрике \\\\textbf{{{key}}}.',\n",
    "                'С защитой',\n",
    "                'Без защиты'\n",
    "            ),\n",
    "            file=f2\n",
    "        )"
   ]
  },
  {
   "cell_type": "code",
   "execution_count": 14,
   "metadata": {
    "ExecuteTime": {
     "end_time": "2021-05-16T21:54:57.972134Z",
     "start_time": "2021-05-16T21:54:57.959395Z"
    }
   },
   "outputs": [],
   "source": [
    "# СРАВНЕНИЕ МОДЕЛЕЙ МЕЖДУ СОБОЙ ПО АТАКЕ WORD LEVEL\n",
    "\n",
    "output5 = {index_renamer[key]: {} for key in index_renamer}\n",
    "\n",
    "for model_name, model_arg in zip(model_names[4:], model_args[4:]):\n",
    "    df = get_model_attacks('en', model_name.split()[0], *model_arg)\n",
    "\n",
    "    for key in index_renamer.keys():\n",
    "        mask = df.index.map(lambda x: 'Word' in x)\n",
    "        values = df[mask][key].to_dict()\n",
    "        values['[avg]'] = np.mean(list(values.values()))\n",
    "        output5[index_renamer[key]][model_name] = {key_[key_.find('[') + 1:key_.find(']')]: values[key_] for key_ in\n",
    "                                                  values.keys()}\n",
    "\n",
    "output5 = {key: pd.DataFrame.from_dict(output5[key]).rename(index=index_renamer).transpose() for key in output5.keys()}"
   ]
  },
  {
   "cell_type": "code",
   "execution_count": 15,
   "metadata": {
    "ExecuteTime": {
     "end_time": "2021-05-16T21:54:58.576615Z",
     "start_time": "2021-05-16T21:54:57.973005Z"
    }
   },
   "outputs": [],
   "source": [
    "with open(data_path + '5.tex', 'w') as f, open(graph_path + '5.tex', 'w') as f2:\n",
    "    for key in output5.keys():\n",
    "        print(\n",
    "            df_to_latex(\n",
    "                output5[key],\n",
    "                f'Сравнение моделей \\\\textbf{{с защитой}} между собой после \\\\textbf{{word-level}} атаки на тестовую выборку датасета MultiAtis++ по метрике \\\\textbf{{{key}}}. По колонкам встраиваемые языки, по рядам тестируемые модели.'\n",
    "            ),\n",
    "            file=f,\n",
    "        )\n",
    "        \n",
    "        print(\n",
    "            plot_dfs(\n",
    "                output5[key],\n",
    "                output2[key],\n",
    "                key,\n",
    "                f'Сравнение моделей \\\\textbf{{с защитой}} между собой после \\\\textbf{{word-level}} атаки на тестовую выборку датасета MultiAtis++ по метрике \\\\textbf{{{key}}}.',\n",
    "                'C защитой',\n",
    "                'Без защиты'\n",
    "            ),\n",
    "            file=f2\n",
    "        )"
   ]
  },
  {
   "cell_type": "code",
   "execution_count": 16,
   "metadata": {
    "ExecuteTime": {
     "end_time": "2021-05-16T21:54:58.590933Z",
     "start_time": "2021-05-16T21:54:58.577528Z"
    }
   },
   "outputs": [],
   "source": [
    "# СРАВНЕНИЕ МОДЕЛЕЙ МЕЖДУ СОБОЙ ПО АТАКЕ ALIGNMENTS\n",
    "\n",
    "output6 = {index_renamer[key]: {} for key in index_renamer}\n",
    "\n",
    "for model_name, model_arg in zip(model_names[4:], model_args[4:]):\n",
    "    df = get_model_attacks('en', model_name.split()[0], *model_arg)\n",
    "\n",
    "    for key in index_renamer.keys():\n",
    "        mask = df.index.map(lambda x: 'Align' in x)\n",
    "        values = df[mask][key].to_dict()\n",
    "        values['[avg]'] = np.mean(list(values.values()))\n",
    "        output6[index_renamer[key]][model_name] = {key_[key_.find('[') + 1:key_.find(']')]: values[key_] for key_ in\n",
    "                                                  values.keys()}\n",
    "\n",
    "output6 = {key: pd.DataFrame.from_dict(output6[key]).rename(index=index_renamer).transpose() for key in output6.keys()}"
   ]
  },
  {
   "cell_type": "code",
   "execution_count": 17,
   "metadata": {
    "ExecuteTime": {
     "end_time": "2021-05-16T21:54:59.278045Z",
     "start_time": "2021-05-16T21:54:58.591675Z"
    }
   },
   "outputs": [],
   "source": [
    "with open(data_path + '6.tex', 'w') as f, open(graph_path + '6.tex', 'w') as f2:\n",
    "    for key in output6.keys():\n",
    "        print(\n",
    "            df_to_latex(\n",
    "                output6[key],\n",
    "                f'Сравнение моделей \\\\textbf{{с защитой}} между собой после \\\\textbf{{phrase-level}} атаки на тестовую выборку датасета MultiAtis++ по метрике \\\\textbf{{{key}}}. По колонкам встраиваемые языки, по рядам тестируемые модели.'\n",
    "            ),\n",
    "            file=f,\n",
    "        )\n",
    "        \n",
    "        print(\n",
    "            plot_dfs(\n",
    "                output6[key],\n",
    "                output3[key],\n",
    "                key,\n",
    "                f'Сравнение моделей \\\\textbf{{с защитой}} между собой после \\\\textbf{{phrase-level}} атаки на тестовую выборку датасета MultiAtis++ по метрике \\\\textbf{{{key}}}.',\n",
    "                'С защитой',\n",
    "                'Без защиты'\n",
    "            ),\n",
    "            file=f2\n",
    "        )"
   ]
  },
  {
   "cell_type": "code",
   "execution_count": 18,
   "metadata": {
    "ExecuteTime": {
     "end_time": "2021-05-16T20:28:28.740538Z",
     "start_time": "2021-05-16T20:28:28.575617Z"
    }
   },
   "outputs": [],
   "source": [
    "test = read_atis('test', ['en'])\n",
    "test['len'] = test['utterance'].apply(lambda x: len(x.split()))\n",
    "\n",
    "from adversarial import AdversarialWordLevel\n",
    "from adversarial import AdversarialAlignments"
   ]
  },
  {
   "cell_type": "code",
   "execution_count": 19,
   "metadata": {
    "ExecuteTime": {
     "end_time": "2021-05-16T20:28:28.742920Z",
     "start_time": "2021-05-16T20:28:28.741436Z"
    }
   },
   "outputs": [],
   "source": [
    "from utils import load_config\n",
    "from utils import save_config"
   ]
  },
  {
   "cell_type": "code",
   "execution_count": 20,
   "metadata": {
    "ExecuteTime": {
     "end_time": "2021-05-16T20:28:28.750177Z",
     "start_time": "2021-05-16T20:28:28.743556Z"
    }
   },
   "outputs": [],
   "source": [
    "languages = ['de', 'es', 'fr', 'es', 'pt']"
   ]
  },
  {
   "cell_type": "code",
   "execution_count": 21,
   "metadata": {
    "ExecuteTime": {
     "end_time": "2021-05-16T20:28:37.171404Z",
     "start_time": "2021-05-16T20:28:28.750801Z"
    }
   },
   "outputs": [],
   "source": [
    "with open(data_path + '7.tex', 'w') as f:\n",
    "    model_name = 'xlm-r'\n",
    "    model_arg = (False, False)\n",
    "\n",
    "    config = load_config()\n",
    "\n",
    "    config['model_name'] = model_name\n",
    "    config['only_english'] = model_arg[0]\n",
    "    config['load_adv_pretrained'] = model_arg[1]\n",
    "\n",
    "    save_config(config)\n",
    "\n",
    "    f1 = AdversarialWordLevel(base_language='en')\n",
    "    f1.port_model()\n",
    "\n",
    "    for i in range(3):\n",
    "        f1.change_attack_language(np.random.choice(languages))\n",
    "\n",
    "        random = test[test['len'] == 9].sample(1).iloc[0]\n",
    "\n",
    "        adv = ' '.join(\n",
    "            f1.attack(x=[random['utterance']], y_slots=[random['slot_labels']], y_intent=[random['intent']])[0][0]\n",
    "        )\n",
    "\n",
    "        print(attack_to_latex(\n",
    "            random['utterance'], adv, caption=f'Пример {i + 1} атаки модели XLM-RoBERTa (xlm-r) word-level атакой.'\n",
    "        ), file=f)"
   ]
  },
  {
   "cell_type": "code",
   "execution_count": 22,
   "metadata": {
    "ExecuteTime": {
     "end_time": "2021-05-16T20:28:43.282147Z",
     "start_time": "2021-05-16T20:28:37.173380Z"
    }
   },
   "outputs": [],
   "source": [
    "with open(data_path + '8.tex', 'w') as f:\n",
    "    model_name = 'xlm-r'\n",
    "    model_arg = (False, False)\n",
    "\n",
    "    config = load_config()\n",
    "\n",
    "    config['model_name'] = model_name\n",
    "    config['only_english'] = model_arg[0]\n",
    "    config['load_adv_pretrained'] = model_arg[1]\n",
    "\n",
    "    save_config(config)\n",
    "\n",
    "    f1 = AdversarialAlignments(base_language='en')\n",
    "    f1.port_model()\n",
    "\n",
    "    for i in range(3):\n",
    "        f1.change_attack_language(np.random.choice(languages))\n",
    "\n",
    "        random = test[test['len'] == 9].sample(1).iloc[0]\n",
    "        alignments = [f1.alignments[j] for j in [random.name]]\n",
    "\n",
    "        adv = ' '.join(\n",
    "            f1.attack([random['utterance']], [random['slot_labels']], [random['intent']], alignments)[0][0]\n",
    "        )\n",
    "\n",
    "        print(attack_to_latex(\n",
    "            random['utterance'], adv, caption=f'Пример {i + 1} атаки модели XLM-RoBERTa (xlm-r) phrase-level атакой.'\n",
    "        ), file=f)"
   ]
  },
  {
   "cell_type": "code",
   "execution_count": 23,
   "metadata": {
    "ExecuteTime": {
     "end_time": "2021-05-16T20:28:43.285472Z",
     "start_time": "2021-05-16T20:28:43.283029Z"
    }
   },
   "outputs": [],
   "source": [
    "mask = (test['len'] > 7) & (test['len'] < 12)"
   ]
  },
  {
   "cell_type": "code",
   "execution_count": 24,
   "metadata": {
    "ExecuteTime": {
     "end_time": "2021-05-16T20:29:20.503324Z",
     "start_time": "2021-05-16T20:28:43.286298Z"
    }
   },
   "outputs": [],
   "source": [
    "with open(data_path + '9.tex', 'w') as f:\n",
    "    for model_name, model_arg in zip(model_names, model_args):\n",
    "        if 'm-bert' not in model_name:\n",
    "            continue\n",
    "\n",
    "        config = load_config()\n",
    "\n",
    "        config['model_name'] = model_name.split()[0]\n",
    "        config['only_english'] = model_arg[0]\n",
    "        config['load_adv_pretrained'] = model_arg[1]\n",
    "\n",
    "        save_config(config)\n",
    "\n",
    "        f1 = AdversarialWordLevel(base_language='en', attack_language=np.random.choice(languages))\n",
    "        f1.port_model()\n",
    "\n",
    "        random = test[mask].sample(1).iloc[0]\n",
    "\n",
    "        adv = ' '.join(\n",
    "            f1.attack(x=[random['utterance']], y_slots=[random['slot_labels']], y_intent=[random['intent']])[0][0]\n",
    "        )\n",
    "\n",
    "        print(attack_to_latex(\n",
    "            random['utterance'], adv,\n",
    "            caption=f'Пример атаки модели m-BERT ({model_name}) word-level атакой.'\n",
    "        ), file=f)\n",
    "\n",
    "        f1 = AdversarialAlignments(base_language='en', attack_language=np.random.choice(languages))\n",
    "        f1.port_model()\n",
    "\n",
    "        random = test[mask].sample(1).iloc[0]\n",
    "        alignments = [f1.alignments[j] for j in [random.name]]\n",
    "\n",
    "        adv = ' '.join(\n",
    "            f1.attack([random['utterance']], [random['slot_labels']], [random['intent']], alignments)[0][0]\n",
    "        )\n",
    "\n",
    "        print(attack_to_latex(\n",
    "            random['utterance'], adv,\n",
    "            caption=f'Пример атаки модели m-BERT ({model_name}) phrase-level атакой.'\n",
    "        ), file=f)"
   ]
  },
  {
   "cell_type": "code",
   "execution_count": 25,
   "metadata": {
    "ExecuteTime": {
     "end_time": "2021-05-16T20:30:07.743941Z",
     "start_time": "2021-05-16T20:29:20.504233Z"
    }
   },
   "outputs": [],
   "source": [
    "with open(data_path + '10.tex', 'w') as f:\n",
    "    for model_name, model_arg in zip(model_names, model_args):\n",
    "        if 'xlm-r' not in model_name:\n",
    "            continue\n",
    "\n",
    "        config = load_config()\n",
    "\n",
    "        config['model_name'] = model_name.split()[0]\n",
    "        config['only_english'] = model_arg[0]\n",
    "        config['load_adv_pretrained'] = model_arg[1]\n",
    "\n",
    "        save_config(config)\n",
    "\n",
    "        f1 = AdversarialWordLevel(base_language='en', attack_language=np.random.choice(languages))\n",
    "        f1.port_model()\n",
    "\n",
    "        random = test[mask].sample(1).iloc[0]\n",
    "\n",
    "        adv = ' '.join(\n",
    "            f1.attack(x=[random['utterance']], y_slots=[random['slot_labels']], y_intent=[random['intent']])[0][0]\n",
    "        )\n",
    "\n",
    "        print(attack_to_latex(\n",
    "            random['utterance'], adv,\n",
    "            caption=f'Пример атаки модели XLM-RoBERTa ({model_name}) word-level атакой.'\n",
    "        ), file=f)\n",
    "\n",
    "        f1 = AdversarialAlignments(base_language='en', attack_language=np.random.choice(languages))\n",
    "        f1.port_model()\n",
    "\n",
    "        random = test[mask].sample(1).iloc[0]\n",
    "        alignments = [f1.alignments[j] for j in [random.name]]\n",
    "\n",
    "        adv = ' '.join(\n",
    "            f1.attack([random['utterance']], [random['slot_labels']], [random['intent']], alignments)[0][0]\n",
    "        )\n",
    "\n",
    "        print(attack_to_latex(\n",
    "            random['utterance'], adv,\n",
    "            caption=f'Пример атаки модели XLM-RoBERTa ({model_name}) phrase-level атакой.'\n",
    "        ), file=f)"
   ]
  }
 ],
 "metadata": {
  "kernelspec": {
   "display_name": "Python 3",
   "language": "python",
   "name": "python3"
  },
  "language_info": {
   "codemirror_mode": {
    "name": "ipython",
    "version": 3
   },
   "file_extension": ".py",
   "mimetype": "text/x-python",
   "name": "python",
   "nbconvert_exporter": "python",
   "pygments_lexer": "ipython3",
   "version": "3.9.4"
  }
 },
 "nbformat": 4,
 "nbformat_minor": 4
}
