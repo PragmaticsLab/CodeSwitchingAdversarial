{
 "cells": [
  {
   "cell_type": "code",
   "execution_count": 1,
   "metadata": {
    "ExecuteTime": {
     "end_time": "2021-05-01T12:55:30.060382Z",
     "start_time": "2021-05-01T12:55:29.022558Z"
    }
   },
   "outputs": [],
   "source": [
    "import os\n",
    "\n",
    "from tqdm import tqdm\n",
    "\n",
    "from itertools import combinations\n",
    "\n",
    "from dataset import read_atis\n",
    "from utils import load_config"
   ]
  },
  {
   "cell_type": "code",
   "execution_count": 2,
   "metadata": {
    "ExecuteTime": {
     "end_time": "2021-05-01T12:55:30.093894Z",
     "start_time": "2021-05-01T12:55:30.061382Z"
    }
   },
   "outputs": [
    {
     "data": {
      "text/plain": [
       "['en', 'de', 'es', 'fr', 'ja', 'pt', 'zh_cn']"
      ]
     },
     "execution_count": 2,
     "metadata": {},
     "output_type": "execute_result"
    }
   ],
   "source": [
    "test = read_atis('test')\n",
    "\n",
    "languages = load_config()['languages']\n",
    "\n",
    "languages"
   ]
  },
  {
   "cell_type": "code",
   "execution_count": 3,
   "metadata": {
    "ExecuteTime": {
     "end_time": "2021-05-01T12:55:55.733549Z",
     "start_time": "2021-05-01T12:55:30.094734Z"
    }
   },
   "outputs": [
    {
     "name": "stderr",
     "output_type": "stream",
     "text": [
      "100%|██████████| 21/21 [00:25<00:00,  1.22s/it]\n"
     ]
    }
   ],
   "source": [
    "for language1, language2 in tqdm(combinations(languages, 2), total=21):\n",
    "    with open(f'data/alignment/{language1}_{language2}.src', 'w') as fp:\n",
    "        for idx, block in test.groupby('uuid'):\n",
    "            sentence1 = block.loc[block['language'] == language1]['utterance'].values[0]\n",
    "            sentence2 = block.loc[block['language'] == language2]['utterance'].values[0]\n",
    "\n",
    "            print(sentence1, sentence2, sep=' ||| ', file=fp)\n",
    "\n",
    "    language1, language2 = language2, language1\n",
    "            \n",
    "    with open(f'data/alignment/{language1}_{language2}.src', 'w') as fp:\n",
    "        for idx, block in test.groupby('uuid'):\n",
    "            sentence1 = block.loc[block['language'] == language1]['utterance'].values[0]\n",
    "            sentence2 = block.loc[block['language'] == language2]['utterance'].values[0]\n",
    "\n",
    "            print(sentence1, sentence2, sep=' ||| ', file=fp)"
   ]
  },
  {
   "cell_type": "code",
   "execution_count": 4,
   "metadata": {
    "ExecuteTime": {
     "end_time": "2021-05-01T13:04:30.973873Z",
     "start_time": "2021-05-01T12:55:55.734269Z"
    }
   },
   "outputs": [
    {
     "name": "stderr",
     "output_type": "stream",
     "text": [
      "100%|██████████| 21/21 [08:35<00:00, 24.54s/it]\n"
     ]
    }
   ],
   "source": [
    "cmd = \"\"\"\n",
    "DATA_FILE=data/alignment/{}_{}.src\n",
    "MODEL_NAME_OR_PATH=bert-base-multilingual-cased\n",
    "OUTPUT_FILE=data/alignment/{}_{}.out\n",
    "\n",
    "CUDA_VISIBLE_DEVICES=0 awesome-align \\\n",
    "    --output_file=$OUTPUT_FILE \\\n",
    "    --model_name_or_path=$MODEL_NAME_OR_PATH \\\n",
    "    --data_file=$DATA_FILE \\\n",
    "    --extraction 'softmax' \\\n",
    "    --batch_size 32 \\\n",
    "\"\"\"\n",
    "\n",
    "\n",
    "for language1, language2 in tqdm(combinations(languages, 2), total=21):\n",
    "    os.system(cmd.format(language1, language2, language1, language2))\n",
    "    os.system(cmd.format(language2, language1, language2, language1))"
   ]
  }
 ],
 "metadata": {
  "kernelspec": {
   "display_name": "Python 3",
   "language": "python",
   "name": "python3"
  },
  "language_info": {
   "codemirror_mode": {
    "name": "ipython",
    "version": 3
   },
   "file_extension": ".py",
   "mimetype": "text/x-python",
   "name": "python",
   "nbconvert_exporter": "python",
   "pygments_lexer": "ipython3",
   "version": "3.8.5"
  }
 },
 "nbformat": 4,
 "nbformat_minor": 4
}
