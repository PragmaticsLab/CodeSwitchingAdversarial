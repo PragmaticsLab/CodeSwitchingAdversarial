{
 "cells": [
  {
   "cell_type": "code",
   "execution_count": 1,
   "metadata": {
    "ExecuteTime": {
     "end_time": "2021-05-07T13:20:46.455514Z",
     "start_time": "2021-05-07T13:20:45.561116Z"
    }
   },
   "outputs": [],
   "source": [
    "import os\n",
    "from itertools import combinations\n",
    "\n",
    "from tqdm import tqdm\n",
    "\n",
    "from dataset import read_atis\n",
    "from utils import load_config"
   ]
  },
  {
   "cell_type": "code",
   "execution_count": 2,
   "metadata": {
    "ExecuteTime": {
     "end_time": "2021-05-07T13:20:47.448322Z",
     "start_time": "2021-05-07T13:20:47.363775Z"
    }
   },
   "outputs": [],
   "source": [
    "subset = 'train'\n",
    "\n",
    "data = read_atis(subset)\n",
    "\n",
    "languages = load_config()['languages']"
   ]
  },
  {
   "cell_type": "code",
   "execution_count": 3,
   "metadata": {
    "ExecuteTime": {
     "end_time": "2021-05-07T13:22:29.479246Z",
     "start_time": "2021-05-07T13:20:52.836026Z"
    }
   },
   "outputs": [
    {
     "name": "stderr",
     "output_type": "stream",
     "text": [
      "100%|██████████| 21/21 [01:36<00:00,  4.60s/it]\n"
     ]
    }
   ],
   "source": [
    "if not os.path.exists(f'data/atis_{subset}_alignment/'):\n",
    "    os.mkdir(f'data/atis_{subset}_alignment/')\n",
    "\n",
    "for language1, language2 in tqdm(combinations(languages, 2), total=len(languages) * (len(languages) - 1) // 2):\n",
    "    with open(f'data/atis_{subset}_alignment/{language1}_{language2}.src', 'w') as fp:\n",
    "        for idx, block in data.groupby('uuid'):\n",
    "            sentence1 = block.loc[block['language'] == language1]['utterance'].values[0]\n",
    "            sentence2 = block.loc[block['language'] == language2]['utterance'].values[0]\n",
    "\n",
    "            print(sentence1, sentence2, sep=' ||| ', file=fp)\n",
    "\n",
    "    language1, language2 = language2, language1\n",
    "\n",
    "    with open(f'data/atis_{subset}_alignment/{language1}_{language2}.src', 'w') as fp:\n",
    "        for idx, block in data.groupby('uuid'):\n",
    "            sentence1 = block.loc[block['language'] == language1]['utterance'].values[0]\n",
    "            sentence2 = block.loc[block['language'] == language2]['utterance'].values[0]\n",
    "\n",
    "            print(sentence1, sentence2, sep=' ||| ', file=fp)"
   ]
  },
  {
   "cell_type": "code",
   "execution_count": 5,
   "metadata": {
    "ExecuteTime": {
     "end_time": "2021-05-07T13:42:39.737012Z",
     "start_time": "2021-05-07T13:30:24.893858Z"
    }
   },
   "outputs": [
    {
     "name": "stderr",
     "output_type": "stream",
     "text": [
      "100%|██████████| 21/21 [12:14<00:00, 34.99s/it]\n"
     ]
    }
   ],
   "source": [
    "cmd = \"\"\"\n",
    "DATA_FILE=data/atis_{}_alignment/{}_{}.src\n",
    "MODEL_NAME_OR_PATH=bert-base-multilingual-cased\n",
    "OUTPUT_FILE=data/atis_{}_alignment/{}_{}.out\n",
    "\n",
    "CUDA_VISIBLE_DEVICES=0 awesome-align \\\n",
    "    --output_file=$OUTPUT_FILE \\\n",
    "    --model_name_or_path=$MODEL_NAME_OR_PATH \\\n",
    "    --data_file=$DATA_FILE \\\n",
    "    --extraction 'softmax' \\\n",
    "    --batch_size 32 \\\n",
    "\"\"\"\n",
    "\n",
    "for language1, language2 in tqdm(combinations(languages, 2), total=len(languages) * (len(languages) - 1) // 2):\n",
    "    os.system(cmd.format(subset, language1, language2, subset, language1, language2))\n",
    "    os.system(cmd.format(subset, language2, language1, subset, language2, language1))"
   ]
  },
  {
   "cell_type": "code",
   "execution_count": null,
   "metadata": {},
   "outputs": [],
   "source": []
  }
 ],
 "metadata": {
  "kernelspec": {
   "display_name": "Python 3",
   "language": "python",
   "name": "python3"
  },
  "language_info": {
   "codemirror_mode": {
    "name": "ipython",
    "version": 3
   },
   "file_extension": ".py",
   "mimetype": "text/x-python",
   "name": "python",
   "nbconvert_exporter": "python",
   "pygments_lexer": "ipython3",
   "version": "3.9.4"
  }
 },
 "nbformat": 4,
 "nbformat_minor": 4
}