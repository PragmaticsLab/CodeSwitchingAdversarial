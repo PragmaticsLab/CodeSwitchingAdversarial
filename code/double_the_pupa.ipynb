{
 "cells": [
  {
   "cell_type": "code",
   "execution_count": 1,
   "metadata": {
    "ExecuteTime": {
     "end_time": "2021-05-01T13:08:51.146139Z",
     "start_time": "2021-05-01T13:08:49.941367Z"
    }
   },
   "outputs": [],
   "source": [
    "import os\n",
    "import pandas as pd\n",
    "\n",
    "from adversarial import Pacifist, AdversarialWordLevel, AdversarialAlignments\n",
    "\n",
    "from utils import load_config\n",
    "\n",
    "config = load_config()"
   ]
  },
  {
   "cell_type": "code",
   "execution_count": 2,
   "metadata": {
    "ExecuteTime": {
     "end_time": "2021-05-01T14:16:18.139022Z",
     "start_time": "2021-05-01T13:08:54.114730Z"
    },
    "scrolled": false
   },
   "outputs": [
    {
     "name": "stderr",
     "output_type": "stream",
     "text": [
      "GENERATING ADVERSARIAL EXAMPLES: 100%|██████████| 893/893 [00:00<00:00, 2819.21it/s]\n",
      "GENERATING ADVERSARIAL EXAMPLES: 100%|██████████| 893/893 [05:50<00:00,  2.55it/s]\n",
      "GENERATING ADVERSARIAL EXAMPLES: 100%|██████████| 893/893 [01:03<00:00, 14.08it/s]\n",
      "GENERATING ADVERSARIAL EXAMPLES: 100%|██████████| 893/893 [01:05<00:00, 13.67it/s]\n",
      "GENERATING ADVERSARIAL EXAMPLES: 100%|██████████| 893/893 [01:02<00:00, 14.29it/s]\n",
      "GENERATING ADVERSARIAL EXAMPLES: 100%|██████████| 893/893 [01:08<00:00, 13.10it/s]\n",
      "GENERATING ADVERSARIAL EXAMPLES: 100%|██████████| 893/893 [01:02<00:00, 14.20it/s]\n",
      "GENERATING ADVERSARIAL EXAMPLES: 100%|██████████| 893/893 [01:05<00:00, 13.57it/s]\n",
      "GENERATING ADVERSARIAL EXAMPLES: 100%|██████████| 893/893 [00:00<00:00, 2792.26it/s]\n",
      "GENERATING ADVERSARIAL EXAMPLES: 100%|██████████| 893/893 [05:55<00:00,  2.51it/s]\n",
      "GENERATING ADVERSARIAL EXAMPLES: 100%|██████████| 893/893 [01:07<00:00, 13.32it/s]\n",
      "GENERATING ADVERSARIAL EXAMPLES: 100%|██████████| 893/893 [01:09<00:00, 12.78it/s]\n",
      "GENERATING ADVERSARIAL EXAMPLES: 100%|██████████| 893/893 [01:09<00:00, 12.91it/s]\n",
      "GENERATING ADVERSARIAL EXAMPLES: 100%|██████████| 893/893 [00:56<00:00, 15.86it/s]\n",
      "GENERATING ADVERSARIAL EXAMPLES: 100%|██████████| 893/893 [01:07<00:00, 13.27it/s]\n",
      "GENERATING ADVERSARIAL EXAMPLES: 100%|██████████| 893/893 [01:04<00:00, 13.87it/s]\n",
      "GENERATING ADVERSARIAL EXAMPLES: 100%|██████████| 893/893 [00:00<00:00, 2623.06it/s]\n",
      "GENERATING ADVERSARIAL EXAMPLES: 100%|██████████| 893/893 [05:09<00:00,  2.89it/s]\n",
      "GENERATING ADVERSARIAL EXAMPLES: 100%|██████████| 893/893 [00:57<00:00, 15.49it/s]\n",
      "GENERATING ADVERSARIAL EXAMPLES: 100%|██████████| 893/893 [00:59<00:00, 14.93it/s]\n",
      "GENERATING ADVERSARIAL EXAMPLES: 100%|██████████| 893/893 [00:59<00:00, 14.97it/s]\n",
      "GENERATING ADVERSARIAL EXAMPLES: 100%|██████████| 893/893 [00:56<00:00, 15.69it/s]\n",
      "GENERATING ADVERSARIAL EXAMPLES: 100%|██████████| 893/893 [00:58<00:00, 15.19it/s]\n",
      "GENERATING ADVERSARIAL EXAMPLES: 100%|██████████| 893/893 [00:54<00:00, 16.28it/s]\n",
      "GENERATING ADVERSARIAL EXAMPLES: 100%|██████████| 893/893 [00:00<00:00, 2684.37it/s]\n",
      "GENERATING ADVERSARIAL EXAMPLES: 100%|██████████| 893/893 [05:57<00:00,  2.50it/s]\n",
      "GENERATING ADVERSARIAL EXAMPLES: 100%|██████████| 893/893 [01:06<00:00, 13.42it/s]\n",
      "GENERATING ADVERSARIAL EXAMPLES: 100%|██████████| 893/893 [01:09<00:00, 12.91it/s]\n",
      "GENERATING ADVERSARIAL EXAMPLES: 100%|██████████| 893/893 [01:10<00:00, 12.65it/s]\n",
      "GENERATING ADVERSARIAL EXAMPLES: 100%|██████████| 893/893 [00:57<00:00, 15.60it/s]\n",
      "GENERATING ADVERSARIAL EXAMPLES: 100%|██████████| 893/893 [01:09<00:00, 12.85it/s]\n",
      "GENERATING ADVERSARIAL EXAMPLES: 100%|██████████| 893/893 [01:02<00:00, 14.21it/s]\n",
      "GENERATING ADVERSARIAL EXAMPLES: 100%|██████████| 893/893 [00:00<00:00, 2512.99it/s]\n"
     ]
    },
    {
     "name": "stdout",
     "output_type": "stream",
     "text": [
      "Downloading data ...\n",
      "Downloading data ...\n",
      "Downloading data ...\n",
      "Downloading data ...\n",
      "Downloading data ...\n",
      "Downloading data ...\n"
     ]
    },
    {
     "name": "stderr",
     "output_type": "stream",
     "text": [
      "GENERATING ADVERSARIAL EXAMPLES: 100%|██████████| 893/893 [06:24<00:00,  2.32it/s]\n",
      "GENERATING ADVERSARIAL EXAMPLES: 100%|██████████| 893/893 [01:08<00:00, 13.09it/s]\n",
      "GENERATING ADVERSARIAL EXAMPLES: 100%|██████████| 893/893 [01:10<00:00, 12.62it/s]\n",
      "GENERATING ADVERSARIAL EXAMPLES: 100%|██████████| 893/893 [01:09<00:00, 12.83it/s]\n",
      "GENERATING ADVERSARIAL EXAMPLES: 100%|██████████| 893/893 [01:11<00:00, 12.56it/s]\n",
      "GENERATING ADVERSARIAL EXAMPLES: 100%|██████████| 893/893 [01:12<00:00, 12.34it/s]\n",
      "GENERATING ADVERSARIAL EXAMPLES: 100%|██████████| 893/893 [01:10<00:00, 12.71it/s]\n",
      "GENERATING ADVERSARIAL EXAMPLES: 100%|██████████| 893/893 [00:00<00:00, 2453.94it/s]\n",
      "GENERATING ADVERSARIAL EXAMPLES:   0%|          | 1/893 [00:01<17:55,  1.21s/it]\n"
     ]
    },
    {
     "ename": "IndexError",
     "evalue": "list index out of range",
     "output_type": "error",
     "traceback": [
      "\u001b[0;31m---------------------------------------------------------------------------\u001b[0m",
      "\u001b[0;31mIndexError\u001b[0m                                Traceback (most recent call last)",
      "\u001b[0;32m<ipython-input-2-233a5e7c74b0>\u001b[0m in \u001b[0;36m<module>\u001b[0;34m\u001b[0m\n\u001b[1;32m     26\u001b[0m     \u001b[0mresults\u001b[0m\u001b[0;34m[\u001b[0m\u001b[0;34m'No attack'\u001b[0m\u001b[0;34m]\u001b[0m \u001b[0;34m=\u001b[0m \u001b[0mPacifist\u001b[0m\u001b[0;34m(\u001b[0m\u001b[0mbase_language\u001b[0m\u001b[0;34m=\u001b[0m\u001b[0mbase_language\u001b[0m\u001b[0;34m)\u001b[0m\u001b[0;34m.\u001b[0m\u001b[0mattack_test\u001b[0m\u001b[0;34m(\u001b[0m\u001b[0;34m)\u001b[0m\u001b[0;34m\u001b[0m\u001b[0;34m\u001b[0m\u001b[0m\n\u001b[1;32m     27\u001b[0m \u001b[0;34m\u001b[0m\u001b[0m\n\u001b[0;32m---> 28\u001b[0;31m     \u001b[0mresults\u001b[0m\u001b[0;34m[\u001b[0m\u001b[0;34m'Alignments [ALL]'\u001b[0m\u001b[0;34m]\u001b[0m \u001b[0;34m=\u001b[0m \u001b[0mAdversarialAlignments\u001b[0m\u001b[0;34m(\u001b[0m\u001b[0mbase_language\u001b[0m\u001b[0;34m=\u001b[0m\u001b[0mbase_language\u001b[0m\u001b[0;34m)\u001b[0m\u001b[0;34m.\u001b[0m\u001b[0mattack_test\u001b[0m\u001b[0;34m(\u001b[0m\u001b[0;34m)\u001b[0m\u001b[0;34m\u001b[0m\u001b[0;34m\u001b[0m\u001b[0m\n\u001b[0m\u001b[1;32m     29\u001b[0m \u001b[0;34m\u001b[0m\u001b[0m\n\u001b[1;32m     30\u001b[0m     \u001b[0;32mfor\u001b[0m \u001b[0mlanguage\u001b[0m \u001b[0;32min\u001b[0m \u001b[0mother_languages\u001b[0m\u001b[0;34m:\u001b[0m\u001b[0;34m\u001b[0m\u001b[0;34m\u001b[0m\u001b[0m\n",
      "\u001b[0;32m~/.local/lib/python3.8/site-packages/torch/autograd/grad_mode.py\u001b[0m in \u001b[0;36mdecorate_context\u001b[0;34m(*args, **kwargs)\u001b[0m\n\u001b[1;32m     25\u001b[0m         \u001b[0;32mdef\u001b[0m \u001b[0mdecorate_context\u001b[0m\u001b[0;34m(\u001b[0m\u001b[0;34m*\u001b[0m\u001b[0margs\u001b[0m\u001b[0;34m,\u001b[0m \u001b[0;34m**\u001b[0m\u001b[0mkwargs\u001b[0m\u001b[0;34m)\u001b[0m\u001b[0;34m:\u001b[0m\u001b[0;34m\u001b[0m\u001b[0;34m\u001b[0m\u001b[0m\n\u001b[1;32m     26\u001b[0m             \u001b[0;32mwith\u001b[0m \u001b[0mself\u001b[0m\u001b[0;34m.\u001b[0m\u001b[0m__class__\u001b[0m\u001b[0;34m(\u001b[0m\u001b[0;34m)\u001b[0m\u001b[0;34m:\u001b[0m\u001b[0;34m\u001b[0m\u001b[0;34m\u001b[0m\u001b[0m\n\u001b[0;32m---> 27\u001b[0;31m                 \u001b[0;32mreturn\u001b[0m \u001b[0mfunc\u001b[0m\u001b[0;34m(\u001b[0m\u001b[0;34m*\u001b[0m\u001b[0margs\u001b[0m\u001b[0;34m,\u001b[0m \u001b[0;34m**\u001b[0m\u001b[0mkwargs\u001b[0m\u001b[0;34m)\u001b[0m\u001b[0;34m\u001b[0m\u001b[0;34m\u001b[0m\u001b[0m\n\u001b[0m\u001b[1;32m     28\u001b[0m         \u001b[0;32mreturn\u001b[0m \u001b[0mcast\u001b[0m\u001b[0;34m(\u001b[0m\u001b[0mF\u001b[0m\u001b[0;34m,\u001b[0m \u001b[0mdecorate_context\u001b[0m\u001b[0;34m)\u001b[0m\u001b[0;34m\u001b[0m\u001b[0;34m\u001b[0m\u001b[0m\n\u001b[1;32m     29\u001b[0m \u001b[0;34m\u001b[0m\u001b[0m\n",
      "\u001b[0;32m~/diploma/code/adversarial.py\u001b[0m in \u001b[0;36mattack_test\u001b[0;34m(self)\u001b[0m\n\u001b[1;32m    295\u001b[0m                 tokens, slot_labels = tokenize_and_preserve_labels(\n\u001b[1;32m    296\u001b[0m                     \u001b[0mself\u001b[0m\u001b[0;34m.\u001b[0m\u001b[0mmodel\u001b[0m\u001b[0;34m.\u001b[0m\u001b[0mtokenizer\u001b[0m\u001b[0;34m,\u001b[0m\u001b[0;34m\u001b[0m\u001b[0;34m\u001b[0m\u001b[0m\n\u001b[0;32m--> 297\u001b[0;31m                     \u001b[0;34m' '\u001b[0m\u001b[0;34m.\u001b[0m\u001b[0mjoin\u001b[0m\u001b[0;34m(\u001b[0m\u001b[0mself\u001b[0m\u001b[0;34m.\u001b[0m\u001b[0mattack\u001b[0m\u001b[0;34m(\u001b[0m\u001b[0mx\u001b[0m\u001b[0;34m,\u001b[0m \u001b[0my_slots\u001b[0m\u001b[0;34m,\u001b[0m \u001b[0my_intent\u001b[0m\u001b[0;34m,\u001b[0m \u001b[0malignments\u001b[0m\u001b[0;34m)\u001b[0m\u001b[0;34m)\u001b[0m\u001b[0;34m,\u001b[0m\u001b[0;34m\u001b[0m\u001b[0;34m\u001b[0m\u001b[0m\n\u001b[0m\u001b[1;32m    298\u001b[0m                     \u001b[0my_slots\u001b[0m\u001b[0;34m,\u001b[0m\u001b[0;34m\u001b[0m\u001b[0;34m\u001b[0m\u001b[0m\n\u001b[1;32m    299\u001b[0m                     \u001b[0mself\u001b[0m\u001b[0;34m.\u001b[0m\u001b[0mslot2idx\u001b[0m\u001b[0;34m\u001b[0m\u001b[0;34m\u001b[0m\u001b[0m\n",
      "\u001b[0;32m~/diploma/code/adversarial.py\u001b[0m in \u001b[0;36mattack\u001b[0;34m(self, x, y_slots, y_intent, alignments)\u001b[0m\n\u001b[1;32m    243\u001b[0m \u001b[0;34m\u001b[0m\u001b[0m\n\u001b[1;32m    244\u001b[0m         \u001b[0;32mfor\u001b[0m \u001b[0mpos\u001b[0m \u001b[0;32min\u001b[0m \u001b[0mself\u001b[0m\u001b[0;34m.\u001b[0m\u001b[0mrng\u001b[0m\u001b[0;34m.\u001b[0m\u001b[0mpermutation\u001b[0m\u001b[0;34m(\u001b[0m\u001b[0mlen\u001b[0m\u001b[0;34m(\u001b[0m\u001b[0mx\u001b[0m\u001b[0;34m)\u001b[0m\u001b[0;34m)\u001b[0m\u001b[0;34m:\u001b[0m\u001b[0;34m\u001b[0m\u001b[0;34m\u001b[0m\u001b[0m\n\u001b[0;32m--> 245\u001b[0;31m             \u001b[0mcandidates\u001b[0m\u001b[0;34m,\u001b[0m \u001b[0mlosses\u001b[0m \u001b[0;34m=\u001b[0m \u001b[0mself\u001b[0m\u001b[0;34m.\u001b[0m\u001b[0mget_candidates\u001b[0m\u001b[0;34m(\u001b[0m\u001b[0mx\u001b[0m\u001b[0;34m,\u001b[0m \u001b[0my_slots\u001b[0m\u001b[0;34m,\u001b[0m \u001b[0my_intent\u001b[0m\u001b[0;34m,\u001b[0m \u001b[0mpos\u001b[0m\u001b[0;34m,\u001b[0m \u001b[0malignments\u001b[0m\u001b[0;34m)\u001b[0m\u001b[0;34m\u001b[0m\u001b[0;34m\u001b[0m\u001b[0m\n\u001b[0m\u001b[1;32m    246\u001b[0m \u001b[0;34m\u001b[0m\u001b[0m\n\u001b[1;32m    247\u001b[0m             \u001b[0;32mif\u001b[0m \u001b[0mcandidates\u001b[0m \u001b[0;32mand\u001b[0m \u001b[0mcurrent_loss\u001b[0m \u001b[0;34m<\u001b[0m \u001b[0mnp\u001b[0m\u001b[0;34m.\u001b[0m\u001b[0mmax\u001b[0m\u001b[0;34m(\u001b[0m\u001b[0mlosses\u001b[0m\u001b[0;34m)\u001b[0m\u001b[0;34m:\u001b[0m\u001b[0;34m\u001b[0m\u001b[0;34m\u001b[0m\u001b[0m\n",
      "\u001b[0;32m~/diploma/code/adversarial.py\u001b[0m in \u001b[0;36mget_candidates\u001b[0;34m(self, x, y_slots, y_intent, pos, alignments)\u001b[0m\n\u001b[1;32m    262\u001b[0m \u001b[0;34m\u001b[0m\u001b[0m\n\u001b[1;32m    263\u001b[0m                 \u001b[0;32mif\u001b[0m \u001b[0mlen\u001b[0m\u001b[0;34m(\u001b[0m\u001b[0mtokens\u001b[0m\u001b[0;34m)\u001b[0m \u001b[0;34m>\u001b[0m \u001b[0;36m1\u001b[0m\u001b[0;34m:\u001b[0m\u001b[0;34m\u001b[0m\u001b[0;34m\u001b[0m\u001b[0m\n\u001b[0;32m--> 264\u001b[0;31m                     \u001b[0;32mif\u001b[0m \u001b[0my_slots\u001b[0m\u001b[0;34m[\u001b[0m\u001b[0mpos\u001b[0m\u001b[0;34m]\u001b[0m\u001b[0;34m.\u001b[0m\u001b[0mstartswith\u001b[0m\u001b[0;34m(\u001b[0m\u001b[0;34m'B'\u001b[0m\u001b[0;34m)\u001b[0m\u001b[0;34m:\u001b[0m\u001b[0;34m\u001b[0m\u001b[0;34m\u001b[0m\u001b[0m\n\u001b[0m\u001b[1;32m    265\u001b[0m                         \u001b[0mnew_slot_label\u001b[0m \u001b[0;34m=\u001b[0m \u001b[0;34m'I'\u001b[0m \u001b[0;34m+\u001b[0m \u001b[0my_slots\u001b[0m\u001b[0;34m[\u001b[0m\u001b[0mpos\u001b[0m\u001b[0;34m]\u001b[0m\u001b[0;34m[\u001b[0m\u001b[0;36m1\u001b[0m\u001b[0;34m:\u001b[0m\u001b[0;34m]\u001b[0m\u001b[0;34m\u001b[0m\u001b[0;34m\u001b[0m\u001b[0m\n\u001b[1;32m    266\u001b[0m                         \u001b[0my_slots_c\u001b[0m\u001b[0;34m[\u001b[0m\u001b[0mpos\u001b[0m\u001b[0;34m]\u001b[0m \u001b[0;34m=\u001b[0m \u001b[0my_slots\u001b[0m\u001b[0;34m[\u001b[0m\u001b[0mpos\u001b[0m\u001b[0;34m]\u001b[0m \u001b[0;34m+\u001b[0m \u001b[0;34m' '\u001b[0m\u001b[0;34m.\u001b[0m\u001b[0mjoin\u001b[0m\u001b[0;34m(\u001b[0m\u001b[0mnew_slot_label\u001b[0m \u001b[0;32mfor\u001b[0m \u001b[0m_\u001b[0m \u001b[0;32min\u001b[0m \u001b[0mrange\u001b[0m\u001b[0;34m(\u001b[0m\u001b[0mlen\u001b[0m\u001b[0;34m(\u001b[0m\u001b[0mtokens\u001b[0m\u001b[0;34m)\u001b[0m \u001b[0;34m-\u001b[0m \u001b[0;36m1\u001b[0m\u001b[0;34m)\u001b[0m\u001b[0;34m)\u001b[0m\u001b[0;34m\u001b[0m\u001b[0;34m\u001b[0m\u001b[0m\n",
      "\u001b[0;31mIndexError\u001b[0m: list index out of range"
     ]
    }
   ],
   "source": [
    "for base_language in config['languages']:\n",
    "    base_path = f'results/{base_language}/'\n",
    "\n",
    "    if not os.path.exists(base_path):\n",
    "        os.mkdir(base_path)\n",
    "\n",
    "    other_languages = list(config['languages'])\n",
    "    other_languages.remove(base_language)\n",
    "\n",
    "    # WORD LEVEL\n",
    "\n",
    "    results = {}\n",
    "\n",
    "    results['No attack'] = Pacifist(base_language=base_language).attack_test()\n",
    "    results['Word level [ALL]'] = AdversarialWordLevel(base_language=base_language).attack_test()\n",
    "\n",
    "    for language in other_languages:\n",
    "        results[f'Word level [{language}]'] = AdversarialWordLevel(base_language=base_language, languages=[language]).attack_test()\n",
    "\n",
    "    pd.DataFrame.from_dict(results).to_csv(base_path + f'word_level_{config[\"model_name\"]}.csv')\n",
    "\n",
    "    # ALIGNMENTS\n",
    "\n",
    "    results = {}\n",
    "\n",
    "    results['No attack'] = Pacifist(base_language=base_language).attack_test()\n",
    "\n",
    "    results['Alignments [ALL]'] = AdversarialAlignments(base_language=base_language).attack_test()\n",
    "\n",
    "    for language in other_languages:\n",
    "        results[f'Alignments [{language}]'] = AdversarialAlignments(base_language=base_language, languages=[language]).attack_test()\n",
    "\n",
    "    pd.DataFrame.from_dict(results).to_csv(base_path + f'alignments_{config[\"model_name\"]}.csv')"
   ]
  },
  {
   "cell_type": "code",
   "execution_count": 1,
   "metadata": {
    "ExecuteTime": {
     "end_time": "2021-05-01T16:23:22.672801Z",
     "start_time": "2021-05-01T16:23:21.627657Z"
    }
   },
   "outputs": [],
   "source": [
    "from dataset import read_atis\n",
    "\n",
    "test = read_atis('test')"
   ]
  },
  {
   "cell_type": "code",
   "execution_count": 2,
   "metadata": {
    "ExecuteTime": {
     "end_time": "2021-05-01T16:23:23.693914Z",
     "start_time": "2021-05-01T16:23:23.678427Z"
    }
   },
   "outputs": [],
   "source": [
    "test['len1'] = test['utterance'].str.split().apply(len)\n",
    "test['len2'] = test['slot_labels'].str.split().apply(len)"
   ]
  },
  {
   "cell_type": "code",
   "execution_count": 3,
   "metadata": {
    "ExecuteTime": {
     "end_time": "2021-05-01T16:23:24.657735Z",
     "start_time": "2021-05-01T16:23:24.650858Z"
    }
   },
   "outputs": [
    {
     "data": {
      "text/plain": [
       "'which flights are leaving from kansas city to atlanta early monday morning'"
      ]
     },
     "execution_count": 3,
     "metadata": {},
     "output_type": "execute_result"
    }
   ],
   "source": [
    "test.loc[test['uuid'] == 217].iloc[0]['utterance']"
   ]
  },
  {
   "cell_type": "code",
   "execution_count": 4,
   "metadata": {
    "ExecuteTime": {
     "end_time": "2021-05-01T16:23:26.543332Z",
     "start_time": "2021-05-01T16:23:26.540205Z"
    }
   },
   "outputs": [
    {
     "data": {
      "text/plain": [
       "'O O O O O B-fromloc.city_name I-fromloc.city_name O B-toloc.city_name B-depart_time.period_mod B-depart_date.day_name B-depart_time.period_of_day'"
      ]
     },
     "execution_count": 4,
     "metadata": {},
     "output_type": "execute_result"
    }
   ],
   "source": [
    "test.loc[test['uuid'] == 217].iloc[0]['slot_labels']"
   ]
  },
  {
   "cell_type": "code",
   "execution_count": 5,
   "metadata": {
    "ExecuteTime": {
     "end_time": "2021-05-01T16:23:27.448946Z",
     "start_time": "2021-05-01T16:23:27.446055Z"
    }
   },
   "outputs": [
    {
     "data": {
      "text/plain": [
       "'Welche Flüge gehen am frühen Montagmorgen von Kansas City nach Atlanta'"
      ]
     },
     "execution_count": 5,
     "metadata": {},
     "output_type": "execute_result"
    }
   ],
   "source": [
    "test.loc[test['uuid'] == 217].iloc[1]['utterance']"
   ]
  },
  {
   "cell_type": "code",
   "execution_count": 6,
   "metadata": {
    "ExecuteTime": {
     "end_time": "2021-05-01T16:23:27.962882Z",
     "start_time": "2021-05-01T16:23:27.959975Z"
    }
   },
   "outputs": [
    {
     "data": {
      "text/plain": [
       "'O O O O B-depart_time.period_mod B-depart_date.day_name O B-fromloc.city_name I-fromloc.city_name O B-toloc.city_name'"
      ]
     },
     "execution_count": 6,
     "metadata": {},
     "output_type": "execute_result"
    }
   ],
   "source": [
    "test.loc[test['uuid'] == 217].iloc[1]['slot_labels']"
   ]
  },
  {
   "cell_type": "code",
   "execution_count": 7,
   "metadata": {
    "ExecuteTime": {
     "end_time": "2021-05-01T16:23:33.670010Z",
     "start_time": "2021-05-01T16:23:33.659502Z"
    }
   },
   "outputs": [
    {
     "data": {
      "text/html": [
       "<div>\n",
       "<style scoped>\n",
       "    .dataframe tbody tr th:only-of-type {\n",
       "        vertical-align: middle;\n",
       "    }\n",
       "\n",
       "    .dataframe tbody tr th {\n",
       "        vertical-align: top;\n",
       "    }\n",
       "\n",
       "    .dataframe thead th {\n",
       "        text-align: right;\n",
       "    }\n",
       "</style>\n",
       "<table border=\"1\" class=\"dataframe\">\n",
       "  <thead>\n",
       "    <tr style=\"text-align: right;\">\n",
       "      <th></th>\n",
       "      <th>utterance</th>\n",
       "      <th>slot_labels</th>\n",
       "      <th>intent</th>\n",
       "      <th>language</th>\n",
       "      <th>uuid</th>\n",
       "      <th>len1</th>\n",
       "      <th>len2</th>\n",
       "    </tr>\n",
       "  </thead>\n",
       "  <tbody>\n",
       "    <tr>\n",
       "      <th>1787</th>\n",
       "      <td>el primero de abril necesito un pasaje de taco...</td>\n",
       "      <td>O B-depart_date.day_number O B-depart_date.mon...</td>\n",
       "      <td>atis_airfare</td>\n",
       "      <td>es</td>\n",
       "      <td>1</td>\n",
       "      <td>20</td>\n",
       "      <td>18</td>\n",
       "    </tr>\n",
       "    <tr>\n",
       "      <th>1793</th>\n",
       "      <td>el miércoles seis de abril me gustaría volar d...</td>\n",
       "      <td>O B-depart_date.day_name B-depart_date.day_num...</td>\n",
       "      <td>atis_flight</td>\n",
       "      <td>es</td>\n",
       "      <td>7</td>\n",
       "      <td>19</td>\n",
       "      <td>17</td>\n",
       "    </tr>\n",
       "    <tr>\n",
       "      <th>1794</th>\n",
       "      <td>el miércoles seis de abril , me gustaría volar...</td>\n",
       "      <td>O B-depart_date.day_name B-depart_date.day_num...</td>\n",
       "      <td>atis_flight</td>\n",
       "      <td>es</td>\n",
       "      <td>8</td>\n",
       "      <td>20</td>\n",
       "      <td>18</td>\n",
       "    </tr>\n",
       "    <tr>\n",
       "      <th>1797</th>\n",
       "      <td>el próximo miércoles , el vuelo de kansas city...</td>\n",
       "      <td>O B-depart_date.date_relative B-depart_date.da...</td>\n",
       "      <td>atis_flight</td>\n",
       "      <td>es</td>\n",
       "      <td>11</td>\n",
       "      <td>29</td>\n",
       "      <td>27</td>\n",
       "    </tr>\n",
       "    <tr>\n",
       "      <th>1798</th>\n",
       "      <td>muéstrame el vuelo y los precios de kansas cit...</td>\n",
       "      <td>O O O O O O O B-fromloc.city_name I-fromloc.ci...</td>\n",
       "      <td>atis_flight#atis_airfare</td>\n",
       "      <td>es</td>\n",
       "      <td>12</td>\n",
       "      <td>25</td>\n",
       "      <td>23</td>\n",
       "    </tr>\n",
       "    <tr>\n",
       "      <th>...</th>\n",
       "      <td>...</td>\n",
       "      <td>...</td>\n",
       "      <td>...</td>\n",
       "      <td>...</td>\n",
       "      <td>...</td>\n",
       "      <td>...</td>\n",
       "      <td>...</td>\n",
       "    </tr>\n",
       "    <tr>\n",
       "      <th>4059</th>\n",
       "      <td>水曜日 の 午後 5 時 以降 にクリーブランド から ミルウォーキー に戻るフライトの飛行...</td>\n",
       "      <td>B-fromloc.city_name I-fromloc.city_name O B-de...</td>\n",
       "      <td>atis_flight</td>\n",
       "      <td>ja</td>\n",
       "      <td>487</td>\n",
       "      <td>10</td>\n",
       "      <td>12</td>\n",
       "    </tr>\n",
       "    <tr>\n",
       "      <th>4060</th>\n",
       "      <td>水曜日 の 午後 5 時 以降 に出発する、クリーブランド 発 ミルウォーキー 行きのフライ...</td>\n",
       "      <td>B-fromloc.city_name I-fromloc.city_name O B-de...</td>\n",
       "      <td>atis_flight</td>\n",
       "      <td>ja</td>\n",
       "      <td>488</td>\n",
       "      <td>10</td>\n",
       "      <td>12</td>\n",
       "    </tr>\n",
       "    <tr>\n",
       "      <th>4061</th>\n",
       "      <td>水曜日 の 午後 5 時 以降 に出発する、クリーブランド 発 ミルウォーキー 行きのフライ...</td>\n",
       "      <td>B-fromloc.city_name I-fromloc.city_name O B-de...</td>\n",
       "      <td>atis_flight</td>\n",
       "      <td>ja</td>\n",
       "      <td>489</td>\n",
       "      <td>10</td>\n",
       "      <td>12</td>\n",
       "    </tr>\n",
       "    <tr>\n",
       "      <th>4238</th>\n",
       "      <td>水曜日 夕方の フェニックス から ミルウォーキー までのフライトを教えて</td>\n",
       "      <td>B-depart_date.day_name B-depart_time.period_of...</td>\n",
       "      <td>atis_flight</td>\n",
       "      <td>ja</td>\n",
       "      <td>666</td>\n",
       "      <td>6</td>\n",
       "      <td>8</td>\n",
       "    </tr>\n",
       "    <tr>\n",
       "      <th>4949</th>\n",
       "      <td>há transporte terrestre disponível no Aeroport...</td>\n",
       "      <td>O O O O O B-airport_name I-airport_name I-airp...</td>\n",
       "      <td>atis_ground_service</td>\n",
       "      <td>pt</td>\n",
       "      <td>484</td>\n",
       "      <td>9</td>\n",
       "      <td>8</td>\n",
       "    </tr>\n",
       "  </tbody>\n",
       "</table>\n",
       "<p>190 rows × 7 columns</p>\n",
       "</div>"
      ],
      "text/plain": [
       "                                              utterance  \\\n",
       "1787  el primero de abril necesito un pasaje de taco...   \n",
       "1793  el miércoles seis de abril me gustaría volar d...   \n",
       "1794  el miércoles seis de abril , me gustaría volar...   \n",
       "1797  el próximo miércoles , el vuelo de kansas city...   \n",
       "1798  muéstrame el vuelo y los precios de kansas cit...   \n",
       "...                                                 ...   \n",
       "4059  水曜日 の 午後 5 時 以降 にクリーブランド から ミルウォーキー に戻るフライトの飛行...   \n",
       "4060  水曜日 の 午後 5 時 以降 に出発する、クリーブランド 発 ミルウォーキー 行きのフライ...   \n",
       "4061  水曜日 の 午後 5 時 以降 に出発する、クリーブランド 発 ミルウォーキー 行きのフライ...   \n",
       "4238              水曜日 夕方の フェニックス から ミルウォーキー までのフライトを教えて   \n",
       "4949  há transporte terrestre disponível no Aeroport...   \n",
       "\n",
       "                                            slot_labels  \\\n",
       "1787  O B-depart_date.day_number O B-depart_date.mon...   \n",
       "1793  O B-depart_date.day_name B-depart_date.day_num...   \n",
       "1794  O B-depart_date.day_name B-depart_date.day_num...   \n",
       "1797  O B-depart_date.date_relative B-depart_date.da...   \n",
       "1798  O O O O O O O B-fromloc.city_name I-fromloc.ci...   \n",
       "...                                                 ...   \n",
       "4059  B-fromloc.city_name I-fromloc.city_name O B-de...   \n",
       "4060  B-fromloc.city_name I-fromloc.city_name O B-de...   \n",
       "4061  B-fromloc.city_name I-fromloc.city_name O B-de...   \n",
       "4238  B-depart_date.day_name B-depart_time.period_of...   \n",
       "4949  O O O O O B-airport_name I-airport_name I-airp...   \n",
       "\n",
       "                        intent language  uuid  len1  len2  \n",
       "1787              atis_airfare       es     1    20    18  \n",
       "1793               atis_flight       es     7    19    17  \n",
       "1794               atis_flight       es     8    20    18  \n",
       "1797               atis_flight       es    11    29    27  \n",
       "1798  atis_flight#atis_airfare       es    12    25    23  \n",
       "...                        ...      ...   ...   ...   ...  \n",
       "4059               atis_flight       ja   487    10    12  \n",
       "4060               atis_flight       ja   488    10    12  \n",
       "4061               atis_flight       ja   489    10    12  \n",
       "4238               atis_flight       ja   666     6     8  \n",
       "4949       atis_ground_service       pt   484     9     8  \n",
       "\n",
       "[190 rows x 7 columns]"
      ]
     },
     "execution_count": 7,
     "metadata": {},
     "output_type": "execute_result"
    }
   ],
   "source": [
    "test.loc[test['len1'] != test['len2']]"
   ]
  },
  {
   "cell_type": "code",
   "execution_count": null,
   "metadata": {},
   "outputs": [],
   "source": []
  }
 ],
 "metadata": {
  "kernelspec": {
   "display_name": "diploma",
   "language": "python",
   "name": "diploma"
  },
  "language_info": {
   "codemirror_mode": {
    "name": "ipython",
    "version": 3
   },
   "file_extension": ".py",
   "mimetype": "text/x-python",
   "name": "python",
   "nbconvert_exporter": "python",
   "pygments_lexer": "ipython3",
   "version": "3.8.5"
  }
 },
 "nbformat": 4,
 "nbformat_minor": 4
}
