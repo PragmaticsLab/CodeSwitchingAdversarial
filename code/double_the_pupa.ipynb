{
 "cells": [
  {
   "cell_type": "code",
   "execution_count": null,
   "metadata": {},
   "outputs": [],
   "source": [
    "import os\n",
    "import pandas as pd\n",
    "\n",
    "from adversarial import Pacifist, AdversarialWordLevel, AdversarialAlignments\n",
    "\n",
    "from utils import load_config\n",
    "\n",
    "config = load_config()"
   ]
  },
  {
   "cell_type": "code",
   "execution_count": null,
   "metadata": {
    "scrolled": false
   },
   "outputs": [],
   "source": [
    "for base_language in config['languages']:\n",
    "    base_path = f'results/{base_language}/'\n",
    "\n",
    "    if not os.path.exists(base_path):\n",
    "        os.mkdir(base_path)\n",
    "\n",
    "    other_languages = list(config['languages'])\n",
    "    other_languages.remove(base_language)\n",
    "\n",
    "    # WORD LEVEL\n",
    "\n",
    "    results = {}\n",
    "\n",
    "    results['No attack'] = Pacifist(base_language=base_language).attack_test()\n",
    "    results['Word level [ALL]'] = AdversarialWordLevel(base_language=base_language).attack_test()\n",
    "\n",
    "    for language in other_languages:\n",
    "        results[f'Word level [{language}]'] = AdversarialWordLevel(base_language=base_language, languages=[language]).attack_test()\n",
    "\n",
    "    pd.DataFrame.from_dict(results).to_csv(base_path + f'word_level_{config[\"model_name\"]}.csv')\n",
    "\n",
    "    # ALIGNMENTS\n",
    "\n",
    "    results = {}\n",
    "\n",
    "    results['No attack'] = Pacifist(base_language=base_language).attack_test()\n",
    "\n",
    "    results['Alignments [ALL]'] = AdversarialAlignments(base_language=base_language).attack_test()\n",
    "\n",
    "    for language in other_languages:\n",
    "        results[f'Alignments [{language}]'] = AdversarialAlignments(base_language=base_language, languages=[language]).attack_test()\n",
    "\n",
    "    pd.DataFrame.from_dict(results).to_csv(base_path + f'alignments_{config[\"model_name\"]}.csv')"
   ]
  }
 ],
 "metadata": {
  "kernelspec": {
   "display_name": "diploma",
   "language": "python",
   "name": "diploma"
  },
  "language_info": {
   "codemirror_mode": {
    "name": "ipython",
    "version": 3
   },
   "file_extension": ".py",
   "mimetype": "text/x-python",
   "name": "python",
   "nbconvert_exporter": "python",
   "pygments_lexer": "ipython3",
   "version": "3.8.5"
  }
 },
 "nbformat": 4,
 "nbformat_minor": 4
}
