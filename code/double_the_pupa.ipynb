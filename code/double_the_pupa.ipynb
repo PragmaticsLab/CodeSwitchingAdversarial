{
 "cells": [
  {
   "cell_type": "code",
   "execution_count": 1,
   "metadata": {
    "ExecuteTime": {
     "end_time": "2021-05-06T11:28:14.558350Z",
     "start_time": "2021-05-06T11:28:13.344954Z"
    }
   },
   "outputs": [],
   "source": [
    "import os\n",
    "import pandas as pd\n",
    "\n",
    "from adversarial import Pacifist, AdversarialWordLevel, AdversarialAlignments\n",
    "\n",
    "from utils import load_config\n",
    "\n",
    "config = load_config()"
   ]
  },
  {
   "cell_type": "code",
   "execution_count": 2,
   "metadata": {
    "ExecuteTime": {
     "end_time": "2021-05-06T11:50:02.528102Z",
     "start_time": "2021-05-06T11:28:14.559491Z"
    },
    "scrolled": false
   },
   "outputs": [
    {
     "name": "stderr",
     "output_type": "stream",
     "text": [
      "GENERATING ADVERSARIAL EXAMPLES: 100%|██████████| 755/755 [00:05<00:00, 128.47it/s]\n",
      "GENERATING ADVERSARIAL EXAMPLES: 100%|██████████| 755/755 [04:30<00:00,  2.79it/s]\n",
      "GENERATING ADVERSARIAL EXAMPLES: 100%|██████████| 755/755 [00:48<00:00, 15.43it/s]\n",
      "GENERATING ADVERSARIAL EXAMPLES: 100%|██████████| 755/755 [04:37<00:00,  2.72it/s]\n",
      "GENERATING ADVERSARIAL EXAMPLES: 100%|██████████| 755/755 [00:52<00:00, 14.48it/s]\n",
      "GENERATING ADVERSARIAL EXAMPLES: 100%|██████████| 755/755 [00:05<00:00, 133.76it/s]\n",
      "GENERATING ADVERSARIAL EXAMPLES: 100%|██████████| 755/755 [03:50<00:00,  3.28it/s]\n",
      "GENERATING ADVERSARIAL EXAMPLES: 100%|██████████| 755/755 [00:44<00:00, 17.15it/s]\n",
      "GENERATING ADVERSARIAL EXAMPLES: 100%|██████████| 755/755 [04:36<00:00,  2.73it/s]\n",
      "GENERATING ADVERSARIAL EXAMPLES: 100%|██████████| 755/755 [00:51<00:00, 14.58it/s]\n"
     ]
    }
   ],
   "source": [
    "# languages = config['languages']\n",
    "languages = ['en', 'de']\n",
    "\n",
    "for base_language in languages:\n",
    "    base_path = f'results/{base_language}/'\n",
    "\n",
    "    if not os.path.exists(base_path):\n",
    "        os.mkdir(base_path)\n",
    "\n",
    "    other_languages = list(languages)\n",
    "    other_languages.remove(base_language)\n",
    "    \n",
    "    results = {}\n",
    "    results['No attack'] = Pacifist(base_language=base_language).attack_dataset()\n",
    "\n",
    "    # WORD LEVEL\n",
    "\n",
    "    results['Word level [ALL]'] = AdversarialWordLevel(base_language=base_language).attack_dataset()\n",
    "\n",
    "    for language in other_languages:\n",
    "        results[f'Word level [{language}]'] = AdversarialWordLevel(base_language=base_language, languages=[language]).attack_dataset()\n",
    "\n",
    "    # ALIGNMENTS\n",
    "\n",
    "    results['Alignments [ALL]'] = AdversarialAlignments(base_language=base_language).attack_dataset()\n",
    "\n",
    "    for language in other_languages:\n",
    "        results[f'Alignments [{language}]'] = AdversarialAlignments(base_language=base_language, languages=[language]).attack_dataset()\n",
    "\n",
    "    pd.DataFrame.from_dict(results).transpose().to_csv(base_path + f'adv_prtr_{config[\"model_name\"]}.csv')"
   ]
  },
  {
   "cell_type": "code",
   "execution_count": null,
   "metadata": {},
   "outputs": [],
   "source": []
  }
 ],
 "metadata": {
  "kernelspec": {
   "display_name": "diploma",
   "language": "python",
   "name": "diploma"
  },
  "language_info": {
   "codemirror_mode": {
    "name": "ipython",
    "version": 3
   },
   "file_extension": ".py",
   "mimetype": "text/x-python",
   "name": "python",
   "nbconvert_exporter": "python",
   "pygments_lexer": "ipython3",
   "version": "3.8.5"
  }
 },
 "nbformat": 4,
 "nbformat_minor": 4
}
