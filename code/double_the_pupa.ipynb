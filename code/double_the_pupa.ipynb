{
 "cells": [
  {
   "cell_type": "code",
   "execution_count": 1,
   "metadata": {
    "ExecuteTime": {
     "end_time": "2021-05-01T09:22:40.416473Z",
     "start_time": "2021-05-01T09:22:39.206810Z"
    }
   },
   "outputs": [],
   "source": [
    "import pandas as pd\n",
    "\n",
    "from adversarial import Pacifist, AdversarialWordLevel, AdversarialAlignments\n",
    "\n",
    "from utils import load_config\n",
    "\n",
    "config = load_config()"
   ]
  },
  {
   "cell_type": "code",
   "execution_count": 2,
   "metadata": {
    "ExecuteTime": {
     "end_time": "2021-04-27T16:48:22.567132Z",
     "start_time": "2021-04-27T16:35:55.390178Z"
    }
   },
   "outputs": [
    {
     "name": "stderr",
     "output_type": "stream",
     "text": [
      "GENERATING ADVERSARIAL EXAMPLES: 100%|██████████| 893/893 [00:00<00:00, 2802.30it/s]\n",
      "GENERATING ADVERSARIAL EXAMPLES: 100%|██████████| 893/893 [05:40<00:00,  2.62it/s]\n",
      "GENERATING ADVERSARIAL EXAMPLES: 100%|██████████| 893/893 [01:01<00:00, 14.60it/s]\n",
      "GENERATING ADVERSARIAL EXAMPLES: 100%|██████████| 893/893 [01:02<00:00, 14.23it/s]\n",
      "GENERATING ADVERSARIAL EXAMPLES: 100%|██████████| 893/893 [00:59<00:00, 14.92it/s]\n",
      "GENERATING ADVERSARIAL EXAMPLES: 100%|██████████| 893/893 [01:05<00:00, 13.70it/s]\n",
      "GENERATING ADVERSARIAL EXAMPLES: 100%|██████████| 893/893 [00:59<00:00, 14.91it/s]\n",
      "GENERATING ADVERSARIAL EXAMPLES: 100%|██████████| 893/893 [01:02<00:00, 14.23it/s]\n"
     ]
    }
   ],
   "source": [
    "results = {}\n",
    "\n",
    "results['No attack'] = Pacifist().attack_test()\n",
    "results['Word level [ALL]'] = AdversarialWordLevel().attack_test()\n",
    "\n",
    "for language in config['languages'][1:]:\n",
    "    results[f'Word level [{language}]'] = AdversarialWordLevel(languages=[language]).attack_test()"
   ]
  },
  {
   "cell_type": "code",
   "execution_count": 3,
   "metadata": {
    "ExecuteTime": {
     "end_time": "2021-04-27T16:48:22.578103Z",
     "start_time": "2021-04-27T16:48:22.568050Z"
    }
   },
   "outputs": [
    {
     "data": {
      "text/html": [
       "<div>\n",
       "<style scoped>\n",
       "    .dataframe tbody tr th:only-of-type {\n",
       "        vertical-align: middle;\n",
       "    }\n",
       "\n",
       "    .dataframe tbody tr th {\n",
       "        vertical-align: top;\n",
       "    }\n",
       "\n",
       "    .dataframe thead th {\n",
       "        text-align: right;\n",
       "    }\n",
       "</style>\n",
       "<table border=\"1\" class=\"dataframe\">\n",
       "  <thead>\n",
       "    <tr style=\"text-align: right;\">\n",
       "      <th></th>\n",
       "      <th>No attack</th>\n",
       "      <th>Word level [ALL]</th>\n",
       "      <th>Word level [de]</th>\n",
       "      <th>Word level [es]</th>\n",
       "      <th>Word level [fr]</th>\n",
       "      <th>Word level [ja]</th>\n",
       "      <th>Word level [pt]</th>\n",
       "      <th>Word level [zh_cn]</th>\n",
       "    </tr>\n",
       "  </thead>\n",
       "  <tbody>\n",
       "    <tr>\n",
       "      <th>intent_acc</th>\n",
       "      <td>0.964166</td>\n",
       "      <td>0.255319</td>\n",
       "      <td>0.684211</td>\n",
       "      <td>0.731243</td>\n",
       "      <td>0.727884</td>\n",
       "      <td>0.632699</td>\n",
       "      <td>0.750280</td>\n",
       "      <td>0.651736</td>\n",
       "    </tr>\n",
       "    <tr>\n",
       "      <th>slot_precision</th>\n",
       "      <td>0.943303</td>\n",
       "      <td>0.130132</td>\n",
       "      <td>0.406407</td>\n",
       "      <td>0.415513</td>\n",
       "      <td>0.479299</td>\n",
       "      <td>0.374032</td>\n",
       "      <td>0.436841</td>\n",
       "      <td>0.551455</td>\n",
       "    </tr>\n",
       "    <tr>\n",
       "      <th>slot_recall</th>\n",
       "      <td>0.938653</td>\n",
       "      <td>0.105170</td>\n",
       "      <td>0.388039</td>\n",
       "      <td>0.368678</td>\n",
       "      <td>0.501348</td>\n",
       "      <td>0.351201</td>\n",
       "      <td>0.413733</td>\n",
       "      <td>0.574428</td>\n",
       "    </tr>\n",
       "    <tr>\n",
       "      <th>slot_f1</th>\n",
       "      <td>0.940972</td>\n",
       "      <td>0.116327</td>\n",
       "      <td>0.397011</td>\n",
       "      <td>0.390697</td>\n",
       "      <td>0.490076</td>\n",
       "      <td>0.362257</td>\n",
       "      <td>0.424973</td>\n",
       "      <td>0.562707</td>\n",
       "    </tr>\n",
       "    <tr>\n",
       "      <th>sementic_frame_acc</th>\n",
       "      <td>0.765957</td>\n",
       "      <td>0.000000</td>\n",
       "      <td>0.013438</td>\n",
       "      <td>0.015677</td>\n",
       "      <td>0.027996</td>\n",
       "      <td>0.013438</td>\n",
       "      <td>0.014558</td>\n",
       "      <td>0.069429</td>\n",
       "    </tr>\n",
       "    <tr>\n",
       "      <th>loss</th>\n",
       "      <td>0.419702</td>\n",
       "      <td>11.143451</td>\n",
       "      <td>4.632903</td>\n",
       "      <td>4.238055</td>\n",
       "      <td>3.945052</td>\n",
       "      <td>5.551876</td>\n",
       "      <td>3.720287</td>\n",
       "      <td>4.266611</td>\n",
       "    </tr>\n",
       "    <tr>\n",
       "      <th>time</th>\n",
       "      <td>1.779771</td>\n",
       "      <td>341.357085</td>\n",
       "      <td>62.361681</td>\n",
       "      <td>63.954083</td>\n",
       "      <td>61.017071</td>\n",
       "      <td>66.358013</td>\n",
       "      <td>60.998262</td>\n",
       "      <td>63.966939</td>\n",
       "    </tr>\n",
       "  </tbody>\n",
       "</table>\n",
       "</div>"
      ],
      "text/plain": [
       "                    No attack  Word level [ALL]  Word level [de]  \\\n",
       "intent_acc           0.964166          0.255319         0.684211   \n",
       "slot_precision       0.943303          0.130132         0.406407   \n",
       "slot_recall          0.938653          0.105170         0.388039   \n",
       "slot_f1              0.940972          0.116327         0.397011   \n",
       "sementic_frame_acc   0.765957          0.000000         0.013438   \n",
       "loss                 0.419702         11.143451         4.632903   \n",
       "time                 1.779771        341.357085        62.361681   \n",
       "\n",
       "                    Word level [es]  Word level [fr]  Word level [ja]  \\\n",
       "intent_acc                 0.731243         0.727884         0.632699   \n",
       "slot_precision             0.415513         0.479299         0.374032   \n",
       "slot_recall                0.368678         0.501348         0.351201   \n",
       "slot_f1                    0.390697         0.490076         0.362257   \n",
       "sementic_frame_acc         0.015677         0.027996         0.013438   \n",
       "loss                       4.238055         3.945052         5.551876   \n",
       "time                      63.954083        61.017071        66.358013   \n",
       "\n",
       "                    Word level [pt]  Word level [zh_cn]  \n",
       "intent_acc                 0.750280            0.651736  \n",
       "slot_precision             0.436841            0.551455  \n",
       "slot_recall                0.413733            0.574428  \n",
       "slot_f1                    0.424973            0.562707  \n",
       "sementic_frame_acc         0.014558            0.069429  \n",
       "loss                       3.720287            4.266611  \n",
       "time                      60.998262           63.966939  "
      ]
     },
     "execution_count": 3,
     "metadata": {},
     "output_type": "execute_result"
    }
   ],
   "source": [
    "results = pd.DataFrame.from_dict(results)\n",
    "\n",
    "results"
   ]
  },
  {
   "cell_type": "code",
   "execution_count": 4,
   "metadata": {
    "ExecuteTime": {
     "end_time": "2021-04-27T16:48:22.592237Z",
     "start_time": "2021-04-27T16:48:22.578724Z"
    }
   },
   "outputs": [],
   "source": [
    "results.to_csv(f'results/word_level_{config[\"model_name\"]}.csv')"
   ]
  },
  {
   "cell_type": "code",
   "execution_count": null,
   "metadata": {
    "ExecuteTime": {
     "start_time": "2021-05-01T09:22:43.337Z"
    }
   },
   "outputs": [
    {
     "name": "stderr",
     "output_type": "stream",
     "text": [
      "GENERATING ADVERSARIAL EXAMPLES: 100%|██████████| 893/893 [00:00<00:00, 2804.63it/s]\n",
      "GENERATING ADVERSARIAL EXAMPLES: 100%|██████████| 893/893 [05:52<00:00,  2.53it/s]\n",
      "GENERATING ADVERSARIAL EXAMPLES: 100%|██████████| 893/893 [01:06<00:00, 13.53it/s]\n",
      "GENERATING ADVERSARIAL EXAMPLES: 100%|██████████| 893/893 [01:08<00:00, 12.99it/s]\n",
      "GENERATING ADVERSARIAL EXAMPLES: 100%|██████████| 893/893 [01:08<00:00, 12.98it/s]\n",
      "GENERATING ADVERSARIAL EXAMPLES: 100%|██████████| 893/893 [00:55<00:00, 16.06it/s]\n",
      "GENERATING ADVERSARIAL EXAMPLES: 100%|██████████| 893/893 [01:07<00:00, 13.25it/s]\n",
      "GENERATING ADVERSARIAL EXAMPLES:  49%|████▉     | 441/893 [00:33<00:27, 16.54it/s]"
     ]
    }
   ],
   "source": [
    "results = {}\n",
    "\n",
    "results['No attack'] = Pacifist().attack_test()\n",
    "\n",
    "results['Alignments [ALL]'] = AdversarialAlignments().attack_test()\n",
    "\n",
    "for language in config['languages'][1:]:\n",
    "    results[f'Alignments [{language}]'] = AdversarialAlignments(languages=[language]).attack_test()"
   ]
  },
  {
   "cell_type": "code",
   "execution_count": null,
   "metadata": {
    "ExecuteTime": {
     "start_time": "2021-05-01T09:22:44.170Z"
    }
   },
   "outputs": [],
   "source": [
    "results = pd.DataFrame.from_dict(results)\n",
    "\n",
    "results"
   ]
  },
  {
   "cell_type": "code",
   "execution_count": null,
   "metadata": {
    "ExecuteTime": {
     "start_time": "2021-05-01T09:22:44.995Z"
    }
   },
   "outputs": [],
   "source": [
    "results.to_csv(f'results/alignments_{config[\"model_name\"]}.csv')"
   ]
  }
 ],
 "metadata": {
  "kernelspec": {
   "display_name": "diploma",
   "language": "python",
   "name": "diploma"
  },
  "language_info": {
   "codemirror_mode": {
    "name": "ipython",
    "version": 3
   },
   "file_extension": ".py",
   "mimetype": "text/x-python",
   "name": "python",
   "nbconvert_exporter": "python",
   "pygments_lexer": "ipython3",
   "version": "3.8.5"
  }
 },
 "nbformat": 4,
 "nbformat_minor": 4
}
