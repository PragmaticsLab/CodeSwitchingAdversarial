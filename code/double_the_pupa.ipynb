{
 "cells": [
  {
   "cell_type": "code",
   "execution_count": 1,
   "metadata": {
    "ExecuteTime": {
     "end_time": "2021-04-27T14:38:37.545718Z",
     "start_time": "2021-04-27T14:38:36.306150Z"
    }
   },
   "outputs": [],
   "source": [
    "import pandas as pd\n",
    "\n",
    "from adversarial import Pacifist, AdversarialWordLevel, AdversarialAlignments\n",
    "\n",
    "from utils import load_config"
   ]
  },
  {
   "cell_type": "code",
   "execution_count": 2,
   "metadata": {
    "ExecuteTime": {
     "end_time": "2021-04-27T14:51:45.482868Z",
     "start_time": "2021-04-27T14:38:38.065766Z"
    }
   },
   "outputs": [
    {
     "name": "stderr",
     "output_type": "stream",
     "text": [
      "GENERATING ADVERSARIAL EXAMPLES: 100%|██████████| 893/893 [00:00<00:00, 2849.99it/s]\n",
      "GENERATING ADVERSARIAL EXAMPLES: 100%|██████████| 893/893 [05:48<00:00,  2.56it/s]\n",
      "GENERATING ADVERSARIAL EXAMPLES: 100%|██████████| 893/893 [01:02<00:00, 14.26it/s]\n",
      "GENERATING ADVERSARIAL EXAMPLES: 100%|██████████| 893/893 [01:04<00:00, 13.84it/s]\n",
      "GENERATING ADVERSARIAL EXAMPLES: 100%|██████████| 893/893 [01:02<00:00, 14.40it/s]\n",
      "GENERATING ADVERSARIAL EXAMPLES: 100%|██████████| 893/893 [01:08<00:00, 13.02it/s]\n",
      "GENERATING ADVERSARIAL EXAMPLES: 100%|██████████| 893/893 [01:01<00:00, 14.47it/s]\n",
      "GENERATING ADVERSARIAL EXAMPLES: 100%|██████████| 893/893 [01:05<00:00, 13.66it/s]\n"
     ]
    }
   ],
   "source": [
    "results = {}\n",
    "\n",
    "results['No attack'] = Pacifist().attack_test()\n",
    "results['Word level [ALL]'] = AdversarialWordLevel().attack_test()\n",
    "\n",
    "for language in load_config()['languages'][1:]:\n",
    "    results[f'Word level [{language}]'] = AdversarialWordLevel(languages=[language]).attack_test()"
   ]
  },
  {
   "cell_type": "code",
   "execution_count": 3,
   "metadata": {
    "ExecuteTime": {
     "end_time": "2021-04-27T14:51:45.494017Z",
     "start_time": "2021-04-27T14:51:45.483849Z"
    }
   },
   "outputs": [
    {
     "data": {
      "text/html": [
       "<div>\n",
       "<style scoped>\n",
       "    .dataframe tbody tr th:only-of-type {\n",
       "        vertical-align: middle;\n",
       "    }\n",
       "\n",
       "    .dataframe tbody tr th {\n",
       "        vertical-align: top;\n",
       "    }\n",
       "\n",
       "    .dataframe thead th {\n",
       "        text-align: right;\n",
       "    }\n",
       "</style>\n",
       "<table border=\"1\" class=\"dataframe\">\n",
       "  <thead>\n",
       "    <tr style=\"text-align: right;\">\n",
       "      <th></th>\n",
       "      <th>No attack</th>\n",
       "      <th>Word level [ALL]</th>\n",
       "      <th>Word level [de]</th>\n",
       "      <th>Word level [es]</th>\n",
       "      <th>Word level [fr]</th>\n",
       "      <th>Word level [ja]</th>\n",
       "      <th>Word level [pt]</th>\n",
       "      <th>Word level [zh_cn]</th>\n",
       "    </tr>\n",
       "  </thead>\n",
       "  <tbody>\n",
       "    <tr>\n",
       "      <th>intent_acc</th>\n",
       "      <td>0.963046</td>\n",
       "      <td>0.306831</td>\n",
       "      <td>0.634938</td>\n",
       "      <td>0.693169</td>\n",
       "      <td>0.733483</td>\n",
       "      <td>0.648376</td>\n",
       "      <td>0.756999</td>\n",
       "      <td>0.647256</td>\n",
       "    </tr>\n",
       "    <tr>\n",
       "      <th>slot_precision</th>\n",
       "      <td>0.946555</td>\n",
       "      <td>0.125470</td>\n",
       "      <td>0.479969</td>\n",
       "      <td>0.443820</td>\n",
       "      <td>0.496411</td>\n",
       "      <td>0.305652</td>\n",
       "      <td>0.460466</td>\n",
       "      <td>0.514566</td>\n",
       "    </tr>\n",
       "    <tr>\n",
       "      <th>slot_recall</th>\n",
       "      <td>0.941762</td>\n",
       "      <td>0.101322</td>\n",
       "      <td>0.437601</td>\n",
       "      <td>0.358960</td>\n",
       "      <td>0.483566</td>\n",
       "      <td>0.346165</td>\n",
       "      <td>0.427406</td>\n",
       "      <td>0.543094</td>\n",
       "    </tr>\n",
       "    <tr>\n",
       "      <th>slot_f1</th>\n",
       "      <td>0.944152</td>\n",
       "      <td>0.112110</td>\n",
       "      <td>0.457806</td>\n",
       "      <td>0.396905</td>\n",
       "      <td>0.489904</td>\n",
       "      <td>0.324650</td>\n",
       "      <td>0.443321</td>\n",
       "      <td>0.528445</td>\n",
       "    </tr>\n",
       "    <tr>\n",
       "      <th>sementic_frame_acc</th>\n",
       "      <td>0.760358</td>\n",
       "      <td>0.000000</td>\n",
       "      <td>0.039194</td>\n",
       "      <td>0.016797</td>\n",
       "      <td>0.023516</td>\n",
       "      <td>0.006719</td>\n",
       "      <td>0.021277</td>\n",
       "      <td>0.047032</td>\n",
       "    </tr>\n",
       "    <tr>\n",
       "      <th>loss</th>\n",
       "      <td>0.477298</td>\n",
       "      <td>11.537210</td>\n",
       "      <td>4.790792</td>\n",
       "      <td>4.823491</td>\n",
       "      <td>4.401127</td>\n",
       "      <td>5.759876</td>\n",
       "      <td>3.941008</td>\n",
       "      <td>5.075119</td>\n",
       "    </tr>\n",
       "    <tr>\n",
       "      <th>time</th>\n",
       "      <td>1.792509</td>\n",
       "      <td>349.559240</td>\n",
       "      <td>63.844590</td>\n",
       "      <td>65.729264</td>\n",
       "      <td>63.148793</td>\n",
       "      <td>69.833704</td>\n",
       "      <td>62.835620</td>\n",
       "      <td>66.602288</td>\n",
       "    </tr>\n",
       "  </tbody>\n",
       "</table>\n",
       "</div>"
      ],
      "text/plain": [
       "                    No attack  Word level [ALL]  Word level [de]  \\\n",
       "intent_acc           0.963046          0.306831         0.634938   \n",
       "slot_precision       0.946555          0.125470         0.479969   \n",
       "slot_recall          0.941762          0.101322         0.437601   \n",
       "slot_f1              0.944152          0.112110         0.457806   \n",
       "sementic_frame_acc   0.760358          0.000000         0.039194   \n",
       "loss                 0.477298         11.537210         4.790792   \n",
       "time                 1.792509        349.559240        63.844590   \n",
       "\n",
       "                    Word level [es]  Word level [fr]  Word level [ja]  \\\n",
       "intent_acc                 0.693169         0.733483         0.648376   \n",
       "slot_precision             0.443820         0.496411         0.305652   \n",
       "slot_recall                0.358960         0.483566         0.346165   \n",
       "slot_f1                    0.396905         0.489904         0.324650   \n",
       "sementic_frame_acc         0.016797         0.023516         0.006719   \n",
       "loss                       4.823491         4.401127         5.759876   \n",
       "time                      65.729264        63.148793        69.833704   \n",
       "\n",
       "                    Word level [pt]  Word level [zh_cn]  \n",
       "intent_acc                 0.756999            0.647256  \n",
       "slot_precision             0.460466            0.514566  \n",
       "slot_recall                0.427406            0.543094  \n",
       "slot_f1                    0.443321            0.528445  \n",
       "sementic_frame_acc         0.021277            0.047032  \n",
       "loss                       3.941008            5.075119  \n",
       "time                      62.835620           66.602288  "
      ]
     },
     "execution_count": 3,
     "metadata": {},
     "output_type": "execute_result"
    }
   ],
   "source": [
    "results = pd.DataFrame.from_dict(results)\n",
    "\n",
    "results"
   ]
  },
  {
   "cell_type": "code",
   "execution_count": 4,
   "metadata": {
    "ExecuteTime": {
     "end_time": "2021-04-27T14:51:45.505133Z",
     "start_time": "2021-04-27T14:51:45.494849Z"
    }
   },
   "outputs": [],
   "source": [
    "results.to_csv('results/word_level_xlm-r.csv')"
   ]
  },
  {
   "cell_type": "code",
   "execution_count": 5,
   "metadata": {
    "ExecuteTime": {
     "end_time": "2021-04-27T15:04:59.088255Z",
     "start_time": "2021-04-27T14:51:45.505821Z"
    }
   },
   "outputs": [
    {
     "name": "stderr",
     "output_type": "stream",
     "text": [
      "GENERATING ADVERSARIAL EXAMPLES: 100%|██████████| 893/893 [00:00<00:00, 2771.33it/s]\n",
      "GENERATING ADVERSARIAL EXAMPLES: 100%|██████████| 893/893 [05:50<00:00,  2.55it/s]\n",
      "GENERATING ADVERSARIAL EXAMPLES: 100%|██████████| 893/893 [01:05<00:00, 13.58it/s]\n",
      "GENERATING ADVERSARIAL EXAMPLES: 100%|██████████| 893/893 [01:08<00:00, 13.01it/s]\n",
      "GENERATING ADVERSARIAL EXAMPLES: 100%|██████████| 893/893 [01:08<00:00, 13.10it/s]\n",
      "GENERATING ADVERSARIAL EXAMPLES: 100%|██████████| 893/893 [00:55<00:00, 16.11it/s]\n",
      "GENERATING ADVERSARIAL EXAMPLES: 100%|██████████| 893/893 [01:07<00:00, 13.15it/s]\n",
      "GENERATING ADVERSARIAL EXAMPLES: 100%|██████████| 893/893 [01:06<00:00, 13.33it/s]\n"
     ]
    }
   ],
   "source": [
    "results = {}\n",
    "\n",
    "results['No attack'] = Pacifist().attack_test()\n",
    "\n",
    "results['Alignments [ALL]'] = AdversarialAlignments().attack_test()\n",
    "\n",
    "for language in load_config()['languages'][1:]:\n",
    "    results[f'Alignments [{language}]'] = AdversarialAlignments(languages=[language]).attack_test()"
   ]
  },
  {
   "cell_type": "code",
   "execution_count": 6,
   "metadata": {
    "ExecuteTime": {
     "end_time": "2021-04-27T15:04:59.096446Z",
     "start_time": "2021-04-27T15:04:59.089493Z"
    }
   },
   "outputs": [
    {
     "data": {
      "text/html": [
       "<div>\n",
       "<style scoped>\n",
       "    .dataframe tbody tr th:only-of-type {\n",
       "        vertical-align: middle;\n",
       "    }\n",
       "\n",
       "    .dataframe tbody tr th {\n",
       "        vertical-align: top;\n",
       "    }\n",
       "\n",
       "    .dataframe thead th {\n",
       "        text-align: right;\n",
       "    }\n",
       "</style>\n",
       "<table border=\"1\" class=\"dataframe\">\n",
       "  <thead>\n",
       "    <tr style=\"text-align: right;\">\n",
       "      <th></th>\n",
       "      <th>No attack</th>\n",
       "      <th>Alignments [ALL]</th>\n",
       "      <th>Alignments [de]</th>\n",
       "      <th>Alignments [es]</th>\n",
       "      <th>Alignments [fr]</th>\n",
       "      <th>Alignments [ja]</th>\n",
       "      <th>Alignments [pt]</th>\n",
       "      <th>Alignments [zh_cn]</th>\n",
       "    </tr>\n",
       "  </thead>\n",
       "  <tbody>\n",
       "    <tr>\n",
       "      <th>intent_acc</th>\n",
       "      <td>0.963046</td>\n",
       "      <td>0.820829</td>\n",
       "      <td>0.918253</td>\n",
       "      <td>0.884658</td>\n",
       "      <td>0.895857</td>\n",
       "      <td>0.886898</td>\n",
       "      <td>0.875700</td>\n",
       "      <td>0.883539</td>\n",
       "    </tr>\n",
       "    <tr>\n",
       "      <th>slot_precision</th>\n",
       "      <td>0.946555</td>\n",
       "      <td>0.378972</td>\n",
       "      <td>0.738507</td>\n",
       "      <td>0.711230</td>\n",
       "      <td>0.667474</td>\n",
       "      <td>0.373536</td>\n",
       "      <td>0.718069</td>\n",
       "      <td>0.495592</td>\n",
       "    </tr>\n",
       "    <tr>\n",
       "      <th>slot_recall</th>\n",
       "      <td>0.941762</td>\n",
       "      <td>0.482675</td>\n",
       "      <td>0.755958</td>\n",
       "      <td>0.695930</td>\n",
       "      <td>0.698500</td>\n",
       "      <td>0.497735</td>\n",
       "      <td>0.735601</td>\n",
       "      <td>0.673207</td>\n",
       "    </tr>\n",
       "    <tr>\n",
       "      <th>slot_f1</th>\n",
       "      <td>0.944152</td>\n",
       "      <td>0.424583</td>\n",
       "      <td>0.747131</td>\n",
       "      <td>0.703497</td>\n",
       "      <td>0.682635</td>\n",
       "      <td>0.426783</td>\n",
       "      <td>0.726729</td>\n",
       "      <td>0.570904</td>\n",
       "    </tr>\n",
       "    <tr>\n",
       "      <th>sementic_frame_acc</th>\n",
       "      <td>0.760358</td>\n",
       "      <td>0.086226</td>\n",
       "      <td>0.381859</td>\n",
       "      <td>0.281075</td>\n",
       "      <td>0.300112</td>\n",
       "      <td>0.067189</td>\n",
       "      <td>0.353863</td>\n",
       "      <td>0.169093</td>\n",
       "    </tr>\n",
       "    <tr>\n",
       "      <th>loss</th>\n",
       "      <td>0.475430</td>\n",
       "      <td>5.365548</td>\n",
       "      <td>1.958091</td>\n",
       "      <td>2.053313</td>\n",
       "      <td>2.402508</td>\n",
       "      <td>4.510357</td>\n",
       "      <td>2.192647</td>\n",
       "      <td>3.259744</td>\n",
       "    </tr>\n",
       "    <tr>\n",
       "      <th>time</th>\n",
       "      <td>1.437225</td>\n",
       "      <td>351.767770</td>\n",
       "      <td>66.848539</td>\n",
       "      <td>69.736215</td>\n",
       "      <td>69.263472</td>\n",
       "      <td>56.667919</td>\n",
       "      <td>69.087126</td>\n",
       "      <td>68.255826</td>\n",
       "    </tr>\n",
       "  </tbody>\n",
       "</table>\n",
       "</div>"
      ],
      "text/plain": [
       "                    No attack  Alignments [ALL]  Alignments [de]  \\\n",
       "intent_acc           0.963046          0.820829         0.918253   \n",
       "slot_precision       0.946555          0.378972         0.738507   \n",
       "slot_recall          0.941762          0.482675         0.755958   \n",
       "slot_f1              0.944152          0.424583         0.747131   \n",
       "sementic_frame_acc   0.760358          0.086226         0.381859   \n",
       "loss                 0.475430          5.365548         1.958091   \n",
       "time                 1.437225        351.767770        66.848539   \n",
       "\n",
       "                    Alignments [es]  Alignments [fr]  Alignments [ja]  \\\n",
       "intent_acc                 0.884658         0.895857         0.886898   \n",
       "slot_precision             0.711230         0.667474         0.373536   \n",
       "slot_recall                0.695930         0.698500         0.497735   \n",
       "slot_f1                    0.703497         0.682635         0.426783   \n",
       "sementic_frame_acc         0.281075         0.300112         0.067189   \n",
       "loss                       2.053313         2.402508         4.510357   \n",
       "time                      69.736215        69.263472        56.667919   \n",
       "\n",
       "                    Alignments [pt]  Alignments [zh_cn]  \n",
       "intent_acc                 0.875700            0.883539  \n",
       "slot_precision             0.718069            0.495592  \n",
       "slot_recall                0.735601            0.673207  \n",
       "slot_f1                    0.726729            0.570904  \n",
       "sementic_frame_acc         0.353863            0.169093  \n",
       "loss                       2.192647            3.259744  \n",
       "time                      69.087126           68.255826  "
      ]
     },
     "execution_count": 6,
     "metadata": {},
     "output_type": "execute_result"
    }
   ],
   "source": [
    "results = pd.DataFrame.from_dict(results)\n",
    "\n",
    "results"
   ]
  },
  {
   "cell_type": "code",
   "execution_count": 7,
   "metadata": {
    "ExecuteTime": {
     "end_time": "2021-04-27T15:04:59.107451Z",
     "start_time": "2021-04-27T15:04:59.097268Z"
    }
   },
   "outputs": [],
   "source": [
    "results.to_csv('results/alignments_xlm-r.csv')"
   ]
  }
 ],
 "metadata": {
  "kernelspec": {
   "display_name": "diploma",
   "language": "python",
   "name": "diploma"
  },
  "language_info": {
   "codemirror_mode": {
    "name": "ipython",
    "version": 3
   },
   "file_extension": ".py",
   "mimetype": "text/x-python",
   "name": "python",
   "nbconvert_exporter": "python",
   "pygments_lexer": "ipython3",
   "version": "3.8.5"
  }
 },
 "nbformat": 4,
 "nbformat_minor": 4
}
