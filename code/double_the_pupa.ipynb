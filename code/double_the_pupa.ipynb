{
 "cells": [
  {
   "cell_type": "code",
   "execution_count": 1,
   "metadata": {
    "ExecuteTime": {
     "end_time": "2021-05-01T11:17:58.812422Z",
     "start_time": "2021-05-01T11:17:57.616611Z"
    }
   },
   "outputs": [],
   "source": [
    "import os\n",
    "import pandas as pd\n",
    "\n",
    "from adversarial import Pacifist, AdversarialWordLevel, AdversarialAlignments\n",
    "\n",
    "from utils import load_config\n",
    "\n",
    "config = load_config()"
   ]
  },
  {
   "cell_type": "code",
   "execution_count": 2,
   "metadata": {
    "ExecuteTime": {
     "end_time": "2021-05-01T11:57:18.652508Z",
     "start_time": "2021-05-01T11:17:58.813566Z"
    }
   },
   "outputs": [
    {
     "name": "stderr",
     "output_type": "stream",
     "text": [
      "GENERATING ADVERSARIAL EXAMPLES: 100%|██████████| 893/893 [00:00<00:00, 2825.71it/s]\n",
      "GENERATING ADVERSARIAL EXAMPLES: 100%|██████████| 893/893 [05:47<00:00,  2.57it/s]\n",
      "GENERATING ADVERSARIAL EXAMPLES: 100%|██████████| 893/893 [01:03<00:00, 14.14it/s]\n",
      "GENERATING ADVERSARIAL EXAMPLES: 100%|██████████| 893/893 [01:04<00:00, 13.82it/s]\n",
      "GENERATING ADVERSARIAL EXAMPLES: 100%|██████████| 893/893 [01:02<00:00, 14.39it/s]\n",
      "GENERATING ADVERSARIAL EXAMPLES: 100%|██████████| 893/893 [01:07<00:00, 13.24it/s]\n",
      "GENERATING ADVERSARIAL EXAMPLES: 100%|██████████| 893/893 [01:02<00:00, 14.33it/s]\n",
      "GENERATING ADVERSARIAL EXAMPLES: 100%|██████████| 893/893 [01:05<00:00, 13.66it/s]\n",
      "GENERATING ADVERSARIAL EXAMPLES: 100%|██████████| 893/893 [00:00<00:00, 2775.70it/s]\n",
      "GENERATING ADVERSARIAL EXAMPLES: 100%|██████████| 893/893 [05:52<00:00,  2.53it/s]\n",
      "GENERATING ADVERSARIAL EXAMPLES: 100%|██████████| 893/893 [01:06<00:00, 13.47it/s]\n",
      "GENERATING ADVERSARIAL EXAMPLES: 100%|██████████| 893/893 [01:09<00:00, 12.94it/s]\n",
      "GENERATING ADVERSARIAL EXAMPLES: 100%|██████████| 893/893 [01:08<00:00, 13.06it/s]\n",
      "GENERATING ADVERSARIAL EXAMPLES: 100%|██████████| 893/893 [00:56<00:00, 15.90it/s]\n",
      "GENERATING ADVERSARIAL EXAMPLES: 100%|██████████| 893/893 [01:07<00:00, 13.30it/s]\n",
      "GENERATING ADVERSARIAL EXAMPLES: 100%|██████████| 893/893 [01:04<00:00, 13.91it/s]\n",
      "GENERATING ADVERSARIAL EXAMPLES: 100%|██████████| 893/893 [00:00<00:00, 2718.88it/s]\n"
     ]
    },
    {
     "name": "stdout",
     "output_type": "stream",
     "text": [
      "Downloading data ...\n",
      "Downloading data ...\n",
      "Downloading data ...\n",
      "Downloading data ...\n",
      "Downloading data ...\n",
      "Downloading data ...\n"
     ]
    },
    {
     "name": "stderr",
     "output_type": "stream",
     "text": [
      "GENERATING ADVERSARIAL EXAMPLES: 100%|██████████| 893/893 [05:05<00:00,  2.92it/s]\n",
      "GENERATING ADVERSARIAL EXAMPLES: 100%|██████████| 893/893 [00:56<00:00, 15.80it/s]\n",
      "GENERATING ADVERSARIAL EXAMPLES: 100%|██████████| 893/893 [00:58<00:00, 15.15it/s]\n",
      "GENERATING ADVERSARIAL EXAMPLES: 100%|██████████| 893/893 [00:58<00:00, 15.20it/s]\n",
      "GENERATING ADVERSARIAL EXAMPLES: 100%|██████████| 893/893 [00:56<00:00, 15.90it/s]\n",
      "GENERATING ADVERSARIAL EXAMPLES: 100%|██████████| 893/893 [00:58<00:00, 15.34it/s]\n",
      "GENERATING ADVERSARIAL EXAMPLES: 100%|██████████| 893/893 [00:54<00:00, 16.44it/s]\n",
      "GENERATING ADVERSARIAL EXAMPLES: 100%|██████████| 893/893 [00:00<00:00, 2623.19it/s]\n"
     ]
    },
    {
     "ename": "FileNotFoundError",
     "evalue": "[Errno 2] No such file or directory: 'data/alignment/de_en.out'",
     "output_type": "error",
     "traceback": [
      "\u001b[0;31m---------------------------------------------------------------------------\u001b[0m",
      "\u001b[0;31mFileNotFoundError\u001b[0m                         Traceback (most recent call last)",
      "\u001b[0;32m<ipython-input-2-233a5e7c74b0>\u001b[0m in \u001b[0;36m<module>\u001b[0;34m\u001b[0m\n\u001b[1;32m     26\u001b[0m     \u001b[0mresults\u001b[0m\u001b[0;34m[\u001b[0m\u001b[0;34m'No attack'\u001b[0m\u001b[0;34m]\u001b[0m \u001b[0;34m=\u001b[0m \u001b[0mPacifist\u001b[0m\u001b[0;34m(\u001b[0m\u001b[0mbase_language\u001b[0m\u001b[0;34m=\u001b[0m\u001b[0mbase_language\u001b[0m\u001b[0;34m)\u001b[0m\u001b[0;34m.\u001b[0m\u001b[0mattack_test\u001b[0m\u001b[0;34m(\u001b[0m\u001b[0;34m)\u001b[0m\u001b[0;34m\u001b[0m\u001b[0;34m\u001b[0m\u001b[0m\n\u001b[1;32m     27\u001b[0m \u001b[0;34m\u001b[0m\u001b[0m\n\u001b[0;32m---> 28\u001b[0;31m     \u001b[0mresults\u001b[0m\u001b[0;34m[\u001b[0m\u001b[0;34m'Alignments [ALL]'\u001b[0m\u001b[0;34m]\u001b[0m \u001b[0;34m=\u001b[0m \u001b[0mAdversarialAlignments\u001b[0m\u001b[0;34m(\u001b[0m\u001b[0mbase_language\u001b[0m\u001b[0;34m=\u001b[0m\u001b[0mbase_language\u001b[0m\u001b[0;34m)\u001b[0m\u001b[0;34m.\u001b[0m\u001b[0mattack_test\u001b[0m\u001b[0;34m(\u001b[0m\u001b[0;34m)\u001b[0m\u001b[0;34m\u001b[0m\u001b[0;34m\u001b[0m\u001b[0m\n\u001b[0m\u001b[1;32m     29\u001b[0m \u001b[0;34m\u001b[0m\u001b[0m\n\u001b[1;32m     30\u001b[0m     \u001b[0;32mfor\u001b[0m \u001b[0mlanguage\u001b[0m \u001b[0;32min\u001b[0m \u001b[0mother_languages\u001b[0m\u001b[0;34m:\u001b[0m\u001b[0;34m\u001b[0m\u001b[0;34m\u001b[0m\u001b[0m\n",
      "\u001b[0;32m~/diploma/code/adversarial.py\u001b[0m in \u001b[0;36m__init__\u001b[0;34m(self, base_language, languages)\u001b[0m\n\u001b[1;32m    228\u001b[0m \u001b[0;34m\u001b[0m\u001b[0m\n\u001b[1;32m    229\u001b[0m         \u001b[0;32mfor\u001b[0m \u001b[0mlanguage\u001b[0m \u001b[0;32min\u001b[0m \u001b[0mself\u001b[0m\u001b[0;34m.\u001b[0m\u001b[0mlanguages\u001b[0m\u001b[0;34m:\u001b[0m\u001b[0;34m\u001b[0m\u001b[0;34m\u001b[0m\u001b[0m\n\u001b[0;32m--> 230\u001b[0;31m             \u001b[0;32mwith\u001b[0m \u001b[0mopen\u001b[0m\u001b[0;34m(\u001b[0m\u001b[0;34mf'data/alignment/{self.base_language}_{language}.out'\u001b[0m\u001b[0;34m)\u001b[0m \u001b[0;32mas\u001b[0m \u001b[0mf\u001b[0m\u001b[0;34m:\u001b[0m\u001b[0;34m\u001b[0m\u001b[0;34m\u001b[0m\u001b[0m\n\u001b[0m\u001b[1;32m    231\u001b[0m                 \u001b[0mself\u001b[0m\u001b[0;34m.\u001b[0m\u001b[0malignments\u001b[0m\u001b[0;34m[\u001b[0m\u001b[0mlanguage\u001b[0m\u001b[0;34m]\u001b[0m \u001b[0;34m=\u001b[0m \u001b[0mmapping_alignments\u001b[0m\u001b[0;34m(\u001b[0m\u001b[0mf\u001b[0m\u001b[0;34m.\u001b[0m\u001b[0mreadlines\u001b[0m\u001b[0;34m(\u001b[0m\u001b[0;34m)\u001b[0m\u001b[0;34m,\u001b[0m \u001b[0mread_atis\u001b[0m\u001b[0;34m(\u001b[0m\u001b[0;34m'test'\u001b[0m\u001b[0;34m,\u001b[0m \u001b[0;34m[\u001b[0m\u001b[0mlanguage\u001b[0m\u001b[0;34m]\u001b[0m\u001b[0;34m)\u001b[0m\u001b[0;34m[\u001b[0m\u001b[0;34m'utterance'\u001b[0m\u001b[0;34m]\u001b[0m\u001b[0;34m)\u001b[0m\u001b[0;34m\u001b[0m\u001b[0;34m\u001b[0m\u001b[0m\n\u001b[1;32m    232\u001b[0m \u001b[0;34m\u001b[0m\u001b[0m\n",
      "\u001b[0;31mFileNotFoundError\u001b[0m: [Errno 2] No such file or directory: 'data/alignment/de_en.out'"
     ]
    }
   ],
   "source": [
    "for base_language in config['languages']:\n",
    "    base_path = f'results/{base_language}/'\n",
    "\n",
    "    if not os.path.exists(base_path):\n",
    "        os.mkdir(base_path)\n",
    "\n",
    "    other_languages = list(config['languages'])\n",
    "    other_languages.remove(base_language)\n",
    "\n",
    "    # WORD LEVEL\n",
    "\n",
    "    results = {}\n",
    "\n",
    "    results['No attack'] = Pacifist(base_language=base_language).attack_test()\n",
    "    results['Word level [ALL]'] = AdversarialWordLevel(base_language=base_language).attack_test()\n",
    "\n",
    "    for language in other_languages:\n",
    "        results[f'Word level [{language}]'] = AdversarialWordLevel(base_language=base_language, languages=[language]).attack_test()\n",
    "\n",
    "    pd.DataFrame.from_dict(results).to_csv(base_path + f'word_level_{config[\"model_name\"]}.csv')\n",
    "\n",
    "    # ALIGNMENTS\n",
    "\n",
    "    results = {}\n",
    "\n",
    "    results['No attack'] = Pacifist(base_language=base_language).attack_test()\n",
    "\n",
    "    results['Alignments [ALL]'] = AdversarialAlignments(base_language=base_language).attack_test()\n",
    "\n",
    "    for language in other_languages:\n",
    "        results[f'Alignments [{language}]'] = AdversarialAlignments(base_language=base_language, languages=[language]).attack_test()\n",
    "\n",
    "    pd.DataFrame.from_dict(results).to_csv(base_path + f'alignments_{config[\"model_name\"]}.csv')"
   ]
  }
 ],
 "metadata": {
  "kernelspec": {
   "display_name": "diploma",
   "language": "python",
   "name": "diploma"
  },
  "language_info": {
   "codemirror_mode": {
    "name": "ipython",
    "version": 3
   },
   "file_extension": ".py",
   "mimetype": "text/x-python",
   "name": "python",
   "nbconvert_exporter": "python",
   "pygments_lexer": "ipython3",
   "version": "3.8.5"
  }
 },
 "nbformat": 4,
 "nbformat_minor": 4
}
