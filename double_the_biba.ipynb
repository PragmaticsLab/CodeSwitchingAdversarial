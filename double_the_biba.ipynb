{
 "cells": [
  {
   "cell_type": "code",
   "execution_count": 1,
   "metadata": {
    "ExecuteTime": {
     "end_time": "2021-04-24T18:48:34.274577Z",
     "start_time": "2021-04-24T18:40:48.454686Z"
    }
   },
   "outputs": [
    {
     "name": "stderr",
     "output_type": "stream",
     "text": [
      "GENERATING ADVERSARIAL EXAMPLES: 100%|██████████| 893/893 [06:19<00:00,  2.35it/s]\n"
     ]
    },
    {
     "name": "stdout",
     "output_type": "stream",
     "text": [
      "{'loss [VALID]': 9.624550078596387, 'intent_acc': 0.3561030235162374, 'slot_precision': 0.2343921139101862, 'slot_recall': 0.20185505423675523, 'slot_f1': 0.2169102120111496, 'sementic_frame_acc': 0.0033594624860022394}\n"
     ]
    },
    {
     "name": "stderr",
     "output_type": "stream",
     "text": [
      "GENERATING ADVERSARIAL EXAMPLES: 100%|██████████| 893/893 [01:08<00:00, 13.01it/s]\n"
     ]
    },
    {
     "name": "stdout",
     "output_type": "stream",
     "text": [
      "{'loss [VALID]': 4.181268239659922, 'intent_acc': 0.7189249720044792, 'slot_precision': 0.5044029587883058, 'slot_recall': 0.49066301182114097, 'slot_f1': 0.4974381241858446, 'sementic_frame_acc': 0.04927211646136618}\n"
     ]
    }
   ],
   "source": [
    "from adversarial import Adversarial1, Adversarial2, evaluate_adversarial\n",
    "\n",
    "for attacker in [Adversarial1, Adversarial2]:\n",
    "    print(evaluate_adversarial(attacker))"
   ]
  }
 ],
 "metadata": {
  "kernelspec": {
   "display_name": "diploma",
   "language": "python",
   "name": "diploma"
  },
  "language_info": {
   "codemirror_mode": {
    "name": "ipython",
    "version": 3
   },
   "file_extension": ".py",
   "mimetype": "text/x-python",
   "name": "python",
   "nbconvert_exporter": "python",
   "pygments_lexer": "ipython3",
   "version": "3.8.5"
  }
 },
 "nbformat": 4,
 "nbformat_minor": 4
}
