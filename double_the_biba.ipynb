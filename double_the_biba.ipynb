{
 "cells": [
  {
   "cell_type": "code",
   "execution_count": 1,
   "metadata": {
    "ExecuteTime": {
     "end_time": "2021-04-24T13:43:02.026023Z",
     "start_time": "2021-04-24T13:10:58.768734Z"
    }
   },
   "outputs": [
    {
     "name": "stderr",
     "output_type": "stream",
     "text": [
      "GENERATING ADVERSARIAL EXAMPLES: 100%|██████████| 6251/6251 [26:18<00:00,  3.96it/s] \n"
     ]
    },
    {
     "name": "stdout",
     "output_type": "stream",
     "text": [
      "{'loss [VALID]': 3.739479914059877, 'intent_acc': 0.8421052631578947, 'slot_precision': 0.5203602259043807, 'slot_recall': 0.6107207547920938, 'slot_f1': 0.5619311001630005, 'sementic_frame_acc': 0.18221084626459766}\n"
     ]
    },
    {
     "name": "stderr",
     "output_type": "stream",
     "text": [
      "GENERATING ADVERSARIAL EXAMPLES: 100%|██████████| 6251/6251 [05:13<00:00, 19.93it/s] \n"
     ]
    },
    {
     "name": "stdout",
     "output_type": "stream",
     "text": [
      "{'loss [VALID]': 1.9636693492036341, 'intent_acc': 0.9022556390977443, 'slot_precision': 0.6895716724226907, 'slot_recall': 0.7430013473342031, 'slot_f1': 0.715290145252777, 'sementic_frame_acc': 0.2788353863381859}\n"
     ]
    }
   ],
   "source": [
    "from adversarial import Adversarial1, Adversarial2, evaluate_adversarial\n",
    "\n",
    "for attacker in [Adversarial1, Adversarial2]:\n",
    "    print(evaluate_adversarial(attacker))"
   ]
  },
  {
   "cell_type": "code",
   "execution_count": null,
   "metadata": {},
   "outputs": [],
   "source": []
  }
 ],
 "metadata": {
  "kernelspec": {
   "display_name": "diploma",
   "language": "python",
   "name": "diploma"
  },
  "language_info": {
   "codemirror_mode": {
    "name": "ipython",
    "version": 3
   },
   "file_extension": ".py",
   "mimetype": "text/x-python",
   "name": "python",
   "nbconvert_exporter": "python",
   "pygments_lexer": "ipython3",
   "version": "3.8.5"
  }
 },
 "nbformat": 4,
 "nbformat_minor": 4
}
