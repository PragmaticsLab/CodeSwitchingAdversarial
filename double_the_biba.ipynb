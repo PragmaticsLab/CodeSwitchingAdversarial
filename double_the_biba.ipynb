{
 "cells": [
  {
   "cell_type": "code",
   "execution_count": 1,
   "metadata": {
    "ExecuteTime": {
     "end_time": "2021-04-23T12:48:56.775910Z",
     "start_time": "2021-04-23T12:48:56.571546Z"
    }
   },
   "outputs": [],
   "source": [
    "import pandas as pd\n",
    "import numpy as np"
   ]
  },
  {
   "cell_type": "code",
   "execution_count": 4,
   "metadata": {
    "ExecuteTime": {
     "end_time": "2021-04-23T12:48:59.001809Z",
     "start_time": "2021-04-23T12:48:58.999768Z"
    }
   },
   "outputs": [],
   "source": [
    "sentence = test.iloc[0]['utterance'].split()"
   ]
  },
  {
   "cell_type": "code",
   "execution_count": 5,
   "metadata": {
    "ExecuteTime": {
     "end_time": "2021-04-23T12:48:59.499783Z",
     "start_time": "2021-04-23T12:48:59.494557Z"
    }
   },
   "outputs": [
    {
     "data": {
      "text/plain": [
       "['i',\n",
       " 'would',\n",
       " 'like',\n",
       " 'to',\n",
       " 'find',\n",
       " 'a',\n",
       " 'flight',\n",
       " 'from',\n",
       " 'charlotte',\n",
       " 'to',\n",
       " 'las',\n",
       " 'vegas',\n",
       " 'that',\n",
       " 'makes',\n",
       " 'a',\n",
       " 'stop',\n",
       " 'in',\n",
       " 'st.',\n",
       " 'louis']"
      ]
     },
     "execution_count": 5,
     "metadata": {},
     "output_type": "execute_result"
    }
   ],
   "source": [
    "sentence"
   ]
  },
  {
   "cell_type": "code",
   "execution_count": 15,
   "metadata": {
    "ExecuteTime": {
     "end_time": "2021-04-23T12:57:30.612587Z",
     "start_time": "2021-04-23T12:57:30.610989Z"
    }
   },
   "outputs": [],
   "source": [
    "def calculate_loss(x, y, i, token):\n",
    "    return np.random.normal(0, 10)"
   ]
  },
  {
   "cell_type": "code",
   "execution_count": 16,
   "metadata": {
    "ExecuteTime": {
     "end_time": "2021-04-23T12:57:33.080353Z",
     "start_time": "2021-04-23T12:57:32.095284Z"
    }
   },
   "outputs": [],
   "source": [
    "from word2word import Word2word\n",
    "\n",
    "models = {lang: Word2word('en', lang) for lang in langs[1:]}"
   ]
  },
  {
   "cell_type": "code",
   "execution_count": 13,
   "metadata": {
    "ExecuteTime": {
     "end_time": "2021-04-23T12:50:32.544492Z",
     "start_time": "2021-04-23T12:50:32.537593Z"
    }
   },
   "outputs": [
    {
     "name": "stdout",
     "output_type": "stream",
     "text": [
      "de\n",
      "denke würdest gefällt möchte findest paar Flug vom Charlotte möchte las vegas dieser bringt paar stopp drin st. Louis \n",
      "es\n",
      "dije Sería gustan quería encontraré buen vuelo viene Charlotte quería Vegas vegas Eso convierte buen detente entrar st. Louis \n",
      "fr\n",
      "crois ferait aimes parler trouvera beaucoup vol loin Charlotte parler Las vegas est-ce rend beaucoup stop monde st. Louis \n",
      "ja\n",
      " ―― はず まるで 戻 見つけ 少し 飛行 離れ シャルロット 戻 おいら ラスベガス そんな 作 少し 止め 入れ st. louis \n",
      "pt\n",
      "Posso Seria Gosto Quero encontrá-la boa voo partir Charlotte Quero Las vegas aquela faz-me boa parem entrar st. Luís \n",
      "zh_cn\n",
      "♪ would like to f 一下 航班 来自 charlotte to Las 维加斯 那样 makes 一下 stop in 萨莎住 Louis \n"
     ]
    }
   ],
   "source": [
    "for lang in langs[1:]:\n",
    "    print(lang)\n",
    "\n",
    "    for token in sentence:\n",
    "        try:\n",
    "            print(models[lang](token, n_best=1)[0], end=' ')\n",
    "        except KeyError:\n",
    "            print(token, end=' ')\n",
    "\n",
    "    print()"
   ]
  },
  {
   "cell_type": "code",
   "execution_count": 18,
   "metadata": {
    "ExecuteTime": {
     "end_time": "2021-04-23T12:58:08.178853Z",
     "start_time": "2021-04-23T12:58:08.173487Z"
    }
   },
   "outputs": [
    {
     "name": "stdout",
     "output_type": "stream",
     "text": [
      "0 i would like to find a flight from charlotte to las vegas that makes a stop in st. louis\n",
      "\n",
      "1 dije would like to find a flight from charlotte to las vegas that makes a stop in st. louis\n",
      "\n",
      "2 dije würdest like to find a flight from charlotte to las vegas that makes a stop in st. louis\n",
      "\n",
      "3 dije würdest Gosto to find a flight from charlotte to las vegas that makes a stop in st. louis\n",
      "\n",
      "4 dije würdest Gosto parler find a flight from charlotte to las vegas that makes a stop in st. louis\n",
      "\n",
      "5 dije würdest Gosto parler encontrá-la a flight from charlotte to las vegas that makes a stop in st. louis\n",
      "\n",
      "6 dije würdest Gosto parler encontrá-la buen flight from charlotte to las vegas that makes a stop in st. louis\n",
      "\n",
      "7 dije würdest Gosto parler encontrá-la buen 飛行 from charlotte to las vegas that makes a stop in st. louis\n",
      "\n",
      "8 dije würdest Gosto parler encontrá-la buen 飛行 来自 charlotte to las vegas that makes a stop in st. louis\n",
      "\n",
      "9 dije würdest Gosto parler encontrá-la buen 飛行 来自 Charlotte to las vegas that makes a stop in st. louis\n",
      "\n",
      "10 dije würdest Gosto parler encontrá-la buen 飛行 来自 Charlotte to las vegas that makes a stop in st. louis\n",
      "\n",
      "11 dije würdest Gosto parler encontrá-la buen 飛行 来自 Charlotte to Las vegas that makes a stop in st. louis\n",
      "\n",
      "12 dije würdest Gosto parler encontrá-la buen 飛行 来自 Charlotte to Las ラスベガス that makes a stop in st. louis\n",
      "\n",
      "13 dije würdest Gosto parler encontrá-la buen 飛行 来自 Charlotte to Las ラスベガス Eso makes a stop in st. louis\n",
      "\n",
      "14 dije würdest Gosto parler encontrá-la buen 飛行 来自 Charlotte to Las ラスベガス Eso convierte a stop in st. louis\n",
      "\n",
      "15 dije würdest Gosto parler encontrá-la buen 飛行 来自 Charlotte to Las ラスベガス Eso convierte 少し stop in st. louis\n",
      "\n",
      "16 dije würdest Gosto parler encontrá-la buen 飛行 来自 Charlotte to Las ラスベガス Eso convierte 少し stop in st. louis\n",
      "\n",
      "17 dije würdest Gosto parler encontrá-la buen 飛行 来自 Charlotte to Las ラスベガス Eso convierte 少し stop monde st. louis\n",
      "\n",
      "18 dije würdest Gosto parler encontrá-la buen 飛行 来自 Charlotte to Las ラスベガス Eso convierte 少し stop monde 萨莎住 louis\n",
      "\n"
     ]
    }
   ],
   "source": [
    "from copy import deepcopy\n",
    "\n",
    "x = sentence\n",
    "y = None\n",
    "i = 0\n",
    "l = calculate_loss(x, y, i, None)\n",
    "\n",
    "\n",
    "while i < len(sentence):\n",
    "    print(i, ' '.join(x))\n",
    "\n",
    "    losses = []\n",
    "\n",
    "    for lang in langs[1:]:\n",
    "        try:\n",
    "            token = models[lang](x[i], n_best=1)[0]\n",
    "            losses.append((token, calculate_loss(x, y, i, token)))\n",
    "        except KeyError:\n",
    "            pass\n",
    "\n",
    "    token, _ = max(losses, key=lambda x: x[1])\n",
    "    x[i] = token\n",
    "\n",
    "    i += 1\n",
    "    print()"
   ]
  }
 ],
 "metadata": {
  "kernelspec": {
   "display_name": "diploma",
   "language": "python",
   "name": "diploma"
  },
  "language_info": {
   "codemirror_mode": {
    "name": "ipython",
    "version": 3
   },
   "file_extension": ".py",
   "mimetype": "text/x-python",
   "name": "python",
   "nbconvert_exporter": "python",
   "pygments_lexer": "ipython3",
   "version": "3.8.5"
  }
 },
 "nbformat": 4,
 "nbformat_minor": 4
}
